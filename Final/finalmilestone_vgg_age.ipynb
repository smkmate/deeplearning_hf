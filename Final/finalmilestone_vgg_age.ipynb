{
  "nbformat": 4,
  "nbformat_minor": 0,
  "metadata": {
    "colab": {
      "provenance": [],
      "include_colab_link": true
    },
    "kernelspec": {
      "name": "python3",
      "display_name": "Python 3"
    },
    "language_info": {
      "name": "python"
    },
    "accelerator": "GPU",
    "gpuClass": "standard",
    "widgets": {
      "application/vnd.jupyter.widget-state+json": {
        "0a283521d5af400284a64784af26588f": {
          "model_module": "@jupyter-widgets/controls",
          "model_name": "HBoxModel",
          "model_module_version": "1.5.0",
          "state": {
            "_dom_classes": [],
            "_model_module": "@jupyter-widgets/controls",
            "_model_module_version": "1.5.0",
            "_model_name": "HBoxModel",
            "_view_count": null,
            "_view_module": "@jupyter-widgets/controls",
            "_view_module_version": "1.5.0",
            "_view_name": "HBoxView",
            "box_style": "",
            "children": [
              "IPY_MODEL_2c5f118872a044978f40b637fe52b3f2",
              "IPY_MODEL_2e5bd2f62acf4ef68030dcb4e464c558",
              "IPY_MODEL_0c00306a745e4461a390ae46419acc5e"
            ],
            "layout": "IPY_MODEL_adfaa7546559463fb7855946a83356cb"
          }
        },
        "2c5f118872a044978f40b637fe52b3f2": {
          "model_module": "@jupyter-widgets/controls",
          "model_name": "HTMLModel",
          "model_module_version": "1.5.0",
          "state": {
            "_dom_classes": [],
            "_model_module": "@jupyter-widgets/controls",
            "_model_module_version": "1.5.0",
            "_model_name": "HTMLModel",
            "_view_count": null,
            "_view_module": "@jupyter-widgets/controls",
            "_view_module_version": "1.5.0",
            "_view_name": "HTMLView",
            "description": "",
            "description_tooltip": null,
            "layout": "IPY_MODEL_5d98cd09de9b4dc89ca124644d08034e",
            "placeholder": "​",
            "style": "IPY_MODEL_05b5ddd5cbcc45019b515667d7d59d75",
            "value": "100%"
          }
        },
        "2e5bd2f62acf4ef68030dcb4e464c558": {
          "model_module": "@jupyter-widgets/controls",
          "model_name": "FloatProgressModel",
          "model_module_version": "1.5.0",
          "state": {
            "_dom_classes": [],
            "_model_module": "@jupyter-widgets/controls",
            "_model_module_version": "1.5.0",
            "_model_name": "FloatProgressModel",
            "_view_count": null,
            "_view_module": "@jupyter-widgets/controls",
            "_view_module_version": "1.5.0",
            "_view_name": "ProgressView",
            "bar_style": "success",
            "description": "",
            "description_tooltip": null,
            "layout": "IPY_MODEL_768d3b1f3f9f4da5b42b0014a2805775",
            "max": 2440,
            "min": 0,
            "orientation": "horizontal",
            "style": "IPY_MODEL_de5ba3d74cbb4c369ac0f1b1cb7047a4",
            "value": 2440
          }
        },
        "0c00306a745e4461a390ae46419acc5e": {
          "model_module": "@jupyter-widgets/controls",
          "model_name": "HTMLModel",
          "model_module_version": "1.5.0",
          "state": {
            "_dom_classes": [],
            "_model_module": "@jupyter-widgets/controls",
            "_model_module_version": "1.5.0",
            "_model_name": "HTMLModel",
            "_view_count": null,
            "_view_module": "@jupyter-widgets/controls",
            "_view_module_version": "1.5.0",
            "_view_name": "HTMLView",
            "description": "",
            "description_tooltip": null,
            "layout": "IPY_MODEL_77735384190340958e715d05529453e2",
            "placeholder": "​",
            "style": "IPY_MODEL_6b1160bde2394cdaa048c10494dbe482",
            "value": " 2440/2440 [23:47&lt;00:00,  1.71it/s]"
          }
        },
        "adfaa7546559463fb7855946a83356cb": {
          "model_module": "@jupyter-widgets/base",
          "model_name": "LayoutModel",
          "model_module_version": "1.2.0",
          "state": {
            "_model_module": "@jupyter-widgets/base",
            "_model_module_version": "1.2.0",
            "_model_name": "LayoutModel",
            "_view_count": null,
            "_view_module": "@jupyter-widgets/base",
            "_view_module_version": "1.2.0",
            "_view_name": "LayoutView",
            "align_content": null,
            "align_items": null,
            "align_self": null,
            "border": null,
            "bottom": null,
            "display": null,
            "flex": null,
            "flex_flow": null,
            "grid_area": null,
            "grid_auto_columns": null,
            "grid_auto_flow": null,
            "grid_auto_rows": null,
            "grid_column": null,
            "grid_gap": null,
            "grid_row": null,
            "grid_template_areas": null,
            "grid_template_columns": null,
            "grid_template_rows": null,
            "height": null,
            "justify_content": null,
            "justify_items": null,
            "left": null,
            "margin": null,
            "max_height": null,
            "max_width": null,
            "min_height": null,
            "min_width": null,
            "object_fit": null,
            "object_position": null,
            "order": null,
            "overflow": null,
            "overflow_x": null,
            "overflow_y": null,
            "padding": null,
            "right": null,
            "top": null,
            "visibility": null,
            "width": null
          }
        },
        "5d98cd09de9b4dc89ca124644d08034e": {
          "model_module": "@jupyter-widgets/base",
          "model_name": "LayoutModel",
          "model_module_version": "1.2.0",
          "state": {
            "_model_module": "@jupyter-widgets/base",
            "_model_module_version": "1.2.0",
            "_model_name": "LayoutModel",
            "_view_count": null,
            "_view_module": "@jupyter-widgets/base",
            "_view_module_version": "1.2.0",
            "_view_name": "LayoutView",
            "align_content": null,
            "align_items": null,
            "align_self": null,
            "border": null,
            "bottom": null,
            "display": null,
            "flex": null,
            "flex_flow": null,
            "grid_area": null,
            "grid_auto_columns": null,
            "grid_auto_flow": null,
            "grid_auto_rows": null,
            "grid_column": null,
            "grid_gap": null,
            "grid_row": null,
            "grid_template_areas": null,
            "grid_template_columns": null,
            "grid_template_rows": null,
            "height": null,
            "justify_content": null,
            "justify_items": null,
            "left": null,
            "margin": null,
            "max_height": null,
            "max_width": null,
            "min_height": null,
            "min_width": null,
            "object_fit": null,
            "object_position": null,
            "order": null,
            "overflow": null,
            "overflow_x": null,
            "overflow_y": null,
            "padding": null,
            "right": null,
            "top": null,
            "visibility": null,
            "width": null
          }
        },
        "05b5ddd5cbcc45019b515667d7d59d75": {
          "model_module": "@jupyter-widgets/controls",
          "model_name": "DescriptionStyleModel",
          "model_module_version": "1.5.0",
          "state": {
            "_model_module": "@jupyter-widgets/controls",
            "_model_module_version": "1.5.0",
            "_model_name": "DescriptionStyleModel",
            "_view_count": null,
            "_view_module": "@jupyter-widgets/base",
            "_view_module_version": "1.2.0",
            "_view_name": "StyleView",
            "description_width": ""
          }
        },
        "768d3b1f3f9f4da5b42b0014a2805775": {
          "model_module": "@jupyter-widgets/base",
          "model_name": "LayoutModel",
          "model_module_version": "1.2.0",
          "state": {
            "_model_module": "@jupyter-widgets/base",
            "_model_module_version": "1.2.0",
            "_model_name": "LayoutModel",
            "_view_count": null,
            "_view_module": "@jupyter-widgets/base",
            "_view_module_version": "1.2.0",
            "_view_name": "LayoutView",
            "align_content": null,
            "align_items": null,
            "align_self": null,
            "border": null,
            "bottom": null,
            "display": null,
            "flex": null,
            "flex_flow": null,
            "grid_area": null,
            "grid_auto_columns": null,
            "grid_auto_flow": null,
            "grid_auto_rows": null,
            "grid_column": null,
            "grid_gap": null,
            "grid_row": null,
            "grid_template_areas": null,
            "grid_template_columns": null,
            "grid_template_rows": null,
            "height": null,
            "justify_content": null,
            "justify_items": null,
            "left": null,
            "margin": null,
            "max_height": null,
            "max_width": null,
            "min_height": null,
            "min_width": null,
            "object_fit": null,
            "object_position": null,
            "order": null,
            "overflow": null,
            "overflow_x": null,
            "overflow_y": null,
            "padding": null,
            "right": null,
            "top": null,
            "visibility": null,
            "width": null
          }
        },
        "de5ba3d74cbb4c369ac0f1b1cb7047a4": {
          "model_module": "@jupyter-widgets/controls",
          "model_name": "ProgressStyleModel",
          "model_module_version": "1.5.0",
          "state": {
            "_model_module": "@jupyter-widgets/controls",
            "_model_module_version": "1.5.0",
            "_model_name": "ProgressStyleModel",
            "_view_count": null,
            "_view_module": "@jupyter-widgets/base",
            "_view_module_version": "1.2.0",
            "_view_name": "StyleView",
            "bar_color": null,
            "description_width": ""
          }
        },
        "77735384190340958e715d05529453e2": {
          "model_module": "@jupyter-widgets/base",
          "model_name": "LayoutModel",
          "model_module_version": "1.2.0",
          "state": {
            "_model_module": "@jupyter-widgets/base",
            "_model_module_version": "1.2.0",
            "_model_name": "LayoutModel",
            "_view_count": null,
            "_view_module": "@jupyter-widgets/base",
            "_view_module_version": "1.2.0",
            "_view_name": "LayoutView",
            "align_content": null,
            "align_items": null,
            "align_self": null,
            "border": null,
            "bottom": null,
            "display": null,
            "flex": null,
            "flex_flow": null,
            "grid_area": null,
            "grid_auto_columns": null,
            "grid_auto_flow": null,
            "grid_auto_rows": null,
            "grid_column": null,
            "grid_gap": null,
            "grid_row": null,
            "grid_template_areas": null,
            "grid_template_columns": null,
            "grid_template_rows": null,
            "height": null,
            "justify_content": null,
            "justify_items": null,
            "left": null,
            "margin": null,
            "max_height": null,
            "max_width": null,
            "min_height": null,
            "min_width": null,
            "object_fit": null,
            "object_position": null,
            "order": null,
            "overflow": null,
            "overflow_x": null,
            "overflow_y": null,
            "padding": null,
            "right": null,
            "top": null,
            "visibility": null,
            "width": null
          }
        },
        "6b1160bde2394cdaa048c10494dbe482": {
          "model_module": "@jupyter-widgets/controls",
          "model_name": "DescriptionStyleModel",
          "model_module_version": "1.5.0",
          "state": {
            "_model_module": "@jupyter-widgets/controls",
            "_model_module_version": "1.5.0",
            "_model_name": "DescriptionStyleModel",
            "_view_count": null,
            "_view_module": "@jupyter-widgets/base",
            "_view_module_version": "1.2.0",
            "_view_name": "StyleView",
            "description_width": ""
          }
        },
        "7e22e5acf15f4f5f8f807f380f60410e": {
          "model_module": "@jupyter-widgets/controls",
          "model_name": "HBoxModel",
          "model_module_version": "1.5.0",
          "state": {
            "_dom_classes": [],
            "_model_module": "@jupyter-widgets/controls",
            "_model_module_version": "1.5.0",
            "_model_name": "HBoxModel",
            "_view_count": null,
            "_view_module": "@jupyter-widgets/controls",
            "_view_module_version": "1.5.0",
            "_view_name": "HBoxView",
            "box_style": "",
            "children": [
              "IPY_MODEL_20fe564bb74d4b04a6d932a9cac0e330",
              "IPY_MODEL_512ecb0cae624060b75ecffee6ddb7ee",
              "IPY_MODEL_102073de3d4645bbb7a42ae776e48405"
            ],
            "layout": "IPY_MODEL_cfc2da1ceafd4363b375c8b56f8ba418"
          }
        },
        "20fe564bb74d4b04a6d932a9cac0e330": {
          "model_module": "@jupyter-widgets/controls",
          "model_name": "HTMLModel",
          "model_module_version": "1.5.0",
          "state": {
            "_dom_classes": [],
            "_model_module": "@jupyter-widgets/controls",
            "_model_module_version": "1.5.0",
            "_model_name": "HTMLModel",
            "_view_count": null,
            "_view_module": "@jupyter-widgets/controls",
            "_view_module_version": "1.5.0",
            "_view_name": "HTMLView",
            "description": "",
            "description_tooltip": null,
            "layout": "IPY_MODEL_9a8aaf2354f140309f5aded7ab65af6c",
            "placeholder": "​",
            "style": "IPY_MODEL_441c30e639aa447e9132de5757a970d8",
            "value": "100%"
          }
        },
        "512ecb0cae624060b75ecffee6ddb7ee": {
          "model_module": "@jupyter-widgets/controls",
          "model_name": "FloatProgressModel",
          "model_module_version": "1.5.0",
          "state": {
            "_dom_classes": [],
            "_model_module": "@jupyter-widgets/controls",
            "_model_module_version": "1.5.0",
            "_model_name": "FloatProgressModel",
            "_view_count": null,
            "_view_module": "@jupyter-widgets/controls",
            "_view_module_version": "1.5.0",
            "_view_name": "ProgressView",
            "bar_style": "success",
            "description": "",
            "description_tooltip": null,
            "layout": "IPY_MODEL_e7bd0422e44b440e9ad94ab04b39a191",
            "max": 2440,
            "min": 0,
            "orientation": "horizontal",
            "style": "IPY_MODEL_84cab79b2d0b44a0a4bd1dd534de6359",
            "value": 2440
          }
        },
        "102073de3d4645bbb7a42ae776e48405": {
          "model_module": "@jupyter-widgets/controls",
          "model_name": "HTMLModel",
          "model_module_version": "1.5.0",
          "state": {
            "_dom_classes": [],
            "_model_module": "@jupyter-widgets/controls",
            "_model_module_version": "1.5.0",
            "_model_name": "HTMLModel",
            "_view_count": null,
            "_view_module": "@jupyter-widgets/controls",
            "_view_module_version": "1.5.0",
            "_view_name": "HTMLView",
            "description": "",
            "description_tooltip": null,
            "layout": "IPY_MODEL_1e387adff39b47e4ade9eb7c2e8df519",
            "placeholder": "​",
            "style": "IPY_MODEL_79637411a12a41f18385425cb0d6a411",
            "value": " 2440/2440 [23:41&lt;00:00,  1.72it/s]"
          }
        },
        "cfc2da1ceafd4363b375c8b56f8ba418": {
          "model_module": "@jupyter-widgets/base",
          "model_name": "LayoutModel",
          "model_module_version": "1.2.0",
          "state": {
            "_model_module": "@jupyter-widgets/base",
            "_model_module_version": "1.2.0",
            "_model_name": "LayoutModel",
            "_view_count": null,
            "_view_module": "@jupyter-widgets/base",
            "_view_module_version": "1.2.0",
            "_view_name": "LayoutView",
            "align_content": null,
            "align_items": null,
            "align_self": null,
            "border": null,
            "bottom": null,
            "display": null,
            "flex": null,
            "flex_flow": null,
            "grid_area": null,
            "grid_auto_columns": null,
            "grid_auto_flow": null,
            "grid_auto_rows": null,
            "grid_column": null,
            "grid_gap": null,
            "grid_row": null,
            "grid_template_areas": null,
            "grid_template_columns": null,
            "grid_template_rows": null,
            "height": null,
            "justify_content": null,
            "justify_items": null,
            "left": null,
            "margin": null,
            "max_height": null,
            "max_width": null,
            "min_height": null,
            "min_width": null,
            "object_fit": null,
            "object_position": null,
            "order": null,
            "overflow": null,
            "overflow_x": null,
            "overflow_y": null,
            "padding": null,
            "right": null,
            "top": null,
            "visibility": null,
            "width": null
          }
        },
        "9a8aaf2354f140309f5aded7ab65af6c": {
          "model_module": "@jupyter-widgets/base",
          "model_name": "LayoutModel",
          "model_module_version": "1.2.0",
          "state": {
            "_model_module": "@jupyter-widgets/base",
            "_model_module_version": "1.2.0",
            "_model_name": "LayoutModel",
            "_view_count": null,
            "_view_module": "@jupyter-widgets/base",
            "_view_module_version": "1.2.0",
            "_view_name": "LayoutView",
            "align_content": null,
            "align_items": null,
            "align_self": null,
            "border": null,
            "bottom": null,
            "display": null,
            "flex": null,
            "flex_flow": null,
            "grid_area": null,
            "grid_auto_columns": null,
            "grid_auto_flow": null,
            "grid_auto_rows": null,
            "grid_column": null,
            "grid_gap": null,
            "grid_row": null,
            "grid_template_areas": null,
            "grid_template_columns": null,
            "grid_template_rows": null,
            "height": null,
            "justify_content": null,
            "justify_items": null,
            "left": null,
            "margin": null,
            "max_height": null,
            "max_width": null,
            "min_height": null,
            "min_width": null,
            "object_fit": null,
            "object_position": null,
            "order": null,
            "overflow": null,
            "overflow_x": null,
            "overflow_y": null,
            "padding": null,
            "right": null,
            "top": null,
            "visibility": null,
            "width": null
          }
        },
        "441c30e639aa447e9132de5757a970d8": {
          "model_module": "@jupyter-widgets/controls",
          "model_name": "DescriptionStyleModel",
          "model_module_version": "1.5.0",
          "state": {
            "_model_module": "@jupyter-widgets/controls",
            "_model_module_version": "1.5.0",
            "_model_name": "DescriptionStyleModel",
            "_view_count": null,
            "_view_module": "@jupyter-widgets/base",
            "_view_module_version": "1.2.0",
            "_view_name": "StyleView",
            "description_width": ""
          }
        },
        "e7bd0422e44b440e9ad94ab04b39a191": {
          "model_module": "@jupyter-widgets/base",
          "model_name": "LayoutModel",
          "model_module_version": "1.2.0",
          "state": {
            "_model_module": "@jupyter-widgets/base",
            "_model_module_version": "1.2.0",
            "_model_name": "LayoutModel",
            "_view_count": null,
            "_view_module": "@jupyter-widgets/base",
            "_view_module_version": "1.2.0",
            "_view_name": "LayoutView",
            "align_content": null,
            "align_items": null,
            "align_self": null,
            "border": null,
            "bottom": null,
            "display": null,
            "flex": null,
            "flex_flow": null,
            "grid_area": null,
            "grid_auto_columns": null,
            "grid_auto_flow": null,
            "grid_auto_rows": null,
            "grid_column": null,
            "grid_gap": null,
            "grid_row": null,
            "grid_template_areas": null,
            "grid_template_columns": null,
            "grid_template_rows": null,
            "height": null,
            "justify_content": null,
            "justify_items": null,
            "left": null,
            "margin": null,
            "max_height": null,
            "max_width": null,
            "min_height": null,
            "min_width": null,
            "object_fit": null,
            "object_position": null,
            "order": null,
            "overflow": null,
            "overflow_x": null,
            "overflow_y": null,
            "padding": null,
            "right": null,
            "top": null,
            "visibility": null,
            "width": null
          }
        },
        "84cab79b2d0b44a0a4bd1dd534de6359": {
          "model_module": "@jupyter-widgets/controls",
          "model_name": "ProgressStyleModel",
          "model_module_version": "1.5.0",
          "state": {
            "_model_module": "@jupyter-widgets/controls",
            "_model_module_version": "1.5.0",
            "_model_name": "ProgressStyleModel",
            "_view_count": null,
            "_view_module": "@jupyter-widgets/base",
            "_view_module_version": "1.2.0",
            "_view_name": "StyleView",
            "bar_color": null,
            "description_width": ""
          }
        },
        "1e387adff39b47e4ade9eb7c2e8df519": {
          "model_module": "@jupyter-widgets/base",
          "model_name": "LayoutModel",
          "model_module_version": "1.2.0",
          "state": {
            "_model_module": "@jupyter-widgets/base",
            "_model_module_version": "1.2.0",
            "_model_name": "LayoutModel",
            "_view_count": null,
            "_view_module": "@jupyter-widgets/base",
            "_view_module_version": "1.2.0",
            "_view_name": "LayoutView",
            "align_content": null,
            "align_items": null,
            "align_self": null,
            "border": null,
            "bottom": null,
            "display": null,
            "flex": null,
            "flex_flow": null,
            "grid_area": null,
            "grid_auto_columns": null,
            "grid_auto_flow": null,
            "grid_auto_rows": null,
            "grid_column": null,
            "grid_gap": null,
            "grid_row": null,
            "grid_template_areas": null,
            "grid_template_columns": null,
            "grid_template_rows": null,
            "height": null,
            "justify_content": null,
            "justify_items": null,
            "left": null,
            "margin": null,
            "max_height": null,
            "max_width": null,
            "min_height": null,
            "min_width": null,
            "object_fit": null,
            "object_position": null,
            "order": null,
            "overflow": null,
            "overflow_x": null,
            "overflow_y": null,
            "padding": null,
            "right": null,
            "top": null,
            "visibility": null,
            "width": null
          }
        },
        "79637411a12a41f18385425cb0d6a411": {
          "model_module": "@jupyter-widgets/controls",
          "model_name": "DescriptionStyleModel",
          "model_module_version": "1.5.0",
          "state": {
            "_model_module": "@jupyter-widgets/controls",
            "_model_module_version": "1.5.0",
            "_model_name": "DescriptionStyleModel",
            "_view_count": null,
            "_view_module": "@jupyter-widgets/base",
            "_view_module_version": "1.2.0",
            "_view_name": "StyleView",
            "description_width": ""
          }
        },
        "4ed44a4f6ca34127add96dbaef3656b6": {
          "model_module": "@jupyter-widgets/controls",
          "model_name": "HBoxModel",
          "model_module_version": "1.5.0",
          "state": {
            "_dom_classes": [],
            "_model_module": "@jupyter-widgets/controls",
            "_model_module_version": "1.5.0",
            "_model_name": "HBoxModel",
            "_view_count": null,
            "_view_module": "@jupyter-widgets/controls",
            "_view_module_version": "1.5.0",
            "_view_name": "HBoxView",
            "box_style": "",
            "children": [
              "IPY_MODEL_f2f9300be8284107adc9d2940261247e",
              "IPY_MODEL_081d4cfdde854e45a3e143bf5e6f465b",
              "IPY_MODEL_a514482f75c4405fb1c9b152a9387462"
            ],
            "layout": "IPY_MODEL_593a4b4eee0c4d53931631564516a1ca"
          }
        },
        "f2f9300be8284107adc9d2940261247e": {
          "model_module": "@jupyter-widgets/controls",
          "model_name": "HTMLModel",
          "model_module_version": "1.5.0",
          "state": {
            "_dom_classes": [],
            "_model_module": "@jupyter-widgets/controls",
            "_model_module_version": "1.5.0",
            "_model_name": "HTMLModel",
            "_view_count": null,
            "_view_module": "@jupyter-widgets/controls",
            "_view_module_version": "1.5.0",
            "_view_name": "HTMLView",
            "description": "",
            "description_tooltip": null,
            "layout": "IPY_MODEL_53fa130d4547411792159546081da571",
            "placeholder": "​",
            "style": "IPY_MODEL_091410dd95854335a82816e494c9d7ba",
            "value": "100%"
          }
        },
        "081d4cfdde854e45a3e143bf5e6f465b": {
          "model_module": "@jupyter-widgets/controls",
          "model_name": "FloatProgressModel",
          "model_module_version": "1.5.0",
          "state": {
            "_dom_classes": [],
            "_model_module": "@jupyter-widgets/controls",
            "_model_module_version": "1.5.0",
            "_model_name": "FloatProgressModel",
            "_view_count": null,
            "_view_module": "@jupyter-widgets/controls",
            "_view_module_version": "1.5.0",
            "_view_name": "ProgressView",
            "bar_style": "success",
            "description": "",
            "description_tooltip": null,
            "layout": "IPY_MODEL_06424de3723c481badfa5027bf033a02",
            "max": 2440,
            "min": 0,
            "orientation": "horizontal",
            "style": "IPY_MODEL_92871f673793494d87bb9faf8be9fc31",
            "value": 2440
          }
        },
        "a514482f75c4405fb1c9b152a9387462": {
          "model_module": "@jupyter-widgets/controls",
          "model_name": "HTMLModel",
          "model_module_version": "1.5.0",
          "state": {
            "_dom_classes": [],
            "_model_module": "@jupyter-widgets/controls",
            "_model_module_version": "1.5.0",
            "_model_name": "HTMLModel",
            "_view_count": null,
            "_view_module": "@jupyter-widgets/controls",
            "_view_module_version": "1.5.0",
            "_view_name": "HTMLView",
            "description": "",
            "description_tooltip": null,
            "layout": "IPY_MODEL_7fc219299c3b4b32997e91868020b997",
            "placeholder": "​",
            "style": "IPY_MODEL_ccd2f93645cf4d67b47825f74bb323c9",
            "value": " 2440/2440 [23:35&lt;00:00,  1.73it/s]"
          }
        },
        "593a4b4eee0c4d53931631564516a1ca": {
          "model_module": "@jupyter-widgets/base",
          "model_name": "LayoutModel",
          "model_module_version": "1.2.0",
          "state": {
            "_model_module": "@jupyter-widgets/base",
            "_model_module_version": "1.2.0",
            "_model_name": "LayoutModel",
            "_view_count": null,
            "_view_module": "@jupyter-widgets/base",
            "_view_module_version": "1.2.0",
            "_view_name": "LayoutView",
            "align_content": null,
            "align_items": null,
            "align_self": null,
            "border": null,
            "bottom": null,
            "display": null,
            "flex": null,
            "flex_flow": null,
            "grid_area": null,
            "grid_auto_columns": null,
            "grid_auto_flow": null,
            "grid_auto_rows": null,
            "grid_column": null,
            "grid_gap": null,
            "grid_row": null,
            "grid_template_areas": null,
            "grid_template_columns": null,
            "grid_template_rows": null,
            "height": null,
            "justify_content": null,
            "justify_items": null,
            "left": null,
            "margin": null,
            "max_height": null,
            "max_width": null,
            "min_height": null,
            "min_width": null,
            "object_fit": null,
            "object_position": null,
            "order": null,
            "overflow": null,
            "overflow_x": null,
            "overflow_y": null,
            "padding": null,
            "right": null,
            "top": null,
            "visibility": null,
            "width": null
          }
        },
        "53fa130d4547411792159546081da571": {
          "model_module": "@jupyter-widgets/base",
          "model_name": "LayoutModel",
          "model_module_version": "1.2.0",
          "state": {
            "_model_module": "@jupyter-widgets/base",
            "_model_module_version": "1.2.0",
            "_model_name": "LayoutModel",
            "_view_count": null,
            "_view_module": "@jupyter-widgets/base",
            "_view_module_version": "1.2.0",
            "_view_name": "LayoutView",
            "align_content": null,
            "align_items": null,
            "align_self": null,
            "border": null,
            "bottom": null,
            "display": null,
            "flex": null,
            "flex_flow": null,
            "grid_area": null,
            "grid_auto_columns": null,
            "grid_auto_flow": null,
            "grid_auto_rows": null,
            "grid_column": null,
            "grid_gap": null,
            "grid_row": null,
            "grid_template_areas": null,
            "grid_template_columns": null,
            "grid_template_rows": null,
            "height": null,
            "justify_content": null,
            "justify_items": null,
            "left": null,
            "margin": null,
            "max_height": null,
            "max_width": null,
            "min_height": null,
            "min_width": null,
            "object_fit": null,
            "object_position": null,
            "order": null,
            "overflow": null,
            "overflow_x": null,
            "overflow_y": null,
            "padding": null,
            "right": null,
            "top": null,
            "visibility": null,
            "width": null
          }
        },
        "091410dd95854335a82816e494c9d7ba": {
          "model_module": "@jupyter-widgets/controls",
          "model_name": "DescriptionStyleModel",
          "model_module_version": "1.5.0",
          "state": {
            "_model_module": "@jupyter-widgets/controls",
            "_model_module_version": "1.5.0",
            "_model_name": "DescriptionStyleModel",
            "_view_count": null,
            "_view_module": "@jupyter-widgets/base",
            "_view_module_version": "1.2.0",
            "_view_name": "StyleView",
            "description_width": ""
          }
        },
        "06424de3723c481badfa5027bf033a02": {
          "model_module": "@jupyter-widgets/base",
          "model_name": "LayoutModel",
          "model_module_version": "1.2.0",
          "state": {
            "_model_module": "@jupyter-widgets/base",
            "_model_module_version": "1.2.0",
            "_model_name": "LayoutModel",
            "_view_count": null,
            "_view_module": "@jupyter-widgets/base",
            "_view_module_version": "1.2.0",
            "_view_name": "LayoutView",
            "align_content": null,
            "align_items": null,
            "align_self": null,
            "border": null,
            "bottom": null,
            "display": null,
            "flex": null,
            "flex_flow": null,
            "grid_area": null,
            "grid_auto_columns": null,
            "grid_auto_flow": null,
            "grid_auto_rows": null,
            "grid_column": null,
            "grid_gap": null,
            "grid_row": null,
            "grid_template_areas": null,
            "grid_template_columns": null,
            "grid_template_rows": null,
            "height": null,
            "justify_content": null,
            "justify_items": null,
            "left": null,
            "margin": null,
            "max_height": null,
            "max_width": null,
            "min_height": null,
            "min_width": null,
            "object_fit": null,
            "object_position": null,
            "order": null,
            "overflow": null,
            "overflow_x": null,
            "overflow_y": null,
            "padding": null,
            "right": null,
            "top": null,
            "visibility": null,
            "width": null
          }
        },
        "92871f673793494d87bb9faf8be9fc31": {
          "model_module": "@jupyter-widgets/controls",
          "model_name": "ProgressStyleModel",
          "model_module_version": "1.5.0",
          "state": {
            "_model_module": "@jupyter-widgets/controls",
            "_model_module_version": "1.5.0",
            "_model_name": "ProgressStyleModel",
            "_view_count": null,
            "_view_module": "@jupyter-widgets/base",
            "_view_module_version": "1.2.0",
            "_view_name": "StyleView",
            "bar_color": null,
            "description_width": ""
          }
        },
        "7fc219299c3b4b32997e91868020b997": {
          "model_module": "@jupyter-widgets/base",
          "model_name": "LayoutModel",
          "model_module_version": "1.2.0",
          "state": {
            "_model_module": "@jupyter-widgets/base",
            "_model_module_version": "1.2.0",
            "_model_name": "LayoutModel",
            "_view_count": null,
            "_view_module": "@jupyter-widgets/base",
            "_view_module_version": "1.2.0",
            "_view_name": "LayoutView",
            "align_content": null,
            "align_items": null,
            "align_self": null,
            "border": null,
            "bottom": null,
            "display": null,
            "flex": null,
            "flex_flow": null,
            "grid_area": null,
            "grid_auto_columns": null,
            "grid_auto_flow": null,
            "grid_auto_rows": null,
            "grid_column": null,
            "grid_gap": null,
            "grid_row": null,
            "grid_template_areas": null,
            "grid_template_columns": null,
            "grid_template_rows": null,
            "height": null,
            "justify_content": null,
            "justify_items": null,
            "left": null,
            "margin": null,
            "max_height": null,
            "max_width": null,
            "min_height": null,
            "min_width": null,
            "object_fit": null,
            "object_position": null,
            "order": null,
            "overflow": null,
            "overflow_x": null,
            "overflow_y": null,
            "padding": null,
            "right": null,
            "top": null,
            "visibility": null,
            "width": null
          }
        },
        "ccd2f93645cf4d67b47825f74bb323c9": {
          "model_module": "@jupyter-widgets/controls",
          "model_name": "DescriptionStyleModel",
          "model_module_version": "1.5.0",
          "state": {
            "_model_module": "@jupyter-widgets/controls",
            "_model_module_version": "1.5.0",
            "_model_name": "DescriptionStyleModel",
            "_view_count": null,
            "_view_module": "@jupyter-widgets/base",
            "_view_module_version": "1.2.0",
            "_view_name": "StyleView",
            "description_width": ""
          }
        },
        "d1b192a677ed4235bc14da9a490264aa": {
          "model_module": "@jupyter-widgets/controls",
          "model_name": "HBoxModel",
          "model_module_version": "1.5.0",
          "state": {
            "_dom_classes": [],
            "_model_module": "@jupyter-widgets/controls",
            "_model_module_version": "1.5.0",
            "_model_name": "HBoxModel",
            "_view_count": null,
            "_view_module": "@jupyter-widgets/controls",
            "_view_module_version": "1.5.0",
            "_view_name": "HBoxView",
            "box_style": "",
            "children": [
              "IPY_MODEL_80700a29eff648de8d7465a89174effe",
              "IPY_MODEL_de42236f11c24227a19c6a81d05a3d9a",
              "IPY_MODEL_e5aa821a2efc42ce9c345d57c96e9590"
            ],
            "layout": "IPY_MODEL_f2a35cb22a394ceaad1eb832eab15941"
          }
        },
        "80700a29eff648de8d7465a89174effe": {
          "model_module": "@jupyter-widgets/controls",
          "model_name": "HTMLModel",
          "model_module_version": "1.5.0",
          "state": {
            "_dom_classes": [],
            "_model_module": "@jupyter-widgets/controls",
            "_model_module_version": "1.5.0",
            "_model_name": "HTMLModel",
            "_view_count": null,
            "_view_module": "@jupyter-widgets/controls",
            "_view_module_version": "1.5.0",
            "_view_name": "HTMLView",
            "description": "",
            "description_tooltip": null,
            "layout": "IPY_MODEL_599b5555c97f4b3e8dcf79666ee9ff1f",
            "placeholder": "​",
            "style": "IPY_MODEL_e6400f60438e4b43a142c421a9ab194a",
            "value": "100%"
          }
        },
        "de42236f11c24227a19c6a81d05a3d9a": {
          "model_module": "@jupyter-widgets/controls",
          "model_name": "FloatProgressModel",
          "model_module_version": "1.5.0",
          "state": {
            "_dom_classes": [],
            "_model_module": "@jupyter-widgets/controls",
            "_model_module_version": "1.5.0",
            "_model_name": "FloatProgressModel",
            "_view_count": null,
            "_view_module": "@jupyter-widgets/controls",
            "_view_module_version": "1.5.0",
            "_view_name": "ProgressView",
            "bar_style": "success",
            "description": "",
            "description_tooltip": null,
            "layout": "IPY_MODEL_b817a1a639b640a1bc6fa903f08504ed",
            "max": 2440,
            "min": 0,
            "orientation": "horizontal",
            "style": "IPY_MODEL_42f63fa580414beb827d2241c26bfddc",
            "value": 2440
          }
        },
        "e5aa821a2efc42ce9c345d57c96e9590": {
          "model_module": "@jupyter-widgets/controls",
          "model_name": "HTMLModel",
          "model_module_version": "1.5.0",
          "state": {
            "_dom_classes": [],
            "_model_module": "@jupyter-widgets/controls",
            "_model_module_version": "1.5.0",
            "_model_name": "HTMLModel",
            "_view_count": null,
            "_view_module": "@jupyter-widgets/controls",
            "_view_module_version": "1.5.0",
            "_view_name": "HTMLView",
            "description": "",
            "description_tooltip": null,
            "layout": "IPY_MODEL_3ffda6a050df40ccb49e0a7f30e7c367",
            "placeholder": "​",
            "style": "IPY_MODEL_9d19d8ff3629460ca4845e24a75d3279",
            "value": " 2440/2440 [23:34&lt;00:00,  1.72it/s]"
          }
        },
        "f2a35cb22a394ceaad1eb832eab15941": {
          "model_module": "@jupyter-widgets/base",
          "model_name": "LayoutModel",
          "model_module_version": "1.2.0",
          "state": {
            "_model_module": "@jupyter-widgets/base",
            "_model_module_version": "1.2.0",
            "_model_name": "LayoutModel",
            "_view_count": null,
            "_view_module": "@jupyter-widgets/base",
            "_view_module_version": "1.2.0",
            "_view_name": "LayoutView",
            "align_content": null,
            "align_items": null,
            "align_self": null,
            "border": null,
            "bottom": null,
            "display": null,
            "flex": null,
            "flex_flow": null,
            "grid_area": null,
            "grid_auto_columns": null,
            "grid_auto_flow": null,
            "grid_auto_rows": null,
            "grid_column": null,
            "grid_gap": null,
            "grid_row": null,
            "grid_template_areas": null,
            "grid_template_columns": null,
            "grid_template_rows": null,
            "height": null,
            "justify_content": null,
            "justify_items": null,
            "left": null,
            "margin": null,
            "max_height": null,
            "max_width": null,
            "min_height": null,
            "min_width": null,
            "object_fit": null,
            "object_position": null,
            "order": null,
            "overflow": null,
            "overflow_x": null,
            "overflow_y": null,
            "padding": null,
            "right": null,
            "top": null,
            "visibility": null,
            "width": null
          }
        },
        "599b5555c97f4b3e8dcf79666ee9ff1f": {
          "model_module": "@jupyter-widgets/base",
          "model_name": "LayoutModel",
          "model_module_version": "1.2.0",
          "state": {
            "_model_module": "@jupyter-widgets/base",
            "_model_module_version": "1.2.0",
            "_model_name": "LayoutModel",
            "_view_count": null,
            "_view_module": "@jupyter-widgets/base",
            "_view_module_version": "1.2.0",
            "_view_name": "LayoutView",
            "align_content": null,
            "align_items": null,
            "align_self": null,
            "border": null,
            "bottom": null,
            "display": null,
            "flex": null,
            "flex_flow": null,
            "grid_area": null,
            "grid_auto_columns": null,
            "grid_auto_flow": null,
            "grid_auto_rows": null,
            "grid_column": null,
            "grid_gap": null,
            "grid_row": null,
            "grid_template_areas": null,
            "grid_template_columns": null,
            "grid_template_rows": null,
            "height": null,
            "justify_content": null,
            "justify_items": null,
            "left": null,
            "margin": null,
            "max_height": null,
            "max_width": null,
            "min_height": null,
            "min_width": null,
            "object_fit": null,
            "object_position": null,
            "order": null,
            "overflow": null,
            "overflow_x": null,
            "overflow_y": null,
            "padding": null,
            "right": null,
            "top": null,
            "visibility": null,
            "width": null
          }
        },
        "e6400f60438e4b43a142c421a9ab194a": {
          "model_module": "@jupyter-widgets/controls",
          "model_name": "DescriptionStyleModel",
          "model_module_version": "1.5.0",
          "state": {
            "_model_module": "@jupyter-widgets/controls",
            "_model_module_version": "1.5.0",
            "_model_name": "DescriptionStyleModel",
            "_view_count": null,
            "_view_module": "@jupyter-widgets/base",
            "_view_module_version": "1.2.0",
            "_view_name": "StyleView",
            "description_width": ""
          }
        },
        "b817a1a639b640a1bc6fa903f08504ed": {
          "model_module": "@jupyter-widgets/base",
          "model_name": "LayoutModel",
          "model_module_version": "1.2.0",
          "state": {
            "_model_module": "@jupyter-widgets/base",
            "_model_module_version": "1.2.0",
            "_model_name": "LayoutModel",
            "_view_count": null,
            "_view_module": "@jupyter-widgets/base",
            "_view_module_version": "1.2.0",
            "_view_name": "LayoutView",
            "align_content": null,
            "align_items": null,
            "align_self": null,
            "border": null,
            "bottom": null,
            "display": null,
            "flex": null,
            "flex_flow": null,
            "grid_area": null,
            "grid_auto_columns": null,
            "grid_auto_flow": null,
            "grid_auto_rows": null,
            "grid_column": null,
            "grid_gap": null,
            "grid_row": null,
            "grid_template_areas": null,
            "grid_template_columns": null,
            "grid_template_rows": null,
            "height": null,
            "justify_content": null,
            "justify_items": null,
            "left": null,
            "margin": null,
            "max_height": null,
            "max_width": null,
            "min_height": null,
            "min_width": null,
            "object_fit": null,
            "object_position": null,
            "order": null,
            "overflow": null,
            "overflow_x": null,
            "overflow_y": null,
            "padding": null,
            "right": null,
            "top": null,
            "visibility": null,
            "width": null
          }
        },
        "42f63fa580414beb827d2241c26bfddc": {
          "model_module": "@jupyter-widgets/controls",
          "model_name": "ProgressStyleModel",
          "model_module_version": "1.5.0",
          "state": {
            "_model_module": "@jupyter-widgets/controls",
            "_model_module_version": "1.5.0",
            "_model_name": "ProgressStyleModel",
            "_view_count": null,
            "_view_module": "@jupyter-widgets/base",
            "_view_module_version": "1.2.0",
            "_view_name": "StyleView",
            "bar_color": null,
            "description_width": ""
          }
        },
        "3ffda6a050df40ccb49e0a7f30e7c367": {
          "model_module": "@jupyter-widgets/base",
          "model_name": "LayoutModel",
          "model_module_version": "1.2.0",
          "state": {
            "_model_module": "@jupyter-widgets/base",
            "_model_module_version": "1.2.0",
            "_model_name": "LayoutModel",
            "_view_count": null,
            "_view_module": "@jupyter-widgets/base",
            "_view_module_version": "1.2.0",
            "_view_name": "LayoutView",
            "align_content": null,
            "align_items": null,
            "align_self": null,
            "border": null,
            "bottom": null,
            "display": null,
            "flex": null,
            "flex_flow": null,
            "grid_area": null,
            "grid_auto_columns": null,
            "grid_auto_flow": null,
            "grid_auto_rows": null,
            "grid_column": null,
            "grid_gap": null,
            "grid_row": null,
            "grid_template_areas": null,
            "grid_template_columns": null,
            "grid_template_rows": null,
            "height": null,
            "justify_content": null,
            "justify_items": null,
            "left": null,
            "margin": null,
            "max_height": null,
            "max_width": null,
            "min_height": null,
            "min_width": null,
            "object_fit": null,
            "object_position": null,
            "order": null,
            "overflow": null,
            "overflow_x": null,
            "overflow_y": null,
            "padding": null,
            "right": null,
            "top": null,
            "visibility": null,
            "width": null
          }
        },
        "9d19d8ff3629460ca4845e24a75d3279": {
          "model_module": "@jupyter-widgets/controls",
          "model_name": "DescriptionStyleModel",
          "model_module_version": "1.5.0",
          "state": {
            "_model_module": "@jupyter-widgets/controls",
            "_model_module_version": "1.5.0",
            "_model_name": "DescriptionStyleModel",
            "_view_count": null,
            "_view_module": "@jupyter-widgets/base",
            "_view_module_version": "1.2.0",
            "_view_name": "StyleView",
            "description_width": ""
          }
        },
        "da590cc708854a1195d86e5c6952feaf": {
          "model_module": "@jupyter-widgets/controls",
          "model_name": "HBoxModel",
          "model_module_version": "1.5.0",
          "state": {
            "_dom_classes": [],
            "_model_module": "@jupyter-widgets/controls",
            "_model_module_version": "1.5.0",
            "_model_name": "HBoxModel",
            "_view_count": null,
            "_view_module": "@jupyter-widgets/controls",
            "_view_module_version": "1.5.0",
            "_view_name": "HBoxView",
            "box_style": "",
            "children": [
              "IPY_MODEL_1408d6e50c434ad09fcc241e2c3760b6",
              "IPY_MODEL_5651e846f4cd4590b6709495b22b2d73",
              "IPY_MODEL_27ad2c24268247589bcc4f5b8466f91a"
            ],
            "layout": "IPY_MODEL_9e0a59660c874dbd9e39ffa37a300024"
          }
        },
        "1408d6e50c434ad09fcc241e2c3760b6": {
          "model_module": "@jupyter-widgets/controls",
          "model_name": "HTMLModel",
          "model_module_version": "1.5.0",
          "state": {
            "_dom_classes": [],
            "_model_module": "@jupyter-widgets/controls",
            "_model_module_version": "1.5.0",
            "_model_name": "HTMLModel",
            "_view_count": null,
            "_view_module": "@jupyter-widgets/controls",
            "_view_module_version": "1.5.0",
            "_view_name": "HTMLView",
            "description": "",
            "description_tooltip": null,
            "layout": "IPY_MODEL_94f5fd3f28374982a8da08cce9997fca",
            "placeholder": "​",
            "style": "IPY_MODEL_b51cb876a9214d22a637fc8c7333e268",
            "value": "100%"
          }
        },
        "5651e846f4cd4590b6709495b22b2d73": {
          "model_module": "@jupyter-widgets/controls",
          "model_name": "FloatProgressModel",
          "model_module_version": "1.5.0",
          "state": {
            "_dom_classes": [],
            "_model_module": "@jupyter-widgets/controls",
            "_model_module_version": "1.5.0",
            "_model_name": "FloatProgressModel",
            "_view_count": null,
            "_view_module": "@jupyter-widgets/controls",
            "_view_module_version": "1.5.0",
            "_view_name": "ProgressView",
            "bar_style": "success",
            "description": "",
            "description_tooltip": null,
            "layout": "IPY_MODEL_bf707c636fef4ef1a83ef2db1639d293",
            "max": 2440,
            "min": 0,
            "orientation": "horizontal",
            "style": "IPY_MODEL_e1f9480e190747b1a1b316332fca4595",
            "value": 2440
          }
        },
        "27ad2c24268247589bcc4f5b8466f91a": {
          "model_module": "@jupyter-widgets/controls",
          "model_name": "HTMLModel",
          "model_module_version": "1.5.0",
          "state": {
            "_dom_classes": [],
            "_model_module": "@jupyter-widgets/controls",
            "_model_module_version": "1.5.0",
            "_model_name": "HTMLModel",
            "_view_count": null,
            "_view_module": "@jupyter-widgets/controls",
            "_view_module_version": "1.5.0",
            "_view_name": "HTMLView",
            "description": "",
            "description_tooltip": null,
            "layout": "IPY_MODEL_d3db462d7d0b487a9fa77f0aed4270fd",
            "placeholder": "​",
            "style": "IPY_MODEL_16ac8d58e49a437db9c320a899dd7586",
            "value": " 2440/2440 [23:35&lt;00:00,  1.71it/s]"
          }
        },
        "9e0a59660c874dbd9e39ffa37a300024": {
          "model_module": "@jupyter-widgets/base",
          "model_name": "LayoutModel",
          "model_module_version": "1.2.0",
          "state": {
            "_model_module": "@jupyter-widgets/base",
            "_model_module_version": "1.2.0",
            "_model_name": "LayoutModel",
            "_view_count": null,
            "_view_module": "@jupyter-widgets/base",
            "_view_module_version": "1.2.0",
            "_view_name": "LayoutView",
            "align_content": null,
            "align_items": null,
            "align_self": null,
            "border": null,
            "bottom": null,
            "display": null,
            "flex": null,
            "flex_flow": null,
            "grid_area": null,
            "grid_auto_columns": null,
            "grid_auto_flow": null,
            "grid_auto_rows": null,
            "grid_column": null,
            "grid_gap": null,
            "grid_row": null,
            "grid_template_areas": null,
            "grid_template_columns": null,
            "grid_template_rows": null,
            "height": null,
            "justify_content": null,
            "justify_items": null,
            "left": null,
            "margin": null,
            "max_height": null,
            "max_width": null,
            "min_height": null,
            "min_width": null,
            "object_fit": null,
            "object_position": null,
            "order": null,
            "overflow": null,
            "overflow_x": null,
            "overflow_y": null,
            "padding": null,
            "right": null,
            "top": null,
            "visibility": null,
            "width": null
          }
        },
        "94f5fd3f28374982a8da08cce9997fca": {
          "model_module": "@jupyter-widgets/base",
          "model_name": "LayoutModel",
          "model_module_version": "1.2.0",
          "state": {
            "_model_module": "@jupyter-widgets/base",
            "_model_module_version": "1.2.0",
            "_model_name": "LayoutModel",
            "_view_count": null,
            "_view_module": "@jupyter-widgets/base",
            "_view_module_version": "1.2.0",
            "_view_name": "LayoutView",
            "align_content": null,
            "align_items": null,
            "align_self": null,
            "border": null,
            "bottom": null,
            "display": null,
            "flex": null,
            "flex_flow": null,
            "grid_area": null,
            "grid_auto_columns": null,
            "grid_auto_flow": null,
            "grid_auto_rows": null,
            "grid_column": null,
            "grid_gap": null,
            "grid_row": null,
            "grid_template_areas": null,
            "grid_template_columns": null,
            "grid_template_rows": null,
            "height": null,
            "justify_content": null,
            "justify_items": null,
            "left": null,
            "margin": null,
            "max_height": null,
            "max_width": null,
            "min_height": null,
            "min_width": null,
            "object_fit": null,
            "object_position": null,
            "order": null,
            "overflow": null,
            "overflow_x": null,
            "overflow_y": null,
            "padding": null,
            "right": null,
            "top": null,
            "visibility": null,
            "width": null
          }
        },
        "b51cb876a9214d22a637fc8c7333e268": {
          "model_module": "@jupyter-widgets/controls",
          "model_name": "DescriptionStyleModel",
          "model_module_version": "1.5.0",
          "state": {
            "_model_module": "@jupyter-widgets/controls",
            "_model_module_version": "1.5.0",
            "_model_name": "DescriptionStyleModel",
            "_view_count": null,
            "_view_module": "@jupyter-widgets/base",
            "_view_module_version": "1.2.0",
            "_view_name": "StyleView",
            "description_width": ""
          }
        },
        "bf707c636fef4ef1a83ef2db1639d293": {
          "model_module": "@jupyter-widgets/base",
          "model_name": "LayoutModel",
          "model_module_version": "1.2.0",
          "state": {
            "_model_module": "@jupyter-widgets/base",
            "_model_module_version": "1.2.0",
            "_model_name": "LayoutModel",
            "_view_count": null,
            "_view_module": "@jupyter-widgets/base",
            "_view_module_version": "1.2.0",
            "_view_name": "LayoutView",
            "align_content": null,
            "align_items": null,
            "align_self": null,
            "border": null,
            "bottom": null,
            "display": null,
            "flex": null,
            "flex_flow": null,
            "grid_area": null,
            "grid_auto_columns": null,
            "grid_auto_flow": null,
            "grid_auto_rows": null,
            "grid_column": null,
            "grid_gap": null,
            "grid_row": null,
            "grid_template_areas": null,
            "grid_template_columns": null,
            "grid_template_rows": null,
            "height": null,
            "justify_content": null,
            "justify_items": null,
            "left": null,
            "margin": null,
            "max_height": null,
            "max_width": null,
            "min_height": null,
            "min_width": null,
            "object_fit": null,
            "object_position": null,
            "order": null,
            "overflow": null,
            "overflow_x": null,
            "overflow_y": null,
            "padding": null,
            "right": null,
            "top": null,
            "visibility": null,
            "width": null
          }
        },
        "e1f9480e190747b1a1b316332fca4595": {
          "model_module": "@jupyter-widgets/controls",
          "model_name": "ProgressStyleModel",
          "model_module_version": "1.5.0",
          "state": {
            "_model_module": "@jupyter-widgets/controls",
            "_model_module_version": "1.5.0",
            "_model_name": "ProgressStyleModel",
            "_view_count": null,
            "_view_module": "@jupyter-widgets/base",
            "_view_module_version": "1.2.0",
            "_view_name": "StyleView",
            "bar_color": null,
            "description_width": ""
          }
        },
        "d3db462d7d0b487a9fa77f0aed4270fd": {
          "model_module": "@jupyter-widgets/base",
          "model_name": "LayoutModel",
          "model_module_version": "1.2.0",
          "state": {
            "_model_module": "@jupyter-widgets/base",
            "_model_module_version": "1.2.0",
            "_model_name": "LayoutModel",
            "_view_count": null,
            "_view_module": "@jupyter-widgets/base",
            "_view_module_version": "1.2.0",
            "_view_name": "LayoutView",
            "align_content": null,
            "align_items": null,
            "align_self": null,
            "border": null,
            "bottom": null,
            "display": null,
            "flex": null,
            "flex_flow": null,
            "grid_area": null,
            "grid_auto_columns": null,
            "grid_auto_flow": null,
            "grid_auto_rows": null,
            "grid_column": null,
            "grid_gap": null,
            "grid_row": null,
            "grid_template_areas": null,
            "grid_template_columns": null,
            "grid_template_rows": null,
            "height": null,
            "justify_content": null,
            "justify_items": null,
            "left": null,
            "margin": null,
            "max_height": null,
            "max_width": null,
            "min_height": null,
            "min_width": null,
            "object_fit": null,
            "object_position": null,
            "order": null,
            "overflow": null,
            "overflow_x": null,
            "overflow_y": null,
            "padding": null,
            "right": null,
            "top": null,
            "visibility": null,
            "width": null
          }
        },
        "16ac8d58e49a437db9c320a899dd7586": {
          "model_module": "@jupyter-widgets/controls",
          "model_name": "DescriptionStyleModel",
          "model_module_version": "1.5.0",
          "state": {
            "_model_module": "@jupyter-widgets/controls",
            "_model_module_version": "1.5.0",
            "_model_name": "DescriptionStyleModel",
            "_view_count": null,
            "_view_module": "@jupyter-widgets/base",
            "_view_module_version": "1.2.0",
            "_view_name": "StyleView",
            "description_width": ""
          }
        },
        "1535bdd600ac40bb8588162d954bd281": {
          "model_module": "@jupyter-widgets/controls",
          "model_name": "HBoxModel",
          "model_module_version": "1.5.0",
          "state": {
            "_dom_classes": [],
            "_model_module": "@jupyter-widgets/controls",
            "_model_module_version": "1.5.0",
            "_model_name": "HBoxModel",
            "_view_count": null,
            "_view_module": "@jupyter-widgets/controls",
            "_view_module_version": "1.5.0",
            "_view_name": "HBoxView",
            "box_style": "",
            "children": [
              "IPY_MODEL_7efa072fcf88479c876009198dbfa7fb",
              "IPY_MODEL_c5e945c27cc34322ab167609fd5653a8",
              "IPY_MODEL_c2fe5d9ebd7249cbac4fb31d6e09cf20"
            ],
            "layout": "IPY_MODEL_42a7d4944be1462ba39945f0bfb4fdeb"
          }
        },
        "7efa072fcf88479c876009198dbfa7fb": {
          "model_module": "@jupyter-widgets/controls",
          "model_name": "HTMLModel",
          "model_module_version": "1.5.0",
          "state": {
            "_dom_classes": [],
            "_model_module": "@jupyter-widgets/controls",
            "_model_module_version": "1.5.0",
            "_model_name": "HTMLModel",
            "_view_count": null,
            "_view_module": "@jupyter-widgets/controls",
            "_view_module_version": "1.5.0",
            "_view_name": "HTMLView",
            "description": "",
            "description_tooltip": null,
            "layout": "IPY_MODEL_dc1db26a1a1e410d9603ef145d23b768",
            "placeholder": "​",
            "style": "IPY_MODEL_c248355a0f8942058d3e38821f78fb39",
            "value": "100%"
          }
        },
        "c5e945c27cc34322ab167609fd5653a8": {
          "model_module": "@jupyter-widgets/controls",
          "model_name": "FloatProgressModel",
          "model_module_version": "1.5.0",
          "state": {
            "_dom_classes": [],
            "_model_module": "@jupyter-widgets/controls",
            "_model_module_version": "1.5.0",
            "_model_name": "FloatProgressModel",
            "_view_count": null,
            "_view_module": "@jupyter-widgets/controls",
            "_view_module_version": "1.5.0",
            "_view_name": "ProgressView",
            "bar_style": "success",
            "description": "",
            "description_tooltip": null,
            "layout": "IPY_MODEL_92ee2ec0f56e4f7ab296344f0208432f",
            "max": 2440,
            "min": 0,
            "orientation": "horizontal",
            "style": "IPY_MODEL_f0203475256c43d5966a9388f1c8d6b1",
            "value": 2440
          }
        },
        "c2fe5d9ebd7249cbac4fb31d6e09cf20": {
          "model_module": "@jupyter-widgets/controls",
          "model_name": "HTMLModel",
          "model_module_version": "1.5.0",
          "state": {
            "_dom_classes": [],
            "_model_module": "@jupyter-widgets/controls",
            "_model_module_version": "1.5.0",
            "_model_name": "HTMLModel",
            "_view_count": null,
            "_view_module": "@jupyter-widgets/controls",
            "_view_module_version": "1.5.0",
            "_view_name": "HTMLView",
            "description": "",
            "description_tooltip": null,
            "layout": "IPY_MODEL_c188a65a7f0948a8aaffd2bb084470b9",
            "placeholder": "​",
            "style": "IPY_MODEL_ccdae84ada92475ab12d42a4d6c8d483",
            "value": " 2440/2440 [23:37&lt;00:00,  1.72it/s]"
          }
        },
        "42a7d4944be1462ba39945f0bfb4fdeb": {
          "model_module": "@jupyter-widgets/base",
          "model_name": "LayoutModel",
          "model_module_version": "1.2.0",
          "state": {
            "_model_module": "@jupyter-widgets/base",
            "_model_module_version": "1.2.0",
            "_model_name": "LayoutModel",
            "_view_count": null,
            "_view_module": "@jupyter-widgets/base",
            "_view_module_version": "1.2.0",
            "_view_name": "LayoutView",
            "align_content": null,
            "align_items": null,
            "align_self": null,
            "border": null,
            "bottom": null,
            "display": null,
            "flex": null,
            "flex_flow": null,
            "grid_area": null,
            "grid_auto_columns": null,
            "grid_auto_flow": null,
            "grid_auto_rows": null,
            "grid_column": null,
            "grid_gap": null,
            "grid_row": null,
            "grid_template_areas": null,
            "grid_template_columns": null,
            "grid_template_rows": null,
            "height": null,
            "justify_content": null,
            "justify_items": null,
            "left": null,
            "margin": null,
            "max_height": null,
            "max_width": null,
            "min_height": null,
            "min_width": null,
            "object_fit": null,
            "object_position": null,
            "order": null,
            "overflow": null,
            "overflow_x": null,
            "overflow_y": null,
            "padding": null,
            "right": null,
            "top": null,
            "visibility": null,
            "width": null
          }
        },
        "dc1db26a1a1e410d9603ef145d23b768": {
          "model_module": "@jupyter-widgets/base",
          "model_name": "LayoutModel",
          "model_module_version": "1.2.0",
          "state": {
            "_model_module": "@jupyter-widgets/base",
            "_model_module_version": "1.2.0",
            "_model_name": "LayoutModel",
            "_view_count": null,
            "_view_module": "@jupyter-widgets/base",
            "_view_module_version": "1.2.0",
            "_view_name": "LayoutView",
            "align_content": null,
            "align_items": null,
            "align_self": null,
            "border": null,
            "bottom": null,
            "display": null,
            "flex": null,
            "flex_flow": null,
            "grid_area": null,
            "grid_auto_columns": null,
            "grid_auto_flow": null,
            "grid_auto_rows": null,
            "grid_column": null,
            "grid_gap": null,
            "grid_row": null,
            "grid_template_areas": null,
            "grid_template_columns": null,
            "grid_template_rows": null,
            "height": null,
            "justify_content": null,
            "justify_items": null,
            "left": null,
            "margin": null,
            "max_height": null,
            "max_width": null,
            "min_height": null,
            "min_width": null,
            "object_fit": null,
            "object_position": null,
            "order": null,
            "overflow": null,
            "overflow_x": null,
            "overflow_y": null,
            "padding": null,
            "right": null,
            "top": null,
            "visibility": null,
            "width": null
          }
        },
        "c248355a0f8942058d3e38821f78fb39": {
          "model_module": "@jupyter-widgets/controls",
          "model_name": "DescriptionStyleModel",
          "model_module_version": "1.5.0",
          "state": {
            "_model_module": "@jupyter-widgets/controls",
            "_model_module_version": "1.5.0",
            "_model_name": "DescriptionStyleModel",
            "_view_count": null,
            "_view_module": "@jupyter-widgets/base",
            "_view_module_version": "1.2.0",
            "_view_name": "StyleView",
            "description_width": ""
          }
        },
        "92ee2ec0f56e4f7ab296344f0208432f": {
          "model_module": "@jupyter-widgets/base",
          "model_name": "LayoutModel",
          "model_module_version": "1.2.0",
          "state": {
            "_model_module": "@jupyter-widgets/base",
            "_model_module_version": "1.2.0",
            "_model_name": "LayoutModel",
            "_view_count": null,
            "_view_module": "@jupyter-widgets/base",
            "_view_module_version": "1.2.0",
            "_view_name": "LayoutView",
            "align_content": null,
            "align_items": null,
            "align_self": null,
            "border": null,
            "bottom": null,
            "display": null,
            "flex": null,
            "flex_flow": null,
            "grid_area": null,
            "grid_auto_columns": null,
            "grid_auto_flow": null,
            "grid_auto_rows": null,
            "grid_column": null,
            "grid_gap": null,
            "grid_row": null,
            "grid_template_areas": null,
            "grid_template_columns": null,
            "grid_template_rows": null,
            "height": null,
            "justify_content": null,
            "justify_items": null,
            "left": null,
            "margin": null,
            "max_height": null,
            "max_width": null,
            "min_height": null,
            "min_width": null,
            "object_fit": null,
            "object_position": null,
            "order": null,
            "overflow": null,
            "overflow_x": null,
            "overflow_y": null,
            "padding": null,
            "right": null,
            "top": null,
            "visibility": null,
            "width": null
          }
        },
        "f0203475256c43d5966a9388f1c8d6b1": {
          "model_module": "@jupyter-widgets/controls",
          "model_name": "ProgressStyleModel",
          "model_module_version": "1.5.0",
          "state": {
            "_model_module": "@jupyter-widgets/controls",
            "_model_module_version": "1.5.0",
            "_model_name": "ProgressStyleModel",
            "_view_count": null,
            "_view_module": "@jupyter-widgets/base",
            "_view_module_version": "1.2.0",
            "_view_name": "StyleView",
            "bar_color": null,
            "description_width": ""
          }
        },
        "c188a65a7f0948a8aaffd2bb084470b9": {
          "model_module": "@jupyter-widgets/base",
          "model_name": "LayoutModel",
          "model_module_version": "1.2.0",
          "state": {
            "_model_module": "@jupyter-widgets/base",
            "_model_module_version": "1.2.0",
            "_model_name": "LayoutModel",
            "_view_count": null,
            "_view_module": "@jupyter-widgets/base",
            "_view_module_version": "1.2.0",
            "_view_name": "LayoutView",
            "align_content": null,
            "align_items": null,
            "align_self": null,
            "border": null,
            "bottom": null,
            "display": null,
            "flex": null,
            "flex_flow": null,
            "grid_area": null,
            "grid_auto_columns": null,
            "grid_auto_flow": null,
            "grid_auto_rows": null,
            "grid_column": null,
            "grid_gap": null,
            "grid_row": null,
            "grid_template_areas": null,
            "grid_template_columns": null,
            "grid_template_rows": null,
            "height": null,
            "justify_content": null,
            "justify_items": null,
            "left": null,
            "margin": null,
            "max_height": null,
            "max_width": null,
            "min_height": null,
            "min_width": null,
            "object_fit": null,
            "object_position": null,
            "order": null,
            "overflow": null,
            "overflow_x": null,
            "overflow_y": null,
            "padding": null,
            "right": null,
            "top": null,
            "visibility": null,
            "width": null
          }
        },
        "ccdae84ada92475ab12d42a4d6c8d483": {
          "model_module": "@jupyter-widgets/controls",
          "model_name": "DescriptionStyleModel",
          "model_module_version": "1.5.0",
          "state": {
            "_model_module": "@jupyter-widgets/controls",
            "_model_module_version": "1.5.0",
            "_model_name": "DescriptionStyleModel",
            "_view_count": null,
            "_view_module": "@jupyter-widgets/base",
            "_view_module_version": "1.2.0",
            "_view_name": "StyleView",
            "description_width": ""
          }
        },
        "26c6f6f5b93d4c07a0ee07ad7dbc0579": {
          "model_module": "@jupyter-widgets/controls",
          "model_name": "HBoxModel",
          "model_module_version": "1.5.0",
          "state": {
            "_dom_classes": [],
            "_model_module": "@jupyter-widgets/controls",
            "_model_module_version": "1.5.0",
            "_model_name": "HBoxModel",
            "_view_count": null,
            "_view_module": "@jupyter-widgets/controls",
            "_view_module_version": "1.5.0",
            "_view_name": "HBoxView",
            "box_style": "",
            "children": [
              "IPY_MODEL_7e0e5a3ceedf49ef9bbe9b4353d11b1a",
              "IPY_MODEL_0fcb1601b7f643039ce7ae35312eaa3c",
              "IPY_MODEL_ff6053f5551342b5b4e6ec144dc96813"
            ],
            "layout": "IPY_MODEL_131bc560cdfd45d2a09952539272f4e0"
          }
        },
        "7e0e5a3ceedf49ef9bbe9b4353d11b1a": {
          "model_module": "@jupyter-widgets/controls",
          "model_name": "HTMLModel",
          "model_module_version": "1.5.0",
          "state": {
            "_dom_classes": [],
            "_model_module": "@jupyter-widgets/controls",
            "_model_module_version": "1.5.0",
            "_model_name": "HTMLModel",
            "_view_count": null,
            "_view_module": "@jupyter-widgets/controls",
            "_view_module_version": "1.5.0",
            "_view_name": "HTMLView",
            "description": "",
            "description_tooltip": null,
            "layout": "IPY_MODEL_d9f146908cb541e39109be0cda86ab48",
            "placeholder": "​",
            "style": "IPY_MODEL_b45ca66c0391445e9f56033772b93974",
            "value": "100%"
          }
        },
        "0fcb1601b7f643039ce7ae35312eaa3c": {
          "model_module": "@jupyter-widgets/controls",
          "model_name": "FloatProgressModel",
          "model_module_version": "1.5.0",
          "state": {
            "_dom_classes": [],
            "_model_module": "@jupyter-widgets/controls",
            "_model_module_version": "1.5.0",
            "_model_name": "FloatProgressModel",
            "_view_count": null,
            "_view_module": "@jupyter-widgets/controls",
            "_view_module_version": "1.5.0",
            "_view_name": "ProgressView",
            "bar_style": "success",
            "description": "",
            "description_tooltip": null,
            "layout": "IPY_MODEL_db6d40f321144ff6a6eea26b2cd0aee3",
            "max": 2440,
            "min": 0,
            "orientation": "horizontal",
            "style": "IPY_MODEL_f5f2f05f75744fd1aaae0722bddb09d4",
            "value": 2440
          }
        },
        "ff6053f5551342b5b4e6ec144dc96813": {
          "model_module": "@jupyter-widgets/controls",
          "model_name": "HTMLModel",
          "model_module_version": "1.5.0",
          "state": {
            "_dom_classes": [],
            "_model_module": "@jupyter-widgets/controls",
            "_model_module_version": "1.5.0",
            "_model_name": "HTMLModel",
            "_view_count": null,
            "_view_module": "@jupyter-widgets/controls",
            "_view_module_version": "1.5.0",
            "_view_name": "HTMLView",
            "description": "",
            "description_tooltip": null,
            "layout": "IPY_MODEL_40981b356841447dbd29eff0ad4c4679",
            "placeholder": "​",
            "style": "IPY_MODEL_58ada7798e4c469688cea90e7f964081",
            "value": " 2440/2440 [23:35&lt;00:00,  1.73it/s]"
          }
        },
        "131bc560cdfd45d2a09952539272f4e0": {
          "model_module": "@jupyter-widgets/base",
          "model_name": "LayoutModel",
          "model_module_version": "1.2.0",
          "state": {
            "_model_module": "@jupyter-widgets/base",
            "_model_module_version": "1.2.0",
            "_model_name": "LayoutModel",
            "_view_count": null,
            "_view_module": "@jupyter-widgets/base",
            "_view_module_version": "1.2.0",
            "_view_name": "LayoutView",
            "align_content": null,
            "align_items": null,
            "align_self": null,
            "border": null,
            "bottom": null,
            "display": null,
            "flex": null,
            "flex_flow": null,
            "grid_area": null,
            "grid_auto_columns": null,
            "grid_auto_flow": null,
            "grid_auto_rows": null,
            "grid_column": null,
            "grid_gap": null,
            "grid_row": null,
            "grid_template_areas": null,
            "grid_template_columns": null,
            "grid_template_rows": null,
            "height": null,
            "justify_content": null,
            "justify_items": null,
            "left": null,
            "margin": null,
            "max_height": null,
            "max_width": null,
            "min_height": null,
            "min_width": null,
            "object_fit": null,
            "object_position": null,
            "order": null,
            "overflow": null,
            "overflow_x": null,
            "overflow_y": null,
            "padding": null,
            "right": null,
            "top": null,
            "visibility": null,
            "width": null
          }
        },
        "d9f146908cb541e39109be0cda86ab48": {
          "model_module": "@jupyter-widgets/base",
          "model_name": "LayoutModel",
          "model_module_version": "1.2.0",
          "state": {
            "_model_module": "@jupyter-widgets/base",
            "_model_module_version": "1.2.0",
            "_model_name": "LayoutModel",
            "_view_count": null,
            "_view_module": "@jupyter-widgets/base",
            "_view_module_version": "1.2.0",
            "_view_name": "LayoutView",
            "align_content": null,
            "align_items": null,
            "align_self": null,
            "border": null,
            "bottom": null,
            "display": null,
            "flex": null,
            "flex_flow": null,
            "grid_area": null,
            "grid_auto_columns": null,
            "grid_auto_flow": null,
            "grid_auto_rows": null,
            "grid_column": null,
            "grid_gap": null,
            "grid_row": null,
            "grid_template_areas": null,
            "grid_template_columns": null,
            "grid_template_rows": null,
            "height": null,
            "justify_content": null,
            "justify_items": null,
            "left": null,
            "margin": null,
            "max_height": null,
            "max_width": null,
            "min_height": null,
            "min_width": null,
            "object_fit": null,
            "object_position": null,
            "order": null,
            "overflow": null,
            "overflow_x": null,
            "overflow_y": null,
            "padding": null,
            "right": null,
            "top": null,
            "visibility": null,
            "width": null
          }
        },
        "b45ca66c0391445e9f56033772b93974": {
          "model_module": "@jupyter-widgets/controls",
          "model_name": "DescriptionStyleModel",
          "model_module_version": "1.5.0",
          "state": {
            "_model_module": "@jupyter-widgets/controls",
            "_model_module_version": "1.5.0",
            "_model_name": "DescriptionStyleModel",
            "_view_count": null,
            "_view_module": "@jupyter-widgets/base",
            "_view_module_version": "1.2.0",
            "_view_name": "StyleView",
            "description_width": ""
          }
        },
        "db6d40f321144ff6a6eea26b2cd0aee3": {
          "model_module": "@jupyter-widgets/base",
          "model_name": "LayoutModel",
          "model_module_version": "1.2.0",
          "state": {
            "_model_module": "@jupyter-widgets/base",
            "_model_module_version": "1.2.0",
            "_model_name": "LayoutModel",
            "_view_count": null,
            "_view_module": "@jupyter-widgets/base",
            "_view_module_version": "1.2.0",
            "_view_name": "LayoutView",
            "align_content": null,
            "align_items": null,
            "align_self": null,
            "border": null,
            "bottom": null,
            "display": null,
            "flex": null,
            "flex_flow": null,
            "grid_area": null,
            "grid_auto_columns": null,
            "grid_auto_flow": null,
            "grid_auto_rows": null,
            "grid_column": null,
            "grid_gap": null,
            "grid_row": null,
            "grid_template_areas": null,
            "grid_template_columns": null,
            "grid_template_rows": null,
            "height": null,
            "justify_content": null,
            "justify_items": null,
            "left": null,
            "margin": null,
            "max_height": null,
            "max_width": null,
            "min_height": null,
            "min_width": null,
            "object_fit": null,
            "object_position": null,
            "order": null,
            "overflow": null,
            "overflow_x": null,
            "overflow_y": null,
            "padding": null,
            "right": null,
            "top": null,
            "visibility": null,
            "width": null
          }
        },
        "f5f2f05f75744fd1aaae0722bddb09d4": {
          "model_module": "@jupyter-widgets/controls",
          "model_name": "ProgressStyleModel",
          "model_module_version": "1.5.0",
          "state": {
            "_model_module": "@jupyter-widgets/controls",
            "_model_module_version": "1.5.0",
            "_model_name": "ProgressStyleModel",
            "_view_count": null,
            "_view_module": "@jupyter-widgets/base",
            "_view_module_version": "1.2.0",
            "_view_name": "StyleView",
            "bar_color": null,
            "description_width": ""
          }
        },
        "40981b356841447dbd29eff0ad4c4679": {
          "model_module": "@jupyter-widgets/base",
          "model_name": "LayoutModel",
          "model_module_version": "1.2.0",
          "state": {
            "_model_module": "@jupyter-widgets/base",
            "_model_module_version": "1.2.0",
            "_model_name": "LayoutModel",
            "_view_count": null,
            "_view_module": "@jupyter-widgets/base",
            "_view_module_version": "1.2.0",
            "_view_name": "LayoutView",
            "align_content": null,
            "align_items": null,
            "align_self": null,
            "border": null,
            "bottom": null,
            "display": null,
            "flex": null,
            "flex_flow": null,
            "grid_area": null,
            "grid_auto_columns": null,
            "grid_auto_flow": null,
            "grid_auto_rows": null,
            "grid_column": null,
            "grid_gap": null,
            "grid_row": null,
            "grid_template_areas": null,
            "grid_template_columns": null,
            "grid_template_rows": null,
            "height": null,
            "justify_content": null,
            "justify_items": null,
            "left": null,
            "margin": null,
            "max_height": null,
            "max_width": null,
            "min_height": null,
            "min_width": null,
            "object_fit": null,
            "object_position": null,
            "order": null,
            "overflow": null,
            "overflow_x": null,
            "overflow_y": null,
            "padding": null,
            "right": null,
            "top": null,
            "visibility": null,
            "width": null
          }
        },
        "58ada7798e4c469688cea90e7f964081": {
          "model_module": "@jupyter-widgets/controls",
          "model_name": "DescriptionStyleModel",
          "model_module_version": "1.5.0",
          "state": {
            "_model_module": "@jupyter-widgets/controls",
            "_model_module_version": "1.5.0",
            "_model_name": "DescriptionStyleModel",
            "_view_count": null,
            "_view_module": "@jupyter-widgets/base",
            "_view_module_version": "1.2.0",
            "_view_name": "StyleView",
            "description_width": ""
          }
        },
        "fcb207d35b0c4ab8b1fae55763a2fffb": {
          "model_module": "@jupyter-widgets/controls",
          "model_name": "HBoxModel",
          "model_module_version": "1.5.0",
          "state": {
            "_dom_classes": [],
            "_model_module": "@jupyter-widgets/controls",
            "_model_module_version": "1.5.0",
            "_model_name": "HBoxModel",
            "_view_count": null,
            "_view_module": "@jupyter-widgets/controls",
            "_view_module_version": "1.5.0",
            "_view_name": "HBoxView",
            "box_style": "",
            "children": [
              "IPY_MODEL_65b802ce0ff24e30991a7be82370dc1a",
              "IPY_MODEL_99749188b82b4a3bb5393efb39af863b",
              "IPY_MODEL_90cc6d5d04c1465290fedf11ea977e12"
            ],
            "layout": "IPY_MODEL_1383fb0af8ed4637b4bdca10e5236a29"
          }
        },
        "65b802ce0ff24e30991a7be82370dc1a": {
          "model_module": "@jupyter-widgets/controls",
          "model_name": "HTMLModel",
          "model_module_version": "1.5.0",
          "state": {
            "_dom_classes": [],
            "_model_module": "@jupyter-widgets/controls",
            "_model_module_version": "1.5.0",
            "_model_name": "HTMLModel",
            "_view_count": null,
            "_view_module": "@jupyter-widgets/controls",
            "_view_module_version": "1.5.0",
            "_view_name": "HTMLView",
            "description": "",
            "description_tooltip": null,
            "layout": "IPY_MODEL_0975bc300fa74fdd918fd7c752c75f68",
            "placeholder": "​",
            "style": "IPY_MODEL_e50f3fd7af1d458a838c8897c8997761",
            "value": "100%"
          }
        },
        "99749188b82b4a3bb5393efb39af863b": {
          "model_module": "@jupyter-widgets/controls",
          "model_name": "FloatProgressModel",
          "model_module_version": "1.5.0",
          "state": {
            "_dom_classes": [],
            "_model_module": "@jupyter-widgets/controls",
            "_model_module_version": "1.5.0",
            "_model_name": "FloatProgressModel",
            "_view_count": null,
            "_view_module": "@jupyter-widgets/controls",
            "_view_module_version": "1.5.0",
            "_view_name": "ProgressView",
            "bar_style": "success",
            "description": "",
            "description_tooltip": null,
            "layout": "IPY_MODEL_c3df0e33f9e94607857d26156a8c021b",
            "max": 2440,
            "min": 0,
            "orientation": "horizontal",
            "style": "IPY_MODEL_0a48f9ad500a4fb1a316a304ccba6b90",
            "value": 2440
          }
        },
        "90cc6d5d04c1465290fedf11ea977e12": {
          "model_module": "@jupyter-widgets/controls",
          "model_name": "HTMLModel",
          "model_module_version": "1.5.0",
          "state": {
            "_dom_classes": [],
            "_model_module": "@jupyter-widgets/controls",
            "_model_module_version": "1.5.0",
            "_model_name": "HTMLModel",
            "_view_count": null,
            "_view_module": "@jupyter-widgets/controls",
            "_view_module_version": "1.5.0",
            "_view_name": "HTMLView",
            "description": "",
            "description_tooltip": null,
            "layout": "IPY_MODEL_f9073b0aa4784e56bc756618dbe7ab3d",
            "placeholder": "​",
            "style": "IPY_MODEL_4d4fb3d6aa0948829d950bf8acd45bcc",
            "value": " 2440/2440 [23:39&lt;00:00,  1.71it/s]"
          }
        },
        "1383fb0af8ed4637b4bdca10e5236a29": {
          "model_module": "@jupyter-widgets/base",
          "model_name": "LayoutModel",
          "model_module_version": "1.2.0",
          "state": {
            "_model_module": "@jupyter-widgets/base",
            "_model_module_version": "1.2.0",
            "_model_name": "LayoutModel",
            "_view_count": null,
            "_view_module": "@jupyter-widgets/base",
            "_view_module_version": "1.2.0",
            "_view_name": "LayoutView",
            "align_content": null,
            "align_items": null,
            "align_self": null,
            "border": null,
            "bottom": null,
            "display": null,
            "flex": null,
            "flex_flow": null,
            "grid_area": null,
            "grid_auto_columns": null,
            "grid_auto_flow": null,
            "grid_auto_rows": null,
            "grid_column": null,
            "grid_gap": null,
            "grid_row": null,
            "grid_template_areas": null,
            "grid_template_columns": null,
            "grid_template_rows": null,
            "height": null,
            "justify_content": null,
            "justify_items": null,
            "left": null,
            "margin": null,
            "max_height": null,
            "max_width": null,
            "min_height": null,
            "min_width": null,
            "object_fit": null,
            "object_position": null,
            "order": null,
            "overflow": null,
            "overflow_x": null,
            "overflow_y": null,
            "padding": null,
            "right": null,
            "top": null,
            "visibility": null,
            "width": null
          }
        },
        "0975bc300fa74fdd918fd7c752c75f68": {
          "model_module": "@jupyter-widgets/base",
          "model_name": "LayoutModel",
          "model_module_version": "1.2.0",
          "state": {
            "_model_module": "@jupyter-widgets/base",
            "_model_module_version": "1.2.0",
            "_model_name": "LayoutModel",
            "_view_count": null,
            "_view_module": "@jupyter-widgets/base",
            "_view_module_version": "1.2.0",
            "_view_name": "LayoutView",
            "align_content": null,
            "align_items": null,
            "align_self": null,
            "border": null,
            "bottom": null,
            "display": null,
            "flex": null,
            "flex_flow": null,
            "grid_area": null,
            "grid_auto_columns": null,
            "grid_auto_flow": null,
            "grid_auto_rows": null,
            "grid_column": null,
            "grid_gap": null,
            "grid_row": null,
            "grid_template_areas": null,
            "grid_template_columns": null,
            "grid_template_rows": null,
            "height": null,
            "justify_content": null,
            "justify_items": null,
            "left": null,
            "margin": null,
            "max_height": null,
            "max_width": null,
            "min_height": null,
            "min_width": null,
            "object_fit": null,
            "object_position": null,
            "order": null,
            "overflow": null,
            "overflow_x": null,
            "overflow_y": null,
            "padding": null,
            "right": null,
            "top": null,
            "visibility": null,
            "width": null
          }
        },
        "e50f3fd7af1d458a838c8897c8997761": {
          "model_module": "@jupyter-widgets/controls",
          "model_name": "DescriptionStyleModel",
          "model_module_version": "1.5.0",
          "state": {
            "_model_module": "@jupyter-widgets/controls",
            "_model_module_version": "1.5.0",
            "_model_name": "DescriptionStyleModel",
            "_view_count": null,
            "_view_module": "@jupyter-widgets/base",
            "_view_module_version": "1.2.0",
            "_view_name": "StyleView",
            "description_width": ""
          }
        },
        "c3df0e33f9e94607857d26156a8c021b": {
          "model_module": "@jupyter-widgets/base",
          "model_name": "LayoutModel",
          "model_module_version": "1.2.0",
          "state": {
            "_model_module": "@jupyter-widgets/base",
            "_model_module_version": "1.2.0",
            "_model_name": "LayoutModel",
            "_view_count": null,
            "_view_module": "@jupyter-widgets/base",
            "_view_module_version": "1.2.0",
            "_view_name": "LayoutView",
            "align_content": null,
            "align_items": null,
            "align_self": null,
            "border": null,
            "bottom": null,
            "display": null,
            "flex": null,
            "flex_flow": null,
            "grid_area": null,
            "grid_auto_columns": null,
            "grid_auto_flow": null,
            "grid_auto_rows": null,
            "grid_column": null,
            "grid_gap": null,
            "grid_row": null,
            "grid_template_areas": null,
            "grid_template_columns": null,
            "grid_template_rows": null,
            "height": null,
            "justify_content": null,
            "justify_items": null,
            "left": null,
            "margin": null,
            "max_height": null,
            "max_width": null,
            "min_height": null,
            "min_width": null,
            "object_fit": null,
            "object_position": null,
            "order": null,
            "overflow": null,
            "overflow_x": null,
            "overflow_y": null,
            "padding": null,
            "right": null,
            "top": null,
            "visibility": null,
            "width": null
          }
        },
        "0a48f9ad500a4fb1a316a304ccba6b90": {
          "model_module": "@jupyter-widgets/controls",
          "model_name": "ProgressStyleModel",
          "model_module_version": "1.5.0",
          "state": {
            "_model_module": "@jupyter-widgets/controls",
            "_model_module_version": "1.5.0",
            "_model_name": "ProgressStyleModel",
            "_view_count": null,
            "_view_module": "@jupyter-widgets/base",
            "_view_module_version": "1.2.0",
            "_view_name": "StyleView",
            "bar_color": null,
            "description_width": ""
          }
        },
        "f9073b0aa4784e56bc756618dbe7ab3d": {
          "model_module": "@jupyter-widgets/base",
          "model_name": "LayoutModel",
          "model_module_version": "1.2.0",
          "state": {
            "_model_module": "@jupyter-widgets/base",
            "_model_module_version": "1.2.0",
            "_model_name": "LayoutModel",
            "_view_count": null,
            "_view_module": "@jupyter-widgets/base",
            "_view_module_version": "1.2.0",
            "_view_name": "LayoutView",
            "align_content": null,
            "align_items": null,
            "align_self": null,
            "border": null,
            "bottom": null,
            "display": null,
            "flex": null,
            "flex_flow": null,
            "grid_area": null,
            "grid_auto_columns": null,
            "grid_auto_flow": null,
            "grid_auto_rows": null,
            "grid_column": null,
            "grid_gap": null,
            "grid_row": null,
            "grid_template_areas": null,
            "grid_template_columns": null,
            "grid_template_rows": null,
            "height": null,
            "justify_content": null,
            "justify_items": null,
            "left": null,
            "margin": null,
            "max_height": null,
            "max_width": null,
            "min_height": null,
            "min_width": null,
            "object_fit": null,
            "object_position": null,
            "order": null,
            "overflow": null,
            "overflow_x": null,
            "overflow_y": null,
            "padding": null,
            "right": null,
            "top": null,
            "visibility": null,
            "width": null
          }
        },
        "4d4fb3d6aa0948829d950bf8acd45bcc": {
          "model_module": "@jupyter-widgets/controls",
          "model_name": "DescriptionStyleModel",
          "model_module_version": "1.5.0",
          "state": {
            "_model_module": "@jupyter-widgets/controls",
            "_model_module_version": "1.5.0",
            "_model_name": "DescriptionStyleModel",
            "_view_count": null,
            "_view_module": "@jupyter-widgets/base",
            "_view_module_version": "1.2.0",
            "_view_name": "StyleView",
            "description_width": ""
          }
        }
      }
    }
  },
  "cells": [
    {
      "cell_type": "markdown",
      "metadata": {
        "id": "view-in-github",
        "colab_type": "text"
      },
      "source": [
        "<a href=\"https://colab.research.google.com/gist/TBeatrix/fbf9d1bcf42dff37f7f4fe9df7058585/finalmilestone_vgg_age.ipynb\" target=\"_parent\"><img src=\"https://colab.research.google.com/assets/colab-badge.svg\" alt=\"Open In Colab\"/></a>"
      ]
    },
    {
      "cell_type": "markdown",
      "source": [
        "# **Deep Learning Python és LUA alapokon -  Homework -Final**\n",
        "\n",
        "\n",
        "---"
      ],
      "metadata": {
        "id": "g0ZKExEyPYDr"
      }
    },
    {
      "cell_type": "markdown",
      "source": [
        "***This notebook contains the image recognition task with VGG for the Age label.***\n",
        "\n",
        "\n",
        "---\n",
        "\n"
      ],
      "metadata": {
        "id": "ZR7PpEdhee8S"
      }
    },
    {
      "cell_type": "markdown",
      "source": [
        "**Group name : * *Rise of AI* ***\n",
        "\n",
        "Group Members: Tugyi Beatrix (T63K63), El-Ali Maya (BHI5LF), Simkó Máté (O3BMRX)\n",
        "\n",
        "**Chosen task: Face Recognition and Generation**\n",
        "\n",
        "**Dataset: [FairFace Datset](https://github.com/joojs/fairface)**"
      ],
      "metadata": {
        "id": "5ixN9vZSPdBF"
      }
    },
    {
      "cell_type": "markdown",
      "source": [
        "#Imports"
      ],
      "metadata": {
        "id": "uttRY0dhQFrp"
      }
    },
    {
      "cell_type": "code",
      "source": [
        "import torch\n",
        "import torchvision\n",
        "import torch.nn as nn\n",
        "import numpy as np\n",
        "import pandas as pd\n",
        "\n",
        "from sklearn.model_selection import train_test_split\n",
        "from torch.utils.data import Dataset\n",
        "\n",
        "import dlib\n",
        "import matplotlib.pyplot as plt\n",
        "import torchvision.transforms as transforms\n",
        "\n",
        "from torch.utils.data.dataloader import DataLoader\n",
        "from torchvision.utils import make_grid\n",
        "from PIL import Image\n",
        "import torch.nn.functional as F\n",
        "\n",
        "from tqdm.notebook import tqdm #a progress bar for aesthetic training visualisation\n",
        "import torchvision.models as models #for the models used in transfer learning\n",
        "from sklearn.metrics import classification_report\n",
        "from sklearn.metrics import confusion_matrix\n",
        "import seaborn as sns\n",
        "import datetime"
      ],
      "metadata": {
        "id": "eolEqRHhQFMZ"
      },
      "execution_count": null,
      "outputs": []
    },
    {
      "cell_type": "markdown",
      "source": [
        "#Loading the data"
      ],
      "metadata": {
        "id": "EpHBwnfJRbHF"
      }
    },
    {
      "cell_type": "code",
      "source": [
        "# getting the images\n",
        "! wget --load-cookies /tmp/cookies.txt \"https://docs.google.com/uc?export=download&confirm=$(wget --quiet --save-cookies /tmp/cookies.txt --keep-session-cookies --no-check-certificate 'https://docs.google.com/uc?export=download&id=1Z1RqRo0_JiavaZw2yzZG6WETdZQ8qX86' -O- | sed -rn 's/.*confirm=([0-9A-Za-z_]+).*/\\1\\n/p')&id=1Z1RqRo0_JiavaZw2yzZG6WETdZQ8qX86\" -O data.zip && rm -rf /tmp/cookies.txt"
      ],
      "metadata": {
        "id": "xs-tw2PoRaO5"
      },
      "execution_count": null,
      "outputs": []
    },
    {
      "cell_type": "code",
      "execution_count": null,
      "metadata": {
        "id": "fhIQNlY7PQOf"
      },
      "outputs": [],
      "source": [
        "# getting the training labels\n",
        "! wget --no-check-certificate 'https://docs.google.com/uc?export=download&id=1i1L3Yqwaio7YSOCj7ftgk8ZZchPG7dmH' -O \"fairface_label_train.csv\""
      ]
    },
    {
      "cell_type": "code",
      "source": [
        "# getting the validation labels\n",
        "! wget --no-check-certificate 'https://docs.google.com/uc?export=download&id=1wOdja-ezstMEp81tX1a-EYkFebev4h7D' -O \"fairface_label_val.csv\""
      ],
      "metadata": {
        "id": "l9KdruFlRoFY"
      },
      "execution_count": null,
      "outputs": []
    },
    {
      "cell_type": "code",
      "source": [
        "#unzip the images\n",
        "! unzip  *data.zip"
      ],
      "metadata": {
        "id": "rhDHB2jiR0U1"
      },
      "execution_count": null,
      "outputs": []
    },
    {
      "cell_type": "code",
      "source": [
        "#number of training images\n",
        "! ls train | wc -l"
      ],
      "metadata": {
        "colab": {
          "base_uri": "https://localhost:8080/"
        },
        "id": "v_TC5GVASEgC",
        "outputId": "8594bd24-1f31-4038-a947-e0629ccbe6e1"
      },
      "execution_count": 6,
      "outputs": [
        {
          "output_type": "stream",
          "name": "stdout",
          "text": [
            "86744\n"
          ]
        }
      ]
    },
    {
      "cell_type": "code",
      "source": [
        "#number of validation images\n",
        "! ls val | wc -l"
      ],
      "metadata": {
        "colab": {
          "base_uri": "https://localhost:8080/"
        },
        "id": "XMtoJODWSKSW",
        "outputId": "453c5d17-0f04-4086-efcd-78903f0b6ba3"
      },
      "execution_count": 7,
      "outputs": [
        {
          "output_type": "stream",
          "name": "stdout",
          "text": [
            "10954\n"
          ]
        }
      ]
    },
    {
      "cell_type": "markdown",
      "source": [
        "#**Data Preprocessing**"
      ],
      "metadata": {
        "id": "10O_JcgwP1Td"
      }
    },
    {
      "cell_type": "code",
      "source": [
        "#for encoding multiclass labels\n",
        "def one_hot_df(df,target):\n",
        "  #for race and age labels\n",
        "  if(target != 'multi'):\n",
        "    label = df[target]\n",
        "    label= pd.get_dummies(label)\n",
        "    return pd.concat([label], axis=1)\n",
        "  #for multiclass labels \n",
        "  age = df['age']\n",
        "  age = pd.get_dummies(age)\n",
        "  race = df['race']\n",
        "  race = pd.get_dummies(race)\n",
        "  gender = df['gender']\n",
        "  gender = pd.get_dummies(gender)\n",
        "   \n",
        "  return pd.concat([age,gender,race], axis=1)\n",
        "\n",
        "#for encoding binary labels\n",
        "def to_categorical(df,target):\n",
        "\n",
        "  df[target] = df[target].astype('category')\n",
        "  df[target] = df[target].cat.codes\n",
        "\n",
        "  return df\n",
        "\n",
        "#for encoding the given target label\n",
        "def encode_target(train,valid,test,target):\n",
        "  if(target == \"gender\"):\n",
        "    Y_train = to_categorical(train,target)\n",
        "    Y_valid = to_categorical(valid,target)\n",
        "    Y_test = to_categorical(test,target)\n",
        "  elif(target == \"multi\"):\n",
        "    Y_train = one_hot_df(train,target)\n",
        "    Y_valid = one_hot_df(valid,target)\n",
        "    Y_test = one_hot_df(test,target)\n",
        "  elif(target == \"race\" or target == \"age\"):\n",
        "    Y_train = one_hot_df(train,target)\n",
        "    Y_valid = one_hot_df(valid,target)\n",
        "    Y_test = one_hot_df(test,target)\n",
        "  return Y_train, Y_valid, Y_test"
      ],
      "metadata": {
        "id": "kyA_v3qbTPjD"
      },
      "execution_count": 8,
      "outputs": []
    },
    {
      "cell_type": "code",
      "source": [
        "#function for preprocess the labels and images\n",
        "def preprocess(target=\"multi\"):\n",
        "  #loading the labels\n",
        "  train_df = pd.read_csv(\"fairface_label_train.csv\")\n",
        "  train_df = train_df.drop(['service_test'], axis=1)\n",
        " # train_df = train_df[:10000]\n",
        "  print(\"Number of all training images: \" + str(len(train_df)))\n",
        "  valid_df = pd.read_csv(\"fairface_label_val.csv\")\n",
        "  valid_df = valid_df.drop([\"service_test\"], axis = 1)\n",
        "  #valid_df = valid_df[:2000]\n",
        "  print(\"Number of validation images: \" + str(len(valid_df)))\n",
        "  #splitting the data\n",
        "  print(\"Splitting the data...\")\n",
        "  if(target != \"multi\"):\n",
        "    train_x = train_df.loc[:, train_df.columns == \"file\"]\n",
        "    train_y = train_df.loc[:, train_df.columns == target]\n",
        "    X_train_raw, X_test_raw, y_train_raw, y_test_raw = train_test_split(train_x, train_y, test_size=0.1, random_state=42, stratify = train_y)\n",
        "    print(\"Number of training images: \" + str(len(X_train_raw)))\n",
        "    print(\"Number of test images: \" + str(len(X_test_raw)))\n",
        "    valid_x = valid_df.loc[:, valid_df.columns == \"file\"]\n",
        "    valid_y = valid_df.loc[:, valid_df.columns == target]\n",
        "  else:\n",
        "    train_x = train_df.loc[:, train_df.columns == \"file\"]\n",
        "    train_y = train_df.loc[:, train_df.columns != \"file\"]\n",
        "    X_train_raw, X_test_raw, y_train_raw, y_test_raw = train_test_split(train_x, train_y, test_size=0.1, random_state=42, stratify = train_y)\n",
        "    print(\"Number of training images: \" + str(len(X_train_raw)))\n",
        "    print(\"Number of test images: \" + str(len(X_test_raw)))\n",
        "    valid_x = valid_df.loc[:, valid_df.columns == \"file\"]\n",
        "    valid_y = valid_df.loc[:, valid_df.columns != \"file\"]\n",
        "  #encoding the data\n",
        "  print(\"Encoding target labels...\")\n",
        "  Y_train_, Y_valid_, Y_test_ = encode_target(y_train_raw, valid_y, y_test_raw, target)\n",
        "  #When creating the test dataset using train_test_split, the indeces were also scrambled, so they need to be renumbered\n",
        "  X_train_ = X_train_raw.reset_index(drop=True)\n",
        "  Y_train_ = Y_train_.reset_index(drop=True)\n",
        "  X_test_ = X_test_raw.reset_index(drop=True)\n",
        "  Y_test_ = Y_test_.reset_index(drop=True)\n",
        "  #renaming variable\n",
        "  X_valid_ = valid_x\n",
        "  print(\"Preprocessing finished!\")\n",
        "  return X_train_, Y_train_, X_valid_, Y_valid_, X_test_, Y_test_\n"
      ],
      "metadata": {
        "id": "VwuNejgbPy07"
      },
      "execution_count": 9,
      "outputs": []
    },
    {
      "cell_type": "markdown",
      "source": [
        "#**Create a DataLoader for the images**"
      ],
      "metadata": {
        "id": "ibWsc5a0XhLR"
      }
    },
    {
      "cell_type": "code",
      "source": [
        "#Defining our own dataset\n",
        "class FaceRecognitionDataset(Dataset):  \n",
        "    def __init__(self, image_ds, label_ds, transform=None):\n",
        "        self.label_ds = label_ds\n",
        "        self.ds = image_ds\n",
        "        self.transform = transform\n",
        "        \n",
        "    def __len__(self):\n",
        "        return len(self.ds)\n",
        "    \n",
        "    def __getitem__(self, idx):        \n",
        "         #return one image and it's label according to the index\n",
        "        img = dlib.load_rgb_image(self.ds[\"file\"][idx])\n",
        "        img = torchvision.transforms.ToPILImage()(img)\n",
        "        label = self.label_ds.iloc[idx]\n",
        "        label = torch.tensor(label)\n",
        "        if self.transform:\n",
        "            img = self.transform(img)  \n",
        "            return img, label"
      ],
      "metadata": {
        "id": "YOaogZLNXl0Y"
      },
      "execution_count": 10,
      "outputs": []
    },
    {
      "cell_type": "code",
      "source": [
        "# Trasformation of the Images\n",
        "# On the train set: We Crop, Flip and Rotate and we transform both the train, test and valid datasets to tensors\n",
        "\n",
        "train_transform = transforms.Compose([\n",
        "    transforms.CenterCrop(224),\n",
        "    transforms.RandomHorizontalFlip(p=0.3),\n",
        "    transforms.RandomRotation(degrees=20),\n",
        "    transforms.ToTensor(),  \n",
        "    # we used the same mean and std thats been used to trained the base ResNet and VGG models \n",
        "    transforms.Normalize(mean=[0.485, 0.456, 0.406],\n",
        "                                 std=[0.229, 0.224, 0.225])\n",
        "])\n",
        "\n",
        "val_and_test_transform = transforms.Compose([\n",
        "    transforms.ToTensor(),\n",
        "    transforms.Normalize(mean=[0.485, 0.456, 0.406],\n",
        "                                 std=[0.229, 0.224, 0.225])\n",
        "])"
      ],
      "metadata": {
        "id": "pP5H361WXq1K"
      },
      "execution_count": 11,
      "outputs": []
    },
    {
      "cell_type": "markdown",
      "source": [
        "#Set GPU usage"
      ],
      "metadata": {
        "id": "UYhQjLR_YTDG"
      }
    },
    {
      "cell_type": "code",
      "source": [
        "#set the training device for cuda if it is avaible\n",
        "def get_default_device():\n",
        "  if torch.cuda.is_available():\n",
        "    return torch.device('cuda')\n",
        "  else:\n",
        "    torch.device('cpu')\n",
        "#CUDA check\n",
        "device = get_default_device()\n",
        "print(device)\n",
        "\n",
        "def to_device(data, device):\n",
        "  if isinstance(data, (list, tuple)):\n",
        "    return [to_device(x, device) for x in data]\n",
        "  return data.to(device, non_blocking=True)\n",
        "\n",
        "class DeviceDataLoader():\n",
        "  def __init__(self, dl, device):\n",
        "    self.dl = dl \n",
        "    self.device = device\n",
        "\n",
        "  def __iter__(self):\n",
        "    for b in self.dl:\n",
        "      yield to_device(b, self.device)\n",
        "\n",
        "  def __len__(self):\n",
        "    return len(self.dl)"
      ],
      "metadata": {
        "colab": {
          "base_uri": "https://localhost:8080/"
        },
        "id": "BcUQgtFaYSrs",
        "outputId": "2205c4de-92f0-41a0-855c-d063dc46d588"
      },
      "execution_count": 12,
      "outputs": [
        {
          "output_type": "execute_result",
          "data": {
            "text/plain": [
              "device(type='cuda')"
            ]
          },
          "metadata": {},
          "execution_count": 12
        }
      ]
    },
    {
      "cell_type": "markdown",
      "source": [
        "#**Train Functions and Model**"
      ],
      "metadata": {
        "id": "t9vXGpexax0R"
      }
    },
    {
      "cell_type": "code",
      "source": [
        "#custom accuracy\n",
        "def accuracy(preds, labels): \n",
        "    #for binary labels\n",
        "    if(preds.shape[1]!=1): \n",
        "      _, preds = torch.max(preds, dim=1)\n",
        "      _, labels = torch.max(labels, dim=1)\n",
        "    #for multi labels\n",
        "    elif(preds.shape[1] == 18):\n",
        "       #split the predictions\n",
        "      age_preds, gender_preds,race_preds = torch.split(preds, [9,2,7], dim=1)\n",
        "      _, age_preds = torch.max(age_preds, dim=1)\n",
        "      _, race_preds = torch.max(race_preds, dim=1)\n",
        "      _, gender_preds = torch.max(gender_preds, dim=1)\n",
        "       #split the labels\n",
        "      age_labels, gender_labels,race_labels = torch.split(labels, [9,2,7], dim=1)\n",
        "      _, age_labels = torch.max(age_labels, dim=1)\n",
        "      _, race_labels = torch.max(race_labels, dim=1)\n",
        "      _, gender_labels = torch.max(gender_labels, dim=1)\n",
        "      #get accuracy for every label\n",
        "      age_acc = torch.tensor(torch.sum(age_preds == age_labels).item() / len(age_preds))\n",
        "      race_acc = torch.tensor(torch.sum(race_preds == race_labels).item() / len(race_preds))\n",
        "      gender_acc = torch.tensor(torch.sum(gender_preds == gender_labels).item() / len(gender_preds))\n",
        "\n",
        "      accs = [age_acc, race_acc, gender_acc]\n",
        "\n",
        "      print(accs)\n",
        "      return torch.mean(torch.tensor(accs, dtype = torch.float))\n",
        "    #for race or age labels\n",
        "    else:\n",
        "      preds = torch.round(preds)  \n",
        "    return torch.tensor(torch.sum(preds == labels).item() / len(preds))"
      ],
      "metadata": {
        "id": "UmNph-Q0zOTm"
      },
      "execution_count": 14,
      "outputs": []
    },
    {
      "cell_type": "code",
      "source": [
        "#custom loss for multi target\n",
        "def multi_target_loss(out, labels):\n",
        "  age_outputs, gender_outputs,race_outputs = torch.split(out, [9,2,7], dim=1)\n",
        "\n",
        "  age_outputs = age_outputs.cpu().detach().numpy()\n",
        "  gender_outputs = gender_outputs.cpu().detach().numpy()\n",
        "  race_outputs = race_outputs.cpu().detach().numpy()\n",
        "\n",
        "  age_pred = torch.tensor( age_outputs,dtype=torch.float32, device=device, requires_grad=True)\n",
        "  gender_pred = torch.tensor(gender_outputs,dtype=torch.float32, device=device, requires_grad=True)\n",
        "  race_pred = torch.tensor(race_outputs,dtype=torch.float32, device=device, requires_grad=True)\n",
        "\n",
        "  labels = labels.type(torch.float32)\n",
        "\n",
        "  age_labels, gender_labels, race_labels = torch.split(labels,[9,2,7],dim=1)\n",
        "\n",
        "  loss = nn.CrossEntropyLoss()\n",
        "\n",
        "  age_loss = loss(age_pred,age_labels)\n",
        "  gender_loss = loss(gender_pred,gender_labels)\n",
        "  race_loss = loss(race_pred,race_labels)\n",
        "\n",
        "  return (age_loss + gender_loss + race_loss)"
      ],
      "metadata": {
        "id": "icLqmawWoDx_"
      },
      "execution_count": 15,
      "outputs": []
    },
    {
      "cell_type": "code",
      "source": [
        "class ImageClassificationBase(nn.Module):\n",
        "    # training step\n",
        "    def training_step(self, batch):\n",
        "        img, targets = batch\n",
        "        out = self(img)\n",
        "        targets = targets.type(torch.float32)\n",
        "        # set the loss function\n",
        "        if(out.shape[1] == 1):\n",
        "          #for gender\n",
        "          loss_fn = nn.BCELoss() \n",
        "        elif (out.shape[1] == 18):\n",
        "          #for multilabels\n",
        "          loss_fn = multi_target_loss\n",
        "        else: \n",
        "          #for age and race\n",
        "          loss_fn = nn.CrossEntropyLoss()\n",
        "\n",
        "        loss = loss_fn(out, targets) \n",
        "        return loss\n",
        "    \n",
        "    \n",
        "    # validation step\n",
        "    def validation_step(self, batch):\n",
        "        img, targets = batch\n",
        "        targets = targets.type(torch.float32)\n",
        "        out = self(img)\n",
        "          #set the loss function\n",
        "        if(out.shape[1] == 1):\n",
        "          loss_fn = nn.BCELoss() \n",
        "        elif (out.shape[1] == 18):\n",
        "          loss_fn = multi_target_loss\n",
        "        else: \n",
        "          loss_fn = nn.CrossEntropyLoss()\n",
        "             \n",
        "        loss = loss_fn(out, targets) \n",
        "        targets = targets.type(torch.int32)\n",
        "         #get the accuracy\n",
        "        acc = accuracy(out, targets)\n",
        "        return {'val_acc':acc,  'val_loss':loss}\n",
        "    \n",
        "    # validation step at the end of the epoch\n",
        "    def validation_epoch_end(self, outputs):\n",
        "        batch_losses = [x['val_loss'] for x in outputs]\n",
        "        epoch_loss = torch.stack(batch_losses).mean()\n",
        "        batch_accs = [x['val_acc'] for x in outputs]\n",
        "        epoch_acc = torch.stack(batch_accs).mean()\n",
        "       \n",
        "        return {'val_loss':epoch_loss.item(), 'val_acc':epoch_acc.item()}\n",
        "\n",
        "\n",
        "    # Printing the results at the end of the epoch\n",
        "    def epoch_end(self, epoch, result):\n",
        "        print(\"Epoch [{}] : train_loss: {:.4f}, val_loss: {:.4f}, val_acc: {:.4f}\"\n",
        "        .format(epoch, result[\"train_loss\"], result[\"val_loss\"], result[\"val_acc\"]))"
      ],
      "metadata": {
        "id": "-mJn1_35ny2-"
      },
      "execution_count": 16,
      "outputs": []
    },
    {
      "cell_type": "code",
      "source": [
        "# Defining the model\n",
        "class FaceClassificationModel(ImageClassificationBase):\n",
        "    def __init__(self, num_classes, h, base_model):\n",
        "        super().__init__()       \n",
        "        if base_model == \"ResNet\":\n",
        "            self.network = torch.hub.load('pytorch/vision:v0.10.0', 'resnet50', pretrained=True)\n",
        "        else:\n",
        "            self.network = torch.hub.load('pytorch/vision:v0.10.0', 'vgg19', pretrained=True)\n",
        "        if (num_classes == 1):\n",
        "           self.activation = nn.Sigmoid()\n",
        "        else:\n",
        "          self.activation = nn.Softmax(1)\n",
        "          #Change the last layers of the models\n",
        "        if base_model == \"ResNet\":\n",
        "          num_ftrs = self.network.fc.in_features\n",
        "          self.network.fc = nn.Sequential(\n",
        "              # Add extra linear layers to ResNet Model\n",
        "              nn.Linear(num_ftrs, h),\n",
        "              nn.ReLU(inplace=True),\n",
        "              nn.Linear(h,num_classes),  # for the n output\n",
        "              self.activation\n",
        "          )\n",
        "        else:\n",
        "           #Add three extra linear layer to VGG model\n",
        "           num_ftrs = 25088\n",
        "           self.network.classifier = nn.Sequential(\n",
        "              nn.Linear(num_ftrs, 4096),\n",
        "              nn.ReLU(inplace=True),\n",
        "              nn.Dropout(p=0.5),\n",
        "              nn.Linear(4096, 1024),\n",
        "              nn.ReLU(inplace=True),\n",
        "              nn.Dropout(p=0.5),\n",
        "              nn.Linear(1024, num_classes),\n",
        "              self.activation\n",
        "         )\n",
        "    def forward(self, xb):\n",
        "        return self.network(xb)"
      ],
      "metadata": {
        "id": "c8-NjTmOn80z"
      },
      "execution_count": 23,
      "outputs": []
    },
    {
      "cell_type": "code",
      "source": [
        "def get_lr(optimizer):\n",
        "    for param_group in optimizer.param_groups:\n",
        "        return param_group['lr']\n",
        "\n",
        "#main function for training \n",
        "def fit_one_cycle(epochs, max_lr, model, target, batch_size, weight_decay, grad_clip, opt_func):\n",
        "     #preprocessing images and labels\n",
        "    X_train, Y_train, X_valid, Y_valid, X_test, Y_test = preprocess(target)\n",
        "    train_dataset = FaceRecognitionDataset(X_train, Y_train, train_transform)\n",
        "    val_dataset = FaceRecognitionDataset(X_valid, Y_valid, val_and_test_transform)\n",
        "    train_dl = DataLoader(train_dataset, batch_size, shuffle=True, num_workers=2, pin_memory=True)\n",
        "    val_dl = DataLoader(val_dataset, batch_size, num_workers=2, pin_memory=True)\n",
        "    train_dl = DeviceDataLoader(train_dl, device)\n",
        "    val_dl = DeviceDataLoader(val_dl, device)\n",
        "\n",
        "    torch.cuda.empty_cache()\n",
        "    history = []\n",
        "    #set optimalizer\n",
        "    optimizer = opt_func(model.parameters(), max_lr, weight_decay=weight_decay)\n",
        "    # setting the learning rate scheduler\n",
        "    sched = torch.optim.lr_scheduler.OneCycleLR(optimizer, max_lr, epochs=epochs, steps_per_epoch=len(train_dl))\n",
        "    for epoch in range(epochs):      \n",
        "        # Training\n",
        "        model.train()       \n",
        "        train_losses = []\n",
        "        lrs = []\n",
        "        for batch in tqdm(train_dl):\n",
        "            loss = model.training_step(batch)\n",
        "            train_losses.append(loss)       \n",
        "            # Gradient backpropogation\n",
        "            loss.backward()            \n",
        "            # Gradient clipping if needed\n",
        "            if grad_clip:\n",
        "                nn.utils.clip_grad_value_(model.parameters(), grad_clip)              \n",
        "            # Performing gradient descent -> recalculating weights\n",
        "            optimizer.step()           \n",
        "            # Reset gradients\n",
        "            optimizer.zero_grad()         \n",
        "            # Save, update learning rate\n",
        "            lrs.append(get_lr(optimizer))          \n",
        "            sched.step()\n",
        "            \n",
        "        # Validation phase\n",
        "        result = evaluate(model, val_dl)\n",
        "        result['train_loss'] = torch.stack(train_losses).mean().item()\n",
        "        result['lrs'] = lrs\n",
        "        model.epoch_end(epoch, result)\n",
        "        history.append(result)\n",
        "             \n",
        "    return history\n",
        "\n",
        "# For evaluating the test and the validation datasets -> no gradient calculation\n",
        "@torch.no_grad()\n",
        "def evaluate(model, val_loader):\n",
        "    model.eval()\n",
        "    outputs = [model.validation_step(batch) for batch in val_loader]\n",
        "    return model.validation_epoch_end(outputs)\n",
        "\n",
        "\n",
        "#For prediction\n",
        "@torch.no_grad()\n",
        "def predict(model, test_loader, target):\n",
        "  preds = [model(img) for img, targets in test_loader]\n",
        "  preds = [pred.cpu().detach().numpy() for pred in preds]\n",
        "  if(target != \"gender\"):\n",
        "    preds = [np.argmax(pred, axis=-1) for pred in preds]\n",
        "  else:\n",
        "    preds = [np.round(pred) for pred in preds]\n",
        "  preds = [item for sublist in preds for item in sublist] \n",
        "  return preds"
      ],
      "metadata": {
        "id": "5LZ1cCZEqdZJ"
      },
      "execution_count": 24,
      "outputs": []
    },
    {
      "cell_type": "markdown",
      "source": [
        "# **You can choose the type here!**"
      ],
      "metadata": {
        "id": "D1eMlS_iwdoc"
      }
    },
    {
      "cell_type": "code",
      "source": [
        "target = \"age\" #, \"gender\", \"multi\", \"race\""
      ],
      "metadata": {
        "id": "-09nPG5uwiOw"
      },
      "execution_count": 25,
      "outputs": []
    },
    {
      "cell_type": "code",
      "source": [
        "#initialise mode\n",
        "if target == \"multi\":\n",
        "  num_classes = 18\n",
        "elif target == \"gender\":\n",
        "   num_classes = 1\n",
        "elif target == \"age\":\n",
        "   num_classes = 9\n",
        "else:\n",
        "   num_classes = 7\n"
      ],
      "metadata": {
        "id": "CaAw3-lTpetp"
      },
      "execution_count": 26,
      "outputs": []
    },
    {
      "cell_type": "markdown",
      "source": [
        "#Hyperparameter"
      ],
      "metadata": {
        "id": "uFJZND7ZcWbF"
      }
    },
    {
      "cell_type": "code",
      "source": [
        "#hiperparameters for optimalization\n",
        "\n",
        "opt_func = [torch.optim.SGD, torch.optim.Adam]\n",
        "max_lr = [0.005, 0.001]\n",
        "grad_clip = [0.1, 0.2] \n",
        "weight_decay = [1e-4, 1e-5]\n",
        "batch_size = [16, 32]\n",
        "hidden_size = [ 128, 256]\n",
        "base_model = \"ResNet\" #, 'VGG'\n",
        "num_epochs = 3"
      ],
      "metadata": {
        "id": "azFD2xFByWek"
      },
      "execution_count": null,
      "outputs": []
    },
    {
      "cell_type": "code",
      "source": [
        "def run(opt, lr, gc, wd, batch, h):\n",
        "    Model = FaceClassificationModel(num_classes, h, base_model)\n",
        "    to_device(Model, device)\n",
        "    history_RN = fit_one_cycle(num_epochs, lr, Model, target, batch, wd, gc, opt)"
      ],
      "metadata": {
        "id": "5HvQ2YsYB15c"
      },
      "execution_count": null,
      "outputs": []
    },
    {
      "cell_type": "code",
      "source": [
        "#Optimalization\n",
        "for opt in opt_func:\n",
        "  for lr in max_lr:\n",
        "    for gc in grad_clip:\n",
        "      for wd in weight_decay:\n",
        "        for batch in  batch_size:\n",
        "           for h in  hidden_size:\n",
        "              run(opt, lr, gc, wd, batch, h)            \n",
        "              print(opt, lr, gc, wd, batch, h)"
      ],
      "metadata": {
        "id": "rPygIm6NBV_Q"
      },
      "execution_count": null,
      "outputs": []
    },
    {
      "cell_type": "markdown",
      "source": [
        "#**Training**"
      ],
      "metadata": {
        "id": "p1DepouLYOiY"
      }
    },
    {
      "cell_type": "code",
      "source": [
        "#set hiperparameters\n",
        "\n",
        "num_epochs = 3\n",
        "opt_func = torch.optim.SGD\n",
        "max_lr = 0.005\n",
        "grad_clip = 0.2\n",
        "weight_decay = 1e-5\n",
        "batch_size = 32\n",
        "hidden_size = 128\n",
        "base_model = \"VGG\" #, 'VGG'\n"
      ],
      "metadata": {
        "id": "gVYySDKKcWKD"
      },
      "execution_count": 46,
      "outputs": []
    },
    {
      "cell_type": "code",
      "source": [
        "Model = FaceClassificationModel(num_classes, hidden_size , base_model)\n",
        "to_device(Model, device)"
      ],
      "metadata": {
        "id": "q4LUxmMRL6jw",
        "colab": {
          "base_uri": "https://localhost:8080/"
        },
        "outputId": "42369cf5-36ae-4159-c2fd-d0dbbbd7709b"
      },
      "execution_count": 31,
      "outputs": [
        {
          "output_type": "stream",
          "name": "stderr",
          "text": [
            "Using cache found in /root/.cache/torch/hub/pytorch_vision_v0.10.0\n",
            "/usr/local/lib/python3.8/dist-packages/torchvision/models/_utils.py:208: UserWarning: The parameter 'pretrained' is deprecated since 0.13 and may be removed in the future, please use 'weights' instead.\n",
            "  warnings.warn(\n",
            "/usr/local/lib/python3.8/dist-packages/torchvision/models/_utils.py:223: UserWarning: Arguments other than a weight enum or `None` for 'weights' are deprecated since 0.13 and may be removed in the future. The current behavior is equivalent to passing `weights=VGG19_Weights.IMAGENET1K_V1`. You can also use `weights=VGG19_Weights.DEFAULT` to get the most up-to-date weights.\n",
            "  warnings.warn(msg)\n"
          ]
        },
        {
          "output_type": "execute_result",
          "data": {
            "text/plain": [
              "FaceClassificationModel(\n",
              "  (network): VGG(\n",
              "    (features): Sequential(\n",
              "      (0): Conv2d(3, 64, kernel_size=(3, 3), stride=(1, 1), padding=(1, 1))\n",
              "      (1): ReLU(inplace=True)\n",
              "      (2): Conv2d(64, 64, kernel_size=(3, 3), stride=(1, 1), padding=(1, 1))\n",
              "      (3): ReLU(inplace=True)\n",
              "      (4): MaxPool2d(kernel_size=2, stride=2, padding=0, dilation=1, ceil_mode=False)\n",
              "      (5): Conv2d(64, 128, kernel_size=(3, 3), stride=(1, 1), padding=(1, 1))\n",
              "      (6): ReLU(inplace=True)\n",
              "      (7): Conv2d(128, 128, kernel_size=(3, 3), stride=(1, 1), padding=(1, 1))\n",
              "      (8): ReLU(inplace=True)\n",
              "      (9): MaxPool2d(kernel_size=2, stride=2, padding=0, dilation=1, ceil_mode=False)\n",
              "      (10): Conv2d(128, 256, kernel_size=(3, 3), stride=(1, 1), padding=(1, 1))\n",
              "      (11): ReLU(inplace=True)\n",
              "      (12): Conv2d(256, 256, kernel_size=(3, 3), stride=(1, 1), padding=(1, 1))\n",
              "      (13): ReLU(inplace=True)\n",
              "      (14): Conv2d(256, 256, kernel_size=(3, 3), stride=(1, 1), padding=(1, 1))\n",
              "      (15): ReLU(inplace=True)\n",
              "      (16): Conv2d(256, 256, kernel_size=(3, 3), stride=(1, 1), padding=(1, 1))\n",
              "      (17): ReLU(inplace=True)\n",
              "      (18): MaxPool2d(kernel_size=2, stride=2, padding=0, dilation=1, ceil_mode=False)\n",
              "      (19): Conv2d(256, 512, kernel_size=(3, 3), stride=(1, 1), padding=(1, 1))\n",
              "      (20): ReLU(inplace=True)\n",
              "      (21): Conv2d(512, 512, kernel_size=(3, 3), stride=(1, 1), padding=(1, 1))\n",
              "      (22): ReLU(inplace=True)\n",
              "      (23): Conv2d(512, 512, kernel_size=(3, 3), stride=(1, 1), padding=(1, 1))\n",
              "      (24): ReLU(inplace=True)\n",
              "      (25): Conv2d(512, 512, kernel_size=(3, 3), stride=(1, 1), padding=(1, 1))\n",
              "      (26): ReLU(inplace=True)\n",
              "      (27): MaxPool2d(kernel_size=2, stride=2, padding=0, dilation=1, ceil_mode=False)\n",
              "      (28): Conv2d(512, 512, kernel_size=(3, 3), stride=(1, 1), padding=(1, 1))\n",
              "      (29): ReLU(inplace=True)\n",
              "      (30): Conv2d(512, 512, kernel_size=(3, 3), stride=(1, 1), padding=(1, 1))\n",
              "      (31): ReLU(inplace=True)\n",
              "      (32): Conv2d(512, 512, kernel_size=(3, 3), stride=(1, 1), padding=(1, 1))\n",
              "      (33): ReLU(inplace=True)\n",
              "      (34): Conv2d(512, 512, kernel_size=(3, 3), stride=(1, 1), padding=(1, 1))\n",
              "      (35): ReLU(inplace=True)\n",
              "      (36): MaxPool2d(kernel_size=2, stride=2, padding=0, dilation=1, ceil_mode=False)\n",
              "    )\n",
              "    (avgpool): AdaptiveAvgPool2d(output_size=(7, 7))\n",
              "    (classifier): Sequential(\n",
              "      (0): Linear(in_features=25088, out_features=4096, bias=True)\n",
              "      (1): ReLU(inplace=True)\n",
              "      (2): Dropout(p=0.5, inplace=False)\n",
              "      (3): Linear(in_features=4096, out_features=1024, bias=True)\n",
              "      (4): ReLU(inplace=True)\n",
              "      (5): Dropout(p=0.5, inplace=False)\n",
              "      (6): Linear(in_features=1024, out_features=9, bias=True)\n",
              "      (7): Softmax(dim=1)\n",
              "    )\n",
              "  )\n",
              "  (activation): Softmax(dim=1)\n",
              ")"
            ]
          },
          "metadata": {},
          "execution_count": 31
        }
      ]
    },
    {
      "cell_type": "markdown",
      "source": [],
      "metadata": {
        "id": "ISZ8Ic3Mt8tf"
      }
    },
    {
      "cell_type": "code",
      "source": [],
      "metadata": {
        "id": "A83auOqosb1S"
      },
      "execution_count": null,
      "outputs": []
    },
    {
      "cell_type": "code",
      "source": [
        "history_RN = fit_one_cycle(num_epochs, max_lr, Model, target, batch_size, \n",
        "                           weight_decay, grad_clip, opt_func)"
      ],
      "metadata": {
        "colab": {
          "base_uri": "https://localhost:8080/",
          "height": 385,
          "referenced_widgets": [
            "0a283521d5af400284a64784af26588f",
            "2c5f118872a044978f40b637fe52b3f2",
            "2e5bd2f62acf4ef68030dcb4e464c558",
            "0c00306a745e4461a390ae46419acc5e",
            "adfaa7546559463fb7855946a83356cb",
            "5d98cd09de9b4dc89ca124644d08034e",
            "05b5ddd5cbcc45019b515667d7d59d75",
            "768d3b1f3f9f4da5b42b0014a2805775",
            "de5ba3d74cbb4c369ac0f1b1cb7047a4",
            "77735384190340958e715d05529453e2",
            "6b1160bde2394cdaa048c10494dbe482",
            "7e22e5acf15f4f5f8f807f380f60410e",
            "20fe564bb74d4b04a6d932a9cac0e330",
            "512ecb0cae624060b75ecffee6ddb7ee",
            "102073de3d4645bbb7a42ae776e48405",
            "cfc2da1ceafd4363b375c8b56f8ba418",
            "9a8aaf2354f140309f5aded7ab65af6c",
            "441c30e639aa447e9132de5757a970d8",
            "e7bd0422e44b440e9ad94ab04b39a191",
            "84cab79b2d0b44a0a4bd1dd534de6359",
            "1e387adff39b47e4ade9eb7c2e8df519",
            "79637411a12a41f18385425cb0d6a411",
            "4ed44a4f6ca34127add96dbaef3656b6",
            "f2f9300be8284107adc9d2940261247e",
            "081d4cfdde854e45a3e143bf5e6f465b",
            "a514482f75c4405fb1c9b152a9387462",
            "593a4b4eee0c4d53931631564516a1ca",
            "53fa130d4547411792159546081da571",
            "091410dd95854335a82816e494c9d7ba",
            "06424de3723c481badfa5027bf033a02",
            "92871f673793494d87bb9faf8be9fc31",
            "7fc219299c3b4b32997e91868020b997",
            "ccd2f93645cf4d67b47825f74bb323c9",
            "d1b192a677ed4235bc14da9a490264aa",
            "80700a29eff648de8d7465a89174effe",
            "de42236f11c24227a19c6a81d05a3d9a",
            "e5aa821a2efc42ce9c345d57c96e9590",
            "f2a35cb22a394ceaad1eb832eab15941",
            "599b5555c97f4b3e8dcf79666ee9ff1f",
            "e6400f60438e4b43a142c421a9ab194a",
            "b817a1a639b640a1bc6fa903f08504ed",
            "42f63fa580414beb827d2241c26bfddc",
            "3ffda6a050df40ccb49e0a7f30e7c367",
            "9d19d8ff3629460ca4845e24a75d3279",
            "da590cc708854a1195d86e5c6952feaf",
            "1408d6e50c434ad09fcc241e2c3760b6",
            "5651e846f4cd4590b6709495b22b2d73",
            "27ad2c24268247589bcc4f5b8466f91a",
            "9e0a59660c874dbd9e39ffa37a300024",
            "94f5fd3f28374982a8da08cce9997fca",
            "b51cb876a9214d22a637fc8c7333e268",
            "bf707c636fef4ef1a83ef2db1639d293",
            "e1f9480e190747b1a1b316332fca4595",
            "d3db462d7d0b487a9fa77f0aed4270fd",
            "16ac8d58e49a437db9c320a899dd7586"
          ]
        },
        "id": "kTywzdvHfhpK",
        "outputId": "f276bde6-c99f-4e47-c88c-2943c611cda8"
      },
      "execution_count": 32,
      "outputs": [
        {
          "output_type": "stream",
          "name": "stdout",
          "text": [
            "Number of all training images: 86744\n",
            "Number of validation images: 10954\n",
            "Splitting the data...\n",
            "Number of training images: 78069\n",
            "Number of test images: 8675\n",
            "Encoding target labels...\n",
            "Preprocessing finished!\n"
          ]
        },
        {
          "output_type": "display_data",
          "data": {
            "text/plain": [
              "  0%|          | 0/2440 [00:00<?, ?it/s]"
            ],
            "application/vnd.jupyter.widget-view+json": {
              "version_major": 2,
              "version_minor": 0,
              "model_id": "0a283521d5af400284a64784af26588f"
            }
          },
          "metadata": {}
        },
        {
          "output_type": "stream",
          "name": "stdout",
          "text": [
            "Epoch [0] : train_loss: 2.0602, val_loss: 2.0353, val_acc: 0.3296\n"
          ]
        },
        {
          "output_type": "display_data",
          "data": {
            "text/plain": [
              "  0%|          | 0/2440 [00:00<?, ?it/s]"
            ],
            "application/vnd.jupyter.widget-view+json": {
              "version_major": 2,
              "version_minor": 0,
              "model_id": "7e22e5acf15f4f5f8f807f380f60410e"
            }
          },
          "metadata": {}
        },
        {
          "output_type": "stream",
          "name": "stdout",
          "text": [
            "Epoch [1] : train_loss: 2.0338, val_loss: 2.0059, val_acc: 0.3569\n"
          ]
        },
        {
          "output_type": "display_data",
          "data": {
            "text/plain": [
              "  0%|          | 0/2440 [00:00<?, ?it/s]"
            ],
            "application/vnd.jupyter.widget-view+json": {
              "version_major": 2,
              "version_minor": 0,
              "model_id": "4ed44a4f6ca34127add96dbaef3656b6"
            }
          },
          "metadata": {}
        },
        {
          "output_type": "stream",
          "name": "stdout",
          "text": [
            "Epoch [2] : train_loss: 2.0138, val_loss: 2.0025, val_acc: 0.3611\n"
          ]
        },
        {
          "output_type": "display_data",
          "data": {
            "text/plain": [
              "  0%|          | 0/2440 [00:00<?, ?it/s]"
            ],
            "application/vnd.jupyter.widget-view+json": {
              "version_major": 2,
              "version_minor": 0,
              "model_id": "d1b192a677ed4235bc14da9a490264aa"
            }
          },
          "metadata": {}
        },
        {
          "output_type": "stream",
          "name": "stdout",
          "text": [
            "Epoch [3] : train_loss: 2.0014, val_loss: 1.9895, val_acc: 0.3778\n"
          ]
        },
        {
          "output_type": "display_data",
          "data": {
            "text/plain": [
              "  0%|          | 0/2440 [00:00<?, ?it/s]"
            ],
            "application/vnd.jupyter.widget-view+json": {
              "version_major": 2,
              "version_minor": 0,
              "model_id": "da590cc708854a1195d86e5c6952feaf"
            }
          },
          "metadata": {}
        },
        {
          "output_type": "stream",
          "name": "stdout",
          "text": [
            "Epoch [4] : train_loss: 1.9808, val_loss: 1.9797, val_acc: 0.3850\n"
          ]
        }
      ]
    },
    {
      "cell_type": "markdown",
      "source": [
        "**Continue running with the same model**"
      ],
      "metadata": {
        "id": "coyFnkcJCZ3H"
      }
    },
    {
      "cell_type": "code",
      "source": [
        "history_RN = fit_one_cycle(num_epochs, max_lr, Model, target, batch_size, \n",
        "                           weight_decay, grad_clip, opt_func)"
      ],
      "metadata": {
        "colab": {
          "base_uri": "https://localhost:8080/",
          "height": 287,
          "referenced_widgets": [
            "1535bdd600ac40bb8588162d954bd281",
            "7efa072fcf88479c876009198dbfa7fb",
            "c5e945c27cc34322ab167609fd5653a8",
            "c2fe5d9ebd7249cbac4fb31d6e09cf20",
            "42a7d4944be1462ba39945f0bfb4fdeb",
            "dc1db26a1a1e410d9603ef145d23b768",
            "c248355a0f8942058d3e38821f78fb39",
            "92ee2ec0f56e4f7ab296344f0208432f",
            "f0203475256c43d5966a9388f1c8d6b1",
            "c188a65a7f0948a8aaffd2bb084470b9",
            "ccdae84ada92475ab12d42a4d6c8d483",
            "26c6f6f5b93d4c07a0ee07ad7dbc0579",
            "7e0e5a3ceedf49ef9bbe9b4353d11b1a",
            "0fcb1601b7f643039ce7ae35312eaa3c",
            "ff6053f5551342b5b4e6ec144dc96813",
            "131bc560cdfd45d2a09952539272f4e0",
            "d9f146908cb541e39109be0cda86ab48",
            "b45ca66c0391445e9f56033772b93974",
            "db6d40f321144ff6a6eea26b2cd0aee3",
            "f5f2f05f75744fd1aaae0722bddb09d4",
            "40981b356841447dbd29eff0ad4c4679",
            "58ada7798e4c469688cea90e7f964081",
            "fcb207d35b0c4ab8b1fae55763a2fffb",
            "65b802ce0ff24e30991a7be82370dc1a",
            "99749188b82b4a3bb5393efb39af863b",
            "90cc6d5d04c1465290fedf11ea977e12",
            "1383fb0af8ed4637b4bdca10e5236a29",
            "0975bc300fa74fdd918fd7c752c75f68",
            "e50f3fd7af1d458a838c8897c8997761",
            "c3df0e33f9e94607857d26156a8c021b",
            "0a48f9ad500a4fb1a316a304ccba6b90",
            "f9073b0aa4784e56bc756618dbe7ab3d",
            "4d4fb3d6aa0948829d950bf8acd45bcc"
          ]
        },
        "id": "E6SFNBGyCYXj",
        "outputId": "d04ee1f6-89a8-4a70-9921-b89b22dc8b11"
      },
      "execution_count": 47,
      "outputs": [
        {
          "output_type": "stream",
          "name": "stdout",
          "text": [
            "Number of all training images: 86744\n",
            "Number of validation images: 10954\n",
            "Splitting the data...\n",
            "Number of training images: 78069\n",
            "Number of test images: 8675\n",
            "Encoding target labels...\n",
            "Preprocessing finished!\n"
          ]
        },
        {
          "output_type": "display_data",
          "data": {
            "text/plain": [
              "  0%|          | 0/2440 [00:00<?, ?it/s]"
            ],
            "application/vnd.jupyter.widget-view+json": {
              "version_major": 2,
              "version_minor": 0,
              "model_id": "1535bdd600ac40bb8588162d954bd281"
            }
          },
          "metadata": {}
        },
        {
          "output_type": "stream",
          "name": "stdout",
          "text": [
            "Epoch [0] : train_loss: 1.9930, val_loss: 1.9905, val_acc: 0.3746\n"
          ]
        },
        {
          "output_type": "display_data",
          "data": {
            "text/plain": [
              "  0%|          | 0/2440 [00:00<?, ?it/s]"
            ],
            "application/vnd.jupyter.widget-view+json": {
              "version_major": 2,
              "version_minor": 0,
              "model_id": "26c6f6f5b93d4c07a0ee07ad7dbc0579"
            }
          },
          "metadata": {}
        },
        {
          "output_type": "stream",
          "name": "stdout",
          "text": [
            "Epoch [1] : train_loss: 1.9998, val_loss: 1.9909, val_acc: 0.3756\n"
          ]
        },
        {
          "output_type": "display_data",
          "data": {
            "text/plain": [
              "  0%|          | 0/2440 [00:00<?, ?it/s]"
            ],
            "application/vnd.jupyter.widget-view+json": {
              "version_major": 2,
              "version_minor": 0,
              "model_id": "fcb207d35b0c4ab8b1fae55763a2fffb"
            }
          },
          "metadata": {}
        },
        {
          "output_type": "stream",
          "name": "stdout",
          "text": [
            "Epoch [2] : train_loss: 1.9773, val_loss: 1.9778, val_acc: 0.3885\n"
          ]
        }
      ]
    },
    {
      "cell_type": "markdown",
      "source": [
        "#**Visualize History**"
      ],
      "metadata": {
        "id": "QzfwEkIUqvSJ"
      }
    },
    {
      "cell_type": "code",
      "source": [
        "#get the datas from the training history\n",
        "val_loss = []\n",
        "train_loss = []\n",
        "val_acc = []\n",
        "time = list(range(len(history_RN)))\n",
        "for h in history_RN:\n",
        "    val_loss.append(h['val_loss'])\n",
        "    train_loss.append(h['train_loss'])\n",
        "    val_acc.append(h['val_acc'])"
      ],
      "metadata": {
        "id": "vMTY9W_dquZf"
      },
      "execution_count": 48,
      "outputs": []
    },
    {
      "cell_type": "code",
      "source": [
        "#Plot the changes in the training and validation loss functions\n",
        "plt.plot(time, val_loss, c='red', label='val_loss', marker='x')\n",
        "plt.plot(time, train_loss, c='blue', label='train_loss', marker='x')\n",
        "plt.xlabel('epochs')\n",
        "plt.ylabel('loss')\n",
        "plt.legend()\n",
        "plt.show()"
      ],
      "metadata": {
        "id": "eQHKPYFDqzwB",
        "colab": {
          "base_uri": "https://localhost:8080/",
          "height": 279
        },
        "outputId": "349d1145-0a6b-4c91-afd9-97ec99b936dc"
      },
      "execution_count": 34,
      "outputs": [
        {
          "output_type": "display_data",
          "data": {
            "text/plain": [
              "<Figure size 432x288 with 1 Axes>"
            ],
            "image/png": "[encoded data removed]"
          },
          "metadata": {
            "needs_background": "light"
          }
        }
      ]
    },
    {
      "cell_type": "markdown",
      "source": [
        "**this is the continuation of the previous one, the last 3 epoch**"
      ],
      "metadata": {
        "id": "JzNLBNZuUWS6"
      }
    },
    {
      "cell_type": "code",
      "source": [
        "#Plot the changes in the training and validation loss functions\n",
        "plt.plot(time, val_loss, c='red', label='val_loss', marker='x')\n",
        "plt.plot(time, train_loss, c='blue', label='train_loss', marker='x')\n",
        "plt.xlabel('epochs')\n",
        "plt.ylabel('loss')\n",
        "plt.legend()\n",
        "plt.show()"
      ],
      "metadata": {
        "colab": {
          "base_uri": "https://localhost:8080/",
          "height": 279
        },
        "id": "jlpzdojRTjz8",
        "outputId": "44335d73-4b05-484e-b60e-058e5db02353"
      },
      "execution_count": 49,
      "outputs": [
        {
          "output_type": "display_data",
          "data": {
            "text/plain": [
              "<Figure size 432x288 with 1 Axes>"
            ],
            "image/png": "[encoded data removed]"
          },
          "metadata": {
            "needs_background": "light"
          }
        }
      ]
    },
    {
      "cell_type": "code",
      "source": [
        "#Plot the changes in the validation accuracy\n",
        "plt.plot(time, val_acc, c='red', label='accuracy', marker='x')\n",
        "plt.xlabel('epochs')\n",
        "plt.ylabel('accuracy')\n",
        "plt.legend()\n",
        "plt.show()"
      ],
      "metadata": {
        "id": "wnbFD0BIq25i",
        "colab": {
          "base_uri": "https://localhost:8080/",
          "height": 279
        },
        "outputId": "c9387dbf-9d3a-49bd-8caa-dc5d1284d751"
      },
      "execution_count": 35,
      "outputs": [
        {
          "output_type": "display_data",
          "data": {
            "text/plain": [
              "<Figure size 432x288 with 1 Axes>"
            ],
            "image/png": "[encoded data removed]"
          },
          "metadata": {
            "needs_background": "light"
          }
        }
      ]
    },
    {
      "cell_type": "markdown",
      "source": [
        "**this is the continuation of the previous one, the last 3 epoch**"
      ],
      "metadata": {
        "id": "si5sQqhAUHdN"
      }
    },
    {
      "cell_type": "code",
      "source": [
        "#Plot the changes in the validation accuracy\n",
        "plt.plot(time, val_acc, c='red', label='accuracy', marker='x')\n",
        "plt.xlabel('epochs')\n",
        "plt.ylabel('accuracy')\n",
        "plt.legend()\n",
        "plt.show()"
      ],
      "metadata": {
        "colab": {
          "base_uri": "https://localhost:8080/",
          "height": 279
        },
        "id": "2L7OBeF6TmnQ",
        "outputId": "a7aa4ebe-aa5e-43ec-b759-22a70d0c9d2a"
      },
      "execution_count": 50,
      "outputs": [
        {
          "output_type": "display_data",
          "data": {
            "text/plain": [
              "<Figure size 432x288 with 1 Axes>"
            ],
            "image/png": "[encoded data removed]"
          },
          "metadata": {
            "needs_background": "light"
          }
        }
      ]
    },
    {
      "cell_type": "markdown",
      "source": [
        "#Save the model"
      ],
      "metadata": {
        "id": "zcMDNlhvq8__"
      }
    },
    {
      "cell_type": "code",
      "source": [
        "from sklearn.metrics import classification_report\n",
        "from sklearn.metrics import confusion_matrix\n",
        "import seaborn as sns\n",
        "import datetime"
      ],
      "metadata": {
        "id": "SbPobTiSBkxQ"
      },
      "execution_count": 37,
      "outputs": []
    },
    {
      "cell_type": "code",
      "source": [
        "torch.save(Model, 'VGG_'+target+'_'+str(datetime.datetime.now())+'.pth')"
      ],
      "metadata": {
        "id": "XKkTi99tq8hA"
      },
      "execution_count": 51,
      "outputs": []
    },
    {
      "cell_type": "markdown",
      "source": [
        "#Evaluation"
      ],
      "metadata": {
        "id": "a1Z1RdEPvASA"
      }
    },
    {
      "cell_type": "code",
      "source": [
        "#load the model if needed\n",
        "saved = torch.load('ResnetModel_gender.pth')"
      ],
      "metadata": {
        "id": "yt_jnuTgA5sU"
      },
      "execution_count": null,
      "outputs": []
    },
    {
      "cell_type": "code",
      "source": [
        "#reset target id needed\n",
        "target = \"age\""
      ],
      "metadata": {
        "id": "XWuOCi8FukoD"
      },
      "execution_count": null,
      "outputs": []
    },
    {
      "cell_type": "markdown",
      "source": [
        "## Get the datas for testing"
      ],
      "metadata": {
        "id": "W3sdFAFtupVK"
      }
    },
    {
      "cell_type": "code",
      "source": [
        "\n",
        "X_train, Y_train, X_valid, Y_valid, X_test, Y_test = preprocess(target)\n",
        "#Creating the datasets\n",
        "test_dataset = FaceRecognitionDataset(X_test, Y_test, val_and_test_transform)\n",
        "#Create the dataloaders\n",
        "batch_size = 32\n",
        "num_workers = 2\n",
        "test_dl = DataLoader(test_dataset, batch_size, num_workers=num_workers, pin_memory=True)\n",
        "#Creating the dataloaders on the used device\n",
        "test_dl = DeviceDataLoader(test_dl, device)"
      ],
      "metadata": {
        "colab": {
          "base_uri": "https://localhost:8080/"
        },
        "id": "-2GZr_oFMfdo",
        "outputId": "3bb0ff58-f0ed-4fcd-f585-3d3738f07435"
      },
      "execution_count": 52,
      "outputs": [
        {
          "output_type": "stream",
          "name": "stdout",
          "text": [
            "Number of all training images: 86744\n",
            "Number of validation images: 10954\n",
            "Splitting the data...\n",
            "Number of training images: 78069\n",
            "Number of test images: 8675\n",
            "Encoding target labels...\n",
            "Preprocessing finished!\n"
          ]
        }
      ]
    },
    {
      "cell_type": "markdown",
      "source": [
        "# **Test accuracy: 0.387**"
      ],
      "metadata": {
        "id": "NMZcfGdIus8F"
      }
    },
    {
      "cell_type": "code",
      "source": [
        "result = evaluate(Model, test_dl)\n",
        "print(\"Test loss: \" ,result['val_loss'])\n",
        "print(\"Test accuracy: \",result['val_acc'])"
      ],
      "metadata": {
        "colab": {
          "base_uri": "https://localhost:8080/"
        },
        "id": "vInwwqZ8u_zC",
        "outputId": "71c259f0-46ec-4adf-ddac-f3b9c2873038"
      },
      "execution_count": 53,
      "outputs": [
        {
          "output_type": "stream",
          "name": "stdout",
          "text": [
            "Test loss:  1.9798496961593628\n",
            "Test accuracy:  0.38714003562927246\n"
          ]
        }
      ]
    },
    {
      "cell_type": "markdown",
      "source": [
        "# **Prediction and confusion matrix**\n"
      ],
      "metadata": {
        "id": "wi9-hVXXuwXx"
      }
    },
    {
      "cell_type": "code",
      "source": [
        "preds = predict(Model, test_dl, target)"
      ],
      "metadata": {
        "id": "N1JIQ6D59QSG"
      },
      "execution_count": 54,
      "outputs": []
    },
    {
      "cell_type": "markdown",
      "source": [
        "**Reshape the labels for checking the predictions**"
      ],
      "metadata": {
        "id": "tKG2XPn5uzSe"
      }
    },
    {
      "cell_type": "code",
      "source": [
        "labels = [targets for img,targets in test_dl]\n",
        "labels = [label.cpu().detach().numpy() for label in labels]\n",
        "if (target != \"gender\"):\n",
        "  labels = [np.argmax(label, axis=-1) for label in labels]\n",
        "labels = [item for sublist in labels for item in sublist] "
      ],
      "metadata": {
        "id": "bMOh9rfiHXG5"
      },
      "execution_count": 55,
      "outputs": []
    },
    {
      "cell_type": "markdown",
      "source": [
        "**Classification report**"
      ],
      "metadata": {
        "id": "0kfX_5Twu30c"
      }
    },
    {
      "cell_type": "code",
      "source": [
        "print(classification_report(labels, preds))"
      ],
      "metadata": {
        "id": "dDlG8pWjIBX2",
        "colab": {
          "base_uri": "https://localhost:8080/"
        },
        "outputId": "2c8b2ce6-7923-4ac2-fb4e-5a49fa5c4fd0"
      },
      "execution_count": 56,
      "outputs": [
        {
          "output_type": "stream",
          "name": "stdout",
          "text": [
            "              precision    recall  f1-score   support\n",
            "\n",
            "           0       0.00      0.00      0.00       179\n",
            "           1       0.00      0.00      0.00       910\n",
            "           2       0.41      0.80      0.55      2560\n",
            "           3       0.00      0.00      0.00      1041\n",
            "           4       0.38      0.38      0.38      1925\n",
            "           5       0.32      0.53      0.40      1075\n",
            "           6       0.00      0.00      0.00       623\n",
            "           7       0.00      0.00      0.00       278\n",
            "           8       0.00      0.00      0.00        84\n",
            "\n",
            "    accuracy                           0.39      8675\n",
            "   macro avg       0.12      0.19      0.15      8675\n",
            "weighted avg       0.25      0.39      0.30      8675\n",
            "\n"
          ]
        },
        {
          "output_type": "stream",
          "name": "stderr",
          "text": [
            "/usr/local/lib/python3.8/dist-packages/sklearn/metrics/_classification.py:1318: UndefinedMetricWarning: Precision and F-score are ill-defined and being set to 0.0 in labels with no predicted samples. Use `zero_division` parameter to control this behavior.\n",
            "  _warn_prf(average, modifier, msg_start, len(result))\n",
            "/usr/local/lib/python3.8/dist-packages/sklearn/metrics/_classification.py:1318: UndefinedMetricWarning: Precision and F-score are ill-defined and being set to 0.0 in labels with no predicted samples. Use `zero_division` parameter to control this behavior.\n",
            "  _warn_prf(average, modifier, msg_start, len(result))\n",
            "/usr/local/lib/python3.8/dist-packages/sklearn/metrics/_classification.py:1318: UndefinedMetricWarning: Precision and F-score are ill-defined and being set to 0.0 in labels with no predicted samples. Use `zero_division` parameter to control this behavior.\n",
            "  _warn_prf(average, modifier, msg_start, len(result))\n"
          ]
        }
      ]
    },
    {
      "cell_type": "markdown",
      "source": [
        "**Confusion matrix**"
      ],
      "metadata": {
        "id": "tQKrt8cGu7WH"
      }
    },
    {
      "cell_type": "code",
      "source": [
        "cf_matrix = confusion_matrix(labels, preds)\n",
        "print(cf_matrix)"
      ],
      "metadata": {
        "id": "MfTwha3SIQV-",
        "colab": {
          "base_uri": "https://localhost:8080/"
        },
        "outputId": "b82765f1-8a3b-45c9-94fd-1ae1788923a3"
      },
      "execution_count": 57,
      "outputs": [
        {
          "output_type": "stream",
          "name": "stdout",
          "text": [
            "[[   0    0  108    0   64    7    0    0    0]\n",
            " [   0    0  814    0   83   13    0    0    0]\n",
            " [   0    0 2050    0  454   56    0    0    0]\n",
            " [   0    0  882    0  146   13    0    0    0]\n",
            " [   0    0  891    0  740  294    0    0    0]\n",
            " [   0    0  174    0  331  570    0    0    0]\n",
            " [   0    0   25    0   94  504    0    0    0]\n",
            " [   0    0    5    0   27  246    0    0    0]\n",
            " [   0    0    0    0    2   82    0    0    0]]\n"
          ]
        }
      ]
    },
    {
      "cell_type": "code",
      "source": [
        "fig, ax = plt.subplots(figsize=(10,7))      \n",
        "sns.heatmap(cf_matrix, annot=True, linewidths=.5,)"
      ],
      "metadata": {
        "id": "5Tl9mv7BIt-Y",
        "colab": {
          "base_uri": "https://localhost:8080/",
          "height": 445
        },
        "outputId": "4553bfba-d498-41b3-f922-b05b7c63a1e7"
      },
      "execution_count": 58,
      "outputs": [
        {
          "output_type": "execute_result",
          "data": {
            "text/plain": [
              "<matplotlib.axes._subplots.AxesSubplot at 0x7efb65832820>"
            ]
          },
          "metadata": {},
          "execution_count": 58
        },
        {
          "output_type": "display_data",
          "data": {
            "text/plain": [
              "<Figure size 720x504 with 2 Axes>"
            ],
            "image/png": "[encoded data removed]"
          },
          "metadata": {
            "needs_background": "light"
          }
        }
      ]
    }
  ]
}