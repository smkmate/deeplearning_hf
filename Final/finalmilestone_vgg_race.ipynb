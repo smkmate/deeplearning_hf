{
  "nbformat": 4,
  "nbformat_minor": 0,
  "metadata": {
    "colab": {
      "provenance": [],
      "include_colab_link": true
    },
    "kernelspec": {
      "name": "python3",
      "display_name": "Python 3"
    },
    "language_info": {
      "name": "python"
    },
    "accelerator": "GPU",
    "gpuClass": "standard",
    "widgets": {
      "application/vnd.jupyter.widget-state+json": {
        "de98bb864c01444ca659c5807c160c68": {
          "model_module": "@jupyter-widgets/controls",
          "model_name": "HBoxModel",
          "model_module_version": "1.5.0",
          "state": {
            "_dom_classes": [],
            "_model_module": "@jupyter-widgets/controls",
            "_model_module_version": "1.5.0",
            "_model_name": "HBoxModel",
            "_view_count": null,
            "_view_module": "@jupyter-widgets/controls",
            "_view_module_version": "1.5.0",
            "_view_name": "HBoxView",
            "box_style": "",
            "children": [
              "IPY_MODEL_d630f0d885dc4ee09653e700cfad521f",
              "IPY_MODEL_c29f9074382c4b9bafd3736b204e95de",
              "IPY_MODEL_d76bec9355a54ec591a79efbdd1ea577"
            ],
            "layout": "IPY_MODEL_1d37c23d0dc043dfaedc7d191479fab0"
          }
        },
        "d630f0d885dc4ee09653e700cfad521f": {
          "model_module": "@jupyter-widgets/controls",
          "model_name": "HTMLModel",
          "model_module_version": "1.5.0",
          "state": {
            "_dom_classes": [],
            "_model_module": "@jupyter-widgets/controls",
            "_model_module_version": "1.5.0",
            "_model_name": "HTMLModel",
            "_view_count": null,
            "_view_module": "@jupyter-widgets/controls",
            "_view_module_version": "1.5.0",
            "_view_name": "HTMLView",
            "description": "",
            "description_tooltip": null,
            "layout": "IPY_MODEL_1eff3ec3bf5e4fad9ab800c153483c1a",
            "placeholder": "​",
            "style": "IPY_MODEL_b27c8bd64e3d42c98c5d6fae12e6e69b",
            "value": "100%"
          }
        },
        "c29f9074382c4b9bafd3736b204e95de": {
          "model_module": "@jupyter-widgets/controls",
          "model_name": "FloatProgressModel",
          "model_module_version": "1.5.0",
          "state": {
            "_dom_classes": [],
            "_model_module": "@jupyter-widgets/controls",
            "_model_module_version": "1.5.0",
            "_model_name": "FloatProgressModel",
            "_view_count": null,
            "_view_module": "@jupyter-widgets/controls",
            "_view_module_version": "1.5.0",
            "_view_name": "ProgressView",
            "bar_style": "success",
            "description": "",
            "description_tooltip": null,
            "layout": "IPY_MODEL_90cc17ce6dd447b3a4f8532dd8303eda",
            "max": 574673361,
            "min": 0,
            "orientation": "horizontal",
            "style": "IPY_MODEL_f3fed617e1a14795900a29875339f727",
            "value": 574673361
          }
        },
        "d76bec9355a54ec591a79efbdd1ea577": {
          "model_module": "@jupyter-widgets/controls",
          "model_name": "HTMLModel",
          "model_module_version": "1.5.0",
          "state": {
            "_dom_classes": [],
            "_model_module": "@jupyter-widgets/controls",
            "_model_module_version": "1.5.0",
            "_model_name": "HTMLModel",
            "_view_count": null,
            "_view_module": "@jupyter-widgets/controls",
            "_view_module_version": "1.5.0",
            "_view_name": "HTMLView",
            "description": "",
            "description_tooltip": null,
            "layout": "IPY_MODEL_9ff9276b7ce64f14aebd0c1feac1dae8",
            "placeholder": "​",
            "style": "IPY_MODEL_4d0d3a6dc9e54a2991d96c3a26a473a5",
            "value": " 548M/548M [00:13&lt;00:00, 34.4MB/s]"
          }
        },
        "1d37c23d0dc043dfaedc7d191479fab0": {
          "model_module": "@jupyter-widgets/base",
          "model_name": "LayoutModel",
          "model_module_version": "1.2.0",
          "state": {
            "_model_module": "@jupyter-widgets/base",
            "_model_module_version": "1.2.0",
            "_model_name": "LayoutModel",
            "_view_count": null,
            "_view_module": "@jupyter-widgets/base",
            "_view_module_version": "1.2.0",
            "_view_name": "LayoutView",
            "align_content": null,
            "align_items": null,
            "align_self": null,
            "border": null,
            "bottom": null,
            "display": null,
            "flex": null,
            "flex_flow": null,
            "grid_area": null,
            "grid_auto_columns": null,
            "grid_auto_flow": null,
            "grid_auto_rows": null,
            "grid_column": null,
            "grid_gap": null,
            "grid_row": null,
            "grid_template_areas": null,
            "grid_template_columns": null,
            "grid_template_rows": null,
            "height": null,
            "justify_content": null,
            "justify_items": null,
            "left": null,
            "margin": null,
            "max_height": null,
            "max_width": null,
            "min_height": null,
            "min_width": null,
            "object_fit": null,
            "object_position": null,
            "order": null,
            "overflow": null,
            "overflow_x": null,
            "overflow_y": null,
            "padding": null,
            "right": null,
            "top": null,
            "visibility": null,
            "width": null
          }
        },
        "1eff3ec3bf5e4fad9ab800c153483c1a": {
          "model_module": "@jupyter-widgets/base",
          "model_name": "LayoutModel",
          "model_module_version": "1.2.0",
          "state": {
            "_model_module": "@jupyter-widgets/base",
            "_model_module_version": "1.2.0",
            "_model_name": "LayoutModel",
            "_view_count": null,
            "_view_module": "@jupyter-widgets/base",
            "_view_module_version": "1.2.0",
            "_view_name": "LayoutView",
            "align_content": null,
            "align_items": null,
            "align_self": null,
            "border": null,
            "bottom": null,
            "display": null,
            "flex": null,
            "flex_flow": null,
            "grid_area": null,
            "grid_auto_columns": null,
            "grid_auto_flow": null,
            "grid_auto_rows": null,
            "grid_column": null,
            "grid_gap": null,
            "grid_row": null,
            "grid_template_areas": null,
            "grid_template_columns": null,
            "grid_template_rows": null,
            "height": null,
            "justify_content": null,
            "justify_items": null,
            "left": null,
            "margin": null,
            "max_height": null,
            "max_width": null,
            "min_height": null,
            "min_width": null,
            "object_fit": null,
            "object_position": null,
            "order": null,
            "overflow": null,
            "overflow_x": null,
            "overflow_y": null,
            "padding": null,
            "right": null,
            "top": null,
            "visibility": null,
            "width": null
          }
        },
        "b27c8bd64e3d42c98c5d6fae12e6e69b": {
          "model_module": "@jupyter-widgets/controls",
          "model_name": "DescriptionStyleModel",
          "model_module_version": "1.5.0",
          "state": {
            "_model_module": "@jupyter-widgets/controls",
            "_model_module_version": "1.5.0",
            "_model_name": "DescriptionStyleModel",
            "_view_count": null,
            "_view_module": "@jupyter-widgets/base",
            "_view_module_version": "1.2.0",
            "_view_name": "StyleView",
            "description_width": ""
          }
        },
        "90cc17ce6dd447b3a4f8532dd8303eda": {
          "model_module": "@jupyter-widgets/base",
          "model_name": "LayoutModel",
          "model_module_version": "1.2.0",
          "state": {
            "_model_module": "@jupyter-widgets/base",
            "_model_module_version": "1.2.0",
            "_model_name": "LayoutModel",
            "_view_count": null,
            "_view_module": "@jupyter-widgets/base",
            "_view_module_version": "1.2.0",
            "_view_name": "LayoutView",
            "align_content": null,
            "align_items": null,
            "align_self": null,
            "border": null,
            "bottom": null,
            "display": null,
            "flex": null,
            "flex_flow": null,
            "grid_area": null,
            "grid_auto_columns": null,
            "grid_auto_flow": null,
            "grid_auto_rows": null,
            "grid_column": null,
            "grid_gap": null,
            "grid_row": null,
            "grid_template_areas": null,
            "grid_template_columns": null,
            "grid_template_rows": null,
            "height": null,
            "justify_content": null,
            "justify_items": null,
            "left": null,
            "margin": null,
            "max_height": null,
            "max_width": null,
            "min_height": null,
            "min_width": null,
            "object_fit": null,
            "object_position": null,
            "order": null,
            "overflow": null,
            "overflow_x": null,
            "overflow_y": null,
            "padding": null,
            "right": null,
            "top": null,
            "visibility": null,
            "width": null
          }
        },
        "f3fed617e1a14795900a29875339f727": {
          "model_module": "@jupyter-widgets/controls",
          "model_name": "ProgressStyleModel",
          "model_module_version": "1.5.0",
          "state": {
            "_model_module": "@jupyter-widgets/controls",
            "_model_module_version": "1.5.0",
            "_model_name": "ProgressStyleModel",
            "_view_count": null,
            "_view_module": "@jupyter-widgets/base",
            "_view_module_version": "1.2.0",
            "_view_name": "StyleView",
            "bar_color": null,
            "description_width": ""
          }
        },
        "9ff9276b7ce64f14aebd0c1feac1dae8": {
          "model_module": "@jupyter-widgets/base",
          "model_name": "LayoutModel",
          "model_module_version": "1.2.0",
          "state": {
            "_model_module": "@jupyter-widgets/base",
            "_model_module_version": "1.2.0",
            "_model_name": "LayoutModel",
            "_view_count": null,
            "_view_module": "@jupyter-widgets/base",
            "_view_module_version": "1.2.0",
            "_view_name": "LayoutView",
            "align_content": null,
            "align_items": null,
            "align_self": null,
            "border": null,
            "bottom": null,
            "display": null,
            "flex": null,
            "flex_flow": null,
            "grid_area": null,
            "grid_auto_columns": null,
            "grid_auto_flow": null,
            "grid_auto_rows": null,
            "grid_column": null,
            "grid_gap": null,
            "grid_row": null,
            "grid_template_areas": null,
            "grid_template_columns": null,
            "grid_template_rows": null,
            "height": null,
            "justify_content": null,
            "justify_items": null,
            "left": null,
            "margin": null,
            "max_height": null,
            "max_width": null,
            "min_height": null,
            "min_width": null,
            "object_fit": null,
            "object_position": null,
            "order": null,
            "overflow": null,
            "overflow_x": null,
            "overflow_y": null,
            "padding": null,
            "right": null,
            "top": null,
            "visibility": null,
            "width": null
          }
        },
        "4d0d3a6dc9e54a2991d96c3a26a473a5": {
          "model_module": "@jupyter-widgets/controls",
          "model_name": "DescriptionStyleModel",
          "model_module_version": "1.5.0",
          "state": {
            "_model_module": "@jupyter-widgets/controls",
            "_model_module_version": "1.5.0",
            "_model_name": "DescriptionStyleModel",
            "_view_count": null,
            "_view_module": "@jupyter-widgets/base",
            "_view_module_version": "1.2.0",
            "_view_name": "StyleView",
            "description_width": ""
          }
        },
        "5db56d94b8994fca8a0cbf5fddd27e0f": {
          "model_module": "@jupyter-widgets/controls",
          "model_name": "HBoxModel",
          "model_module_version": "1.5.0",
          "state": {
            "_dom_classes": [],
            "_model_module": "@jupyter-widgets/controls",
            "_model_module_version": "1.5.0",
            "_model_name": "HBoxModel",
            "_view_count": null,
            "_view_module": "@jupyter-widgets/controls",
            "_view_module_version": "1.5.0",
            "_view_name": "HBoxView",
            "box_style": "",
            "children": [
              "IPY_MODEL_9d1d851133f24960aaa97ecfdb4136e8",
              "IPY_MODEL_4c5ea9ba07254a299fe855590ad94b80",
              "IPY_MODEL_685adc1c3ec44170b054d84561423bd9"
            ],
            "layout": "IPY_MODEL_c6554d6acf0347e59151ee6ec9118522"
          }
        },
        "9d1d851133f24960aaa97ecfdb4136e8": {
          "model_module": "@jupyter-widgets/controls",
          "model_name": "HTMLModel",
          "model_module_version": "1.5.0",
          "state": {
            "_dom_classes": [],
            "_model_module": "@jupyter-widgets/controls",
            "_model_module_version": "1.5.0",
            "_model_name": "HTMLModel",
            "_view_count": null,
            "_view_module": "@jupyter-widgets/controls",
            "_view_module_version": "1.5.0",
            "_view_name": "HTMLView",
            "description": "",
            "description_tooltip": null,
            "layout": "IPY_MODEL_3d333bed59dc4b439c0f66df0754295b",
            "placeholder": "​",
            "style": "IPY_MODEL_27f9d4635dad40079fc3dfa8557d1bf6",
            "value": "100%"
          }
        },
        "4c5ea9ba07254a299fe855590ad94b80": {
          "model_module": "@jupyter-widgets/controls",
          "model_name": "FloatProgressModel",
          "model_module_version": "1.5.0",
          "state": {
            "_dom_classes": [],
            "_model_module": "@jupyter-widgets/controls",
            "_model_module_version": "1.5.0",
            "_model_name": "FloatProgressModel",
            "_view_count": null,
            "_view_module": "@jupyter-widgets/controls",
            "_view_module_version": "1.5.0",
            "_view_name": "ProgressView",
            "bar_style": "success",
            "description": "",
            "description_tooltip": null,
            "layout": "IPY_MODEL_ec0407dd5a6f44c7a13ca5efa3e39015",
            "max": 2440,
            "min": 0,
            "orientation": "horizontal",
            "style": "IPY_MODEL_aa3ca944d969414bbd2b4aae28870939",
            "value": 2440
          }
        },
        "685adc1c3ec44170b054d84561423bd9": {
          "model_module": "@jupyter-widgets/controls",
          "model_name": "HTMLModel",
          "model_module_version": "1.5.0",
          "state": {
            "_dom_classes": [],
            "_model_module": "@jupyter-widgets/controls",
            "_model_module_version": "1.5.0",
            "_model_name": "HTMLModel",
            "_view_count": null,
            "_view_module": "@jupyter-widgets/controls",
            "_view_module_version": "1.5.0",
            "_view_name": "HTMLView",
            "description": "",
            "description_tooltip": null,
            "layout": "IPY_MODEL_7d1a468ed42a40ac960aa9085d9b6e65",
            "placeholder": "​",
            "style": "IPY_MODEL_dd524813808340958c08b7d63796fb29",
            "value": " 2440/2440 [22:11&lt;00:00,  1.84it/s]"
          }
        },
        "c6554d6acf0347e59151ee6ec9118522": {
          "model_module": "@jupyter-widgets/base",
          "model_name": "LayoutModel",
          "model_module_version": "1.2.0",
          "state": {
            "_model_module": "@jupyter-widgets/base",
            "_model_module_version": "1.2.0",
            "_model_name": "LayoutModel",
            "_view_count": null,
            "_view_module": "@jupyter-widgets/base",
            "_view_module_version": "1.2.0",
            "_view_name": "LayoutView",
            "align_content": null,
            "align_items": null,
            "align_self": null,
            "border": null,
            "bottom": null,
            "display": null,
            "flex": null,
            "flex_flow": null,
            "grid_area": null,
            "grid_auto_columns": null,
            "grid_auto_flow": null,
            "grid_auto_rows": null,
            "grid_column": null,
            "grid_gap": null,
            "grid_row": null,
            "grid_template_areas": null,
            "grid_template_columns": null,
            "grid_template_rows": null,
            "height": null,
            "justify_content": null,
            "justify_items": null,
            "left": null,
            "margin": null,
            "max_height": null,
            "max_width": null,
            "min_height": null,
            "min_width": null,
            "object_fit": null,
            "object_position": null,
            "order": null,
            "overflow": null,
            "overflow_x": null,
            "overflow_y": null,
            "padding": null,
            "right": null,
            "top": null,
            "visibility": null,
            "width": null
          }
        },
        "3d333bed59dc4b439c0f66df0754295b": {
          "model_module": "@jupyter-widgets/base",
          "model_name": "LayoutModel",
          "model_module_version": "1.2.0",
          "state": {
            "_model_module": "@jupyter-widgets/base",
            "_model_module_version": "1.2.0",
            "_model_name": "LayoutModel",
            "_view_count": null,
            "_view_module": "@jupyter-widgets/base",
            "_view_module_version": "1.2.0",
            "_view_name": "LayoutView",
            "align_content": null,
            "align_items": null,
            "align_self": null,
            "border": null,
            "bottom": null,
            "display": null,
            "flex": null,
            "flex_flow": null,
            "grid_area": null,
            "grid_auto_columns": null,
            "grid_auto_flow": null,
            "grid_auto_rows": null,
            "grid_column": null,
            "grid_gap": null,
            "grid_row": null,
            "grid_template_areas": null,
            "grid_template_columns": null,
            "grid_template_rows": null,
            "height": null,
            "justify_content": null,
            "justify_items": null,
            "left": null,
            "margin": null,
            "max_height": null,
            "max_width": null,
            "min_height": null,
            "min_width": null,
            "object_fit": null,
            "object_position": null,
            "order": null,
            "overflow": null,
            "overflow_x": null,
            "overflow_y": null,
            "padding": null,
            "right": null,
            "top": null,
            "visibility": null,
            "width": null
          }
        },
        "27f9d4635dad40079fc3dfa8557d1bf6": {
          "model_module": "@jupyter-widgets/controls",
          "model_name": "DescriptionStyleModel",
          "model_module_version": "1.5.0",
          "state": {
            "_model_module": "@jupyter-widgets/controls",
            "_model_module_version": "1.5.0",
            "_model_name": "DescriptionStyleModel",
            "_view_count": null,
            "_view_module": "@jupyter-widgets/base",
            "_view_module_version": "1.2.0",
            "_view_name": "StyleView",
            "description_width": ""
          }
        },
        "ec0407dd5a6f44c7a13ca5efa3e39015": {
          "model_module": "@jupyter-widgets/base",
          "model_name": "LayoutModel",
          "model_module_version": "1.2.0",
          "state": {
            "_model_module": "@jupyter-widgets/base",
            "_model_module_version": "1.2.0",
            "_model_name": "LayoutModel",
            "_view_count": null,
            "_view_module": "@jupyter-widgets/base",
            "_view_module_version": "1.2.0",
            "_view_name": "LayoutView",
            "align_content": null,
            "align_items": null,
            "align_self": null,
            "border": null,
            "bottom": null,
            "display": null,
            "flex": null,
            "flex_flow": null,
            "grid_area": null,
            "grid_auto_columns": null,
            "grid_auto_flow": null,
            "grid_auto_rows": null,
            "grid_column": null,
            "grid_gap": null,
            "grid_row": null,
            "grid_template_areas": null,
            "grid_template_columns": null,
            "grid_template_rows": null,
            "height": null,
            "justify_content": null,
            "justify_items": null,
            "left": null,
            "margin": null,
            "max_height": null,
            "max_width": null,
            "min_height": null,
            "min_width": null,
            "object_fit": null,
            "object_position": null,
            "order": null,
            "overflow": null,
            "overflow_x": null,
            "overflow_y": null,
            "padding": null,
            "right": null,
            "top": null,
            "visibility": null,
            "width": null
          }
        },
        "aa3ca944d969414bbd2b4aae28870939": {
          "model_module": "@jupyter-widgets/controls",
          "model_name": "ProgressStyleModel",
          "model_module_version": "1.5.0",
          "state": {
            "_model_module": "@jupyter-widgets/controls",
            "_model_module_version": "1.5.0",
            "_model_name": "ProgressStyleModel",
            "_view_count": null,
            "_view_module": "@jupyter-widgets/base",
            "_view_module_version": "1.2.0",
            "_view_name": "StyleView",
            "bar_color": null,
            "description_width": ""
          }
        },
        "7d1a468ed42a40ac960aa9085d9b6e65": {
          "model_module": "@jupyter-widgets/base",
          "model_name": "LayoutModel",
          "model_module_version": "1.2.0",
          "state": {
            "_model_module": "@jupyter-widgets/base",
            "_model_module_version": "1.2.0",
            "_model_name": "LayoutModel",
            "_view_count": null,
            "_view_module": "@jupyter-widgets/base",
            "_view_module_version": "1.2.0",
            "_view_name": "LayoutView",
            "align_content": null,
            "align_items": null,
            "align_self": null,
            "border": null,
            "bottom": null,
            "display": null,
            "flex": null,
            "flex_flow": null,
            "grid_area": null,
            "grid_auto_columns": null,
            "grid_auto_flow": null,
            "grid_auto_rows": null,
            "grid_column": null,
            "grid_gap": null,
            "grid_row": null,
            "grid_template_areas": null,
            "grid_template_columns": null,
            "grid_template_rows": null,
            "height": null,
            "justify_content": null,
            "justify_items": null,
            "left": null,
            "margin": null,
            "max_height": null,
            "max_width": null,
            "min_height": null,
            "min_width": null,
            "object_fit": null,
            "object_position": null,
            "order": null,
            "overflow": null,
            "overflow_x": null,
            "overflow_y": null,
            "padding": null,
            "right": null,
            "top": null,
            "visibility": null,
            "width": null
          }
        },
        "dd524813808340958c08b7d63796fb29": {
          "model_module": "@jupyter-widgets/controls",
          "model_name": "DescriptionStyleModel",
          "model_module_version": "1.5.0",
          "state": {
            "_model_module": "@jupyter-widgets/controls",
            "_model_module_version": "1.5.0",
            "_model_name": "DescriptionStyleModel",
            "_view_count": null,
            "_view_module": "@jupyter-widgets/base",
            "_view_module_version": "1.2.0",
            "_view_name": "StyleView",
            "description_width": ""
          }
        },
        "aa34a5c3506c446ab76f8910e0f8998d": {
          "model_module": "@jupyter-widgets/controls",
          "model_name": "HBoxModel",
          "model_module_version": "1.5.0",
          "state": {
            "_dom_classes": [],
            "_model_module": "@jupyter-widgets/controls",
            "_model_module_version": "1.5.0",
            "_model_name": "HBoxModel",
            "_view_count": null,
            "_view_module": "@jupyter-widgets/controls",
            "_view_module_version": "1.5.0",
            "_view_name": "HBoxView",
            "box_style": "",
            "children": [
              "IPY_MODEL_fa39678ff6c444fabae0179f9c79d0d3",
              "IPY_MODEL_461862b7815c42309db79305dbf09686",
              "IPY_MODEL_8949c23a99234440902432932ad173bd"
            ],
            "layout": "IPY_MODEL_42a0d3e3bcf94bd7a0c2b222426b92eb"
          }
        },
        "fa39678ff6c444fabae0179f9c79d0d3": {
          "model_module": "@jupyter-widgets/controls",
          "model_name": "HTMLModel",
          "model_module_version": "1.5.0",
          "state": {
            "_dom_classes": [],
            "_model_module": "@jupyter-widgets/controls",
            "_model_module_version": "1.5.0",
            "_model_name": "HTMLModel",
            "_view_count": null,
            "_view_module": "@jupyter-widgets/controls",
            "_view_module_version": "1.5.0",
            "_view_name": "HTMLView",
            "description": "",
            "description_tooltip": null,
            "layout": "IPY_MODEL_83b8bc3429624d36b433a059cd12b059",
            "placeholder": "​",
            "style": "IPY_MODEL_76f388f7531947eba93358cb34357e2c",
            "value": "100%"
          }
        },
        "461862b7815c42309db79305dbf09686": {
          "model_module": "@jupyter-widgets/controls",
          "model_name": "FloatProgressModel",
          "model_module_version": "1.5.0",
          "state": {
            "_dom_classes": [],
            "_model_module": "@jupyter-widgets/controls",
            "_model_module_version": "1.5.0",
            "_model_name": "FloatProgressModel",
            "_view_count": null,
            "_view_module": "@jupyter-widgets/controls",
            "_view_module_version": "1.5.0",
            "_view_name": "ProgressView",
            "bar_style": "success",
            "description": "",
            "description_tooltip": null,
            "layout": "IPY_MODEL_177470970bfb45a890523ed94bdfdfff",
            "max": 2440,
            "min": 0,
            "orientation": "horizontal",
            "style": "IPY_MODEL_827c37815a2e468383132a2969cb2382",
            "value": 2440
          }
        },
        "8949c23a99234440902432932ad173bd": {
          "model_module": "@jupyter-widgets/controls",
          "model_name": "HTMLModel",
          "model_module_version": "1.5.0",
          "state": {
            "_dom_classes": [],
            "_model_module": "@jupyter-widgets/controls",
            "_model_module_version": "1.5.0",
            "_model_name": "HTMLModel",
            "_view_count": null,
            "_view_module": "@jupyter-widgets/controls",
            "_view_module_version": "1.5.0",
            "_view_name": "HTMLView",
            "description": "",
            "description_tooltip": null,
            "layout": "IPY_MODEL_3db02fdbe3604b268a366f6e64ec16fd",
            "placeholder": "​",
            "style": "IPY_MODEL_e047fca0a0fa44838a88fc0e33eb4bc5",
            "value": " 2440/2440 [22:03&lt;00:00,  1.84it/s]"
          }
        },
        "42a0d3e3bcf94bd7a0c2b222426b92eb": {
          "model_module": "@jupyter-widgets/base",
          "model_name": "LayoutModel",
          "model_module_version": "1.2.0",
          "state": {
            "_model_module": "@jupyter-widgets/base",
            "_model_module_version": "1.2.0",
            "_model_name": "LayoutModel",
            "_view_count": null,
            "_view_module": "@jupyter-widgets/base",
            "_view_module_version": "1.2.0",
            "_view_name": "LayoutView",
            "align_content": null,
            "align_items": null,
            "align_self": null,
            "border": null,
            "bottom": null,
            "display": null,
            "flex": null,
            "flex_flow": null,
            "grid_area": null,
            "grid_auto_columns": null,
            "grid_auto_flow": null,
            "grid_auto_rows": null,
            "grid_column": null,
            "grid_gap": null,
            "grid_row": null,
            "grid_template_areas": null,
            "grid_template_columns": null,
            "grid_template_rows": null,
            "height": null,
            "justify_content": null,
            "justify_items": null,
            "left": null,
            "margin": null,
            "max_height": null,
            "max_width": null,
            "min_height": null,
            "min_width": null,
            "object_fit": null,
            "object_position": null,
            "order": null,
            "overflow": null,
            "overflow_x": null,
            "overflow_y": null,
            "padding": null,
            "right": null,
            "top": null,
            "visibility": null,
            "width": null
          }
        },
        "83b8bc3429624d36b433a059cd12b059": {
          "model_module": "@jupyter-widgets/base",
          "model_name": "LayoutModel",
          "model_module_version": "1.2.0",
          "state": {
            "_model_module": "@jupyter-widgets/base",
            "_model_module_version": "1.2.0",
            "_model_name": "LayoutModel",
            "_view_count": null,
            "_view_module": "@jupyter-widgets/base",
            "_view_module_version": "1.2.0",
            "_view_name": "LayoutView",
            "align_content": null,
            "align_items": null,
            "align_self": null,
            "border": null,
            "bottom": null,
            "display": null,
            "flex": null,
            "flex_flow": null,
            "grid_area": null,
            "grid_auto_columns": null,
            "grid_auto_flow": null,
            "grid_auto_rows": null,
            "grid_column": null,
            "grid_gap": null,
            "grid_row": null,
            "grid_template_areas": null,
            "grid_template_columns": null,
            "grid_template_rows": null,
            "height": null,
            "justify_content": null,
            "justify_items": null,
            "left": null,
            "margin": null,
            "max_height": null,
            "max_width": null,
            "min_height": null,
            "min_width": null,
            "object_fit": null,
            "object_position": null,
            "order": null,
            "overflow": null,
            "overflow_x": null,
            "overflow_y": null,
            "padding": null,
            "right": null,
            "top": null,
            "visibility": null,
            "width": null
          }
        },
        "76f388f7531947eba93358cb34357e2c": {
          "model_module": "@jupyter-widgets/controls",
          "model_name": "DescriptionStyleModel",
          "model_module_version": "1.5.0",
          "state": {
            "_model_module": "@jupyter-widgets/controls",
            "_model_module_version": "1.5.0",
            "_model_name": "DescriptionStyleModel",
            "_view_count": null,
            "_view_module": "@jupyter-widgets/base",
            "_view_module_version": "1.2.0",
            "_view_name": "StyleView",
            "description_width": ""
          }
        },
        "177470970bfb45a890523ed94bdfdfff": {
          "model_module": "@jupyter-widgets/base",
          "model_name": "LayoutModel",
          "model_module_version": "1.2.0",
          "state": {
            "_model_module": "@jupyter-widgets/base",
            "_model_module_version": "1.2.0",
            "_model_name": "LayoutModel",
            "_view_count": null,
            "_view_module": "@jupyter-widgets/base",
            "_view_module_version": "1.2.0",
            "_view_name": "LayoutView",
            "align_content": null,
            "align_items": null,
            "align_self": null,
            "border": null,
            "bottom": null,
            "display": null,
            "flex": null,
            "flex_flow": null,
            "grid_area": null,
            "grid_auto_columns": null,
            "grid_auto_flow": null,
            "grid_auto_rows": null,
            "grid_column": null,
            "grid_gap": null,
            "grid_row": null,
            "grid_template_areas": null,
            "grid_template_columns": null,
            "grid_template_rows": null,
            "height": null,
            "justify_content": null,
            "justify_items": null,
            "left": null,
            "margin": null,
            "max_height": null,
            "max_width": null,
            "min_height": null,
            "min_width": null,
            "object_fit": null,
            "object_position": null,
            "order": null,
            "overflow": null,
            "overflow_x": null,
            "overflow_y": null,
            "padding": null,
            "right": null,
            "top": null,
            "visibility": null,
            "width": null
          }
        },
        "827c37815a2e468383132a2969cb2382": {
          "model_module": "@jupyter-widgets/controls",
          "model_name": "ProgressStyleModel",
          "model_module_version": "1.5.0",
          "state": {
            "_model_module": "@jupyter-widgets/controls",
            "_model_module_version": "1.5.0",
            "_model_name": "ProgressStyleModel",
            "_view_count": null,
            "_view_module": "@jupyter-widgets/base",
            "_view_module_version": "1.2.0",
            "_view_name": "StyleView",
            "bar_color": null,
            "description_width": ""
          }
        },
        "3db02fdbe3604b268a366f6e64ec16fd": {
          "model_module": "@jupyter-widgets/base",
          "model_name": "LayoutModel",
          "model_module_version": "1.2.0",
          "state": {
            "_model_module": "@jupyter-widgets/base",
            "_model_module_version": "1.2.0",
            "_model_name": "LayoutModel",
            "_view_count": null,
            "_view_module": "@jupyter-widgets/base",
            "_view_module_version": "1.2.0",
            "_view_name": "LayoutView",
            "align_content": null,
            "align_items": null,
            "align_self": null,
            "border": null,
            "bottom": null,
            "display": null,
            "flex": null,
            "flex_flow": null,
            "grid_area": null,
            "grid_auto_columns": null,
            "grid_auto_flow": null,
            "grid_auto_rows": null,
            "grid_column": null,
            "grid_gap": null,
            "grid_row": null,
            "grid_template_areas": null,
            "grid_template_columns": null,
            "grid_template_rows": null,
            "height": null,
            "justify_content": null,
            "justify_items": null,
            "left": null,
            "margin": null,
            "max_height": null,
            "max_width": null,
            "min_height": null,
            "min_width": null,
            "object_fit": null,
            "object_position": null,
            "order": null,
            "overflow": null,
            "overflow_x": null,
            "overflow_y": null,
            "padding": null,
            "right": null,
            "top": null,
            "visibility": null,
            "width": null
          }
        },
        "e047fca0a0fa44838a88fc0e33eb4bc5": {
          "model_module": "@jupyter-widgets/controls",
          "model_name": "DescriptionStyleModel",
          "model_module_version": "1.5.0",
          "state": {
            "_model_module": "@jupyter-widgets/controls",
            "_model_module_version": "1.5.0",
            "_model_name": "DescriptionStyleModel",
            "_view_count": null,
            "_view_module": "@jupyter-widgets/base",
            "_view_module_version": "1.2.0",
            "_view_name": "StyleView",
            "description_width": ""
          }
        },
        "009ef8099680425d860219c746d666c7": {
          "model_module": "@jupyter-widgets/controls",
          "model_name": "HBoxModel",
          "model_module_version": "1.5.0",
          "state": {
            "_dom_classes": [],
            "_model_module": "@jupyter-widgets/controls",
            "_model_module_version": "1.5.0",
            "_model_name": "HBoxModel",
            "_view_count": null,
            "_view_module": "@jupyter-widgets/controls",
            "_view_module_version": "1.5.0",
            "_view_name": "HBoxView",
            "box_style": "",
            "children": [
              "IPY_MODEL_26000fb8a8ac40df907f30e7c38b7408",
              "IPY_MODEL_ce96f9d68e9e4d3ca34d1c025f8e0947",
              "IPY_MODEL_7888818ee0f448cc8963226ae6e387df"
            ],
            "layout": "IPY_MODEL_abe1ef4dba2c4b628547e41b9425efda"
          }
        },
        "26000fb8a8ac40df907f30e7c38b7408": {
          "model_module": "@jupyter-widgets/controls",
          "model_name": "HTMLModel",
          "model_module_version": "1.5.0",
          "state": {
            "_dom_classes": [],
            "_model_module": "@jupyter-widgets/controls",
            "_model_module_version": "1.5.0",
            "_model_name": "HTMLModel",
            "_view_count": null,
            "_view_module": "@jupyter-widgets/controls",
            "_view_module_version": "1.5.0",
            "_view_name": "HTMLView",
            "description": "",
            "description_tooltip": null,
            "layout": "IPY_MODEL_06a2330287fd4ee9999aa86fd6ce7b08",
            "placeholder": "​",
            "style": "IPY_MODEL_edcc0c37a61449949ab9d9fa6d4500ab",
            "value": "100%"
          }
        },
        "ce96f9d68e9e4d3ca34d1c025f8e0947": {
          "model_module": "@jupyter-widgets/controls",
          "model_name": "FloatProgressModel",
          "model_module_version": "1.5.0",
          "state": {
            "_dom_classes": [],
            "_model_module": "@jupyter-widgets/controls",
            "_model_module_version": "1.5.0",
            "_model_name": "FloatProgressModel",
            "_view_count": null,
            "_view_module": "@jupyter-widgets/controls",
            "_view_module_version": "1.5.0",
            "_view_name": "ProgressView",
            "bar_style": "success",
            "description": "",
            "description_tooltip": null,
            "layout": "IPY_MODEL_49ed59ec1d61445eac05733f2e318372",
            "max": 2440,
            "min": 0,
            "orientation": "horizontal",
            "style": "IPY_MODEL_4500f94952f546c8b83b71fc94a3a079",
            "value": 2440
          }
        },
        "7888818ee0f448cc8963226ae6e387df": {
          "model_module": "@jupyter-widgets/controls",
          "model_name": "HTMLModel",
          "model_module_version": "1.5.0",
          "state": {
            "_dom_classes": [],
            "_model_module": "@jupyter-widgets/controls",
            "_model_module_version": "1.5.0",
            "_model_name": "HTMLModel",
            "_view_count": null,
            "_view_module": "@jupyter-widgets/controls",
            "_view_module_version": "1.5.0",
            "_view_name": "HTMLView",
            "description": "",
            "description_tooltip": null,
            "layout": "IPY_MODEL_5eb94b8ed74d48418a56f8f606bb322b",
            "placeholder": "​",
            "style": "IPY_MODEL_a589a57bf83645049cb593afae185c91",
            "value": " 2440/2440 [22:01&lt;00:00,  1.85it/s]"
          }
        },
        "abe1ef4dba2c4b628547e41b9425efda": {
          "model_module": "@jupyter-widgets/base",
          "model_name": "LayoutModel",
          "model_module_version": "1.2.0",
          "state": {
            "_model_module": "@jupyter-widgets/base",
            "_model_module_version": "1.2.0",
            "_model_name": "LayoutModel",
            "_view_count": null,
            "_view_module": "@jupyter-widgets/base",
            "_view_module_version": "1.2.0",
            "_view_name": "LayoutView",
            "align_content": null,
            "align_items": null,
            "align_self": null,
            "border": null,
            "bottom": null,
            "display": null,
            "flex": null,
            "flex_flow": null,
            "grid_area": null,
            "grid_auto_columns": null,
            "grid_auto_flow": null,
            "grid_auto_rows": null,
            "grid_column": null,
            "grid_gap": null,
            "grid_row": null,
            "grid_template_areas": null,
            "grid_template_columns": null,
            "grid_template_rows": null,
            "height": null,
            "justify_content": null,
            "justify_items": null,
            "left": null,
            "margin": null,
            "max_height": null,
            "max_width": null,
            "min_height": null,
            "min_width": null,
            "object_fit": null,
            "object_position": null,
            "order": null,
            "overflow": null,
            "overflow_x": null,
            "overflow_y": null,
            "padding": null,
            "right": null,
            "top": null,
            "visibility": null,
            "width": null
          }
        },
        "06a2330287fd4ee9999aa86fd6ce7b08": {
          "model_module": "@jupyter-widgets/base",
          "model_name": "LayoutModel",
          "model_module_version": "1.2.0",
          "state": {
            "_model_module": "@jupyter-widgets/base",
            "_model_module_version": "1.2.0",
            "_model_name": "LayoutModel",
            "_view_count": null,
            "_view_module": "@jupyter-widgets/base",
            "_view_module_version": "1.2.0",
            "_view_name": "LayoutView",
            "align_content": null,
            "align_items": null,
            "align_self": null,
            "border": null,
            "bottom": null,
            "display": null,
            "flex": null,
            "flex_flow": null,
            "grid_area": null,
            "grid_auto_columns": null,
            "grid_auto_flow": null,
            "grid_auto_rows": null,
            "grid_column": null,
            "grid_gap": null,
            "grid_row": null,
            "grid_template_areas": null,
            "grid_template_columns": null,
            "grid_template_rows": null,
            "height": null,
            "justify_content": null,
            "justify_items": null,
            "left": null,
            "margin": null,
            "max_height": null,
            "max_width": null,
            "min_height": null,
            "min_width": null,
            "object_fit": null,
            "object_position": null,
            "order": null,
            "overflow": null,
            "overflow_x": null,
            "overflow_y": null,
            "padding": null,
            "right": null,
            "top": null,
            "visibility": null,
            "width": null
          }
        },
        "edcc0c37a61449949ab9d9fa6d4500ab": {
          "model_module": "@jupyter-widgets/controls",
          "model_name": "DescriptionStyleModel",
          "model_module_version": "1.5.0",
          "state": {
            "_model_module": "@jupyter-widgets/controls",
            "_model_module_version": "1.5.0",
            "_model_name": "DescriptionStyleModel",
            "_view_count": null,
            "_view_module": "@jupyter-widgets/base",
            "_view_module_version": "1.2.0",
            "_view_name": "StyleView",
            "description_width": ""
          }
        },
        "49ed59ec1d61445eac05733f2e318372": {
          "model_module": "@jupyter-widgets/base",
          "model_name": "LayoutModel",
          "model_module_version": "1.2.0",
          "state": {
            "_model_module": "@jupyter-widgets/base",
            "_model_module_version": "1.2.0",
            "_model_name": "LayoutModel",
            "_view_count": null,
            "_view_module": "@jupyter-widgets/base",
            "_view_module_version": "1.2.0",
            "_view_name": "LayoutView",
            "align_content": null,
            "align_items": null,
            "align_self": null,
            "border": null,
            "bottom": null,
            "display": null,
            "flex": null,
            "flex_flow": null,
            "grid_area": null,
            "grid_auto_columns": null,
            "grid_auto_flow": null,
            "grid_auto_rows": null,
            "grid_column": null,
            "grid_gap": null,
            "grid_row": null,
            "grid_template_areas": null,
            "grid_template_columns": null,
            "grid_template_rows": null,
            "height": null,
            "justify_content": null,
            "justify_items": null,
            "left": null,
            "margin": null,
            "max_height": null,
            "max_width": null,
            "min_height": null,
            "min_width": null,
            "object_fit": null,
            "object_position": null,
            "order": null,
            "overflow": null,
            "overflow_x": null,
            "overflow_y": null,
            "padding": null,
            "right": null,
            "top": null,
            "visibility": null,
            "width": null
          }
        },
        "4500f94952f546c8b83b71fc94a3a079": {
          "model_module": "@jupyter-widgets/controls",
          "model_name": "ProgressStyleModel",
          "model_module_version": "1.5.0",
          "state": {
            "_model_module": "@jupyter-widgets/controls",
            "_model_module_version": "1.5.0",
            "_model_name": "ProgressStyleModel",
            "_view_count": null,
            "_view_module": "@jupyter-widgets/base",
            "_view_module_version": "1.2.0",
            "_view_name": "StyleView",
            "bar_color": null,
            "description_width": ""
          }
        },
        "5eb94b8ed74d48418a56f8f606bb322b": {
          "model_module": "@jupyter-widgets/base",
          "model_name": "LayoutModel",
          "model_module_version": "1.2.0",
          "state": {
            "_model_module": "@jupyter-widgets/base",
            "_model_module_version": "1.2.0",
            "_model_name": "LayoutModel",
            "_view_count": null,
            "_view_module": "@jupyter-widgets/base",
            "_view_module_version": "1.2.0",
            "_view_name": "LayoutView",
            "align_content": null,
            "align_items": null,
            "align_self": null,
            "border": null,
            "bottom": null,
            "display": null,
            "flex": null,
            "flex_flow": null,
            "grid_area": null,
            "grid_auto_columns": null,
            "grid_auto_flow": null,
            "grid_auto_rows": null,
            "grid_column": null,
            "grid_gap": null,
            "grid_row": null,
            "grid_template_areas": null,
            "grid_template_columns": null,
            "grid_template_rows": null,
            "height": null,
            "justify_content": null,
            "justify_items": null,
            "left": null,
            "margin": null,
            "max_height": null,
            "max_width": null,
            "min_height": null,
            "min_width": null,
            "object_fit": null,
            "object_position": null,
            "order": null,
            "overflow": null,
            "overflow_x": null,
            "overflow_y": null,
            "padding": null,
            "right": null,
            "top": null,
            "visibility": null,
            "width": null
          }
        },
        "a589a57bf83645049cb593afae185c91": {
          "model_module": "@jupyter-widgets/controls",
          "model_name": "DescriptionStyleModel",
          "model_module_version": "1.5.0",
          "state": {
            "_model_module": "@jupyter-widgets/controls",
            "_model_module_version": "1.5.0",
            "_model_name": "DescriptionStyleModel",
            "_view_count": null,
            "_view_module": "@jupyter-widgets/base",
            "_view_module_version": "1.2.0",
            "_view_name": "StyleView",
            "description_width": ""
          }
        },
        "f7d0248d4ac5486ebe4f2a61ac2917ac": {
          "model_module": "@jupyter-widgets/controls",
          "model_name": "HBoxModel",
          "model_module_version": "1.5.0",
          "state": {
            "_dom_classes": [],
            "_model_module": "@jupyter-widgets/controls",
            "_model_module_version": "1.5.0",
            "_model_name": "HBoxModel",
            "_view_count": null,
            "_view_module": "@jupyter-widgets/controls",
            "_view_module_version": "1.5.0",
            "_view_name": "HBoxView",
            "box_style": "",
            "children": [
              "IPY_MODEL_b71f1b45a86c42cdbb8003379ccdc5e6",
              "IPY_MODEL_d19ec4a50b8b40338ea26c3c9322d846",
              "IPY_MODEL_89a91533fcd54fd9a266facff903ee39"
            ],
            "layout": "IPY_MODEL_a4032e18fc7c4f0a83b86743ba0edab7"
          }
        },
        "b71f1b45a86c42cdbb8003379ccdc5e6": {
          "model_module": "@jupyter-widgets/controls",
          "model_name": "HTMLModel",
          "model_module_version": "1.5.0",
          "state": {
            "_dom_classes": [],
            "_model_module": "@jupyter-widgets/controls",
            "_model_module_version": "1.5.0",
            "_model_name": "HTMLModel",
            "_view_count": null,
            "_view_module": "@jupyter-widgets/controls",
            "_view_module_version": "1.5.0",
            "_view_name": "HTMLView",
            "description": "",
            "description_tooltip": null,
            "layout": "IPY_MODEL_f616af689f43460e9315983a3ab6c22b",
            "placeholder": "​",
            "style": "IPY_MODEL_afb3359a7e9448099b38a993bf434b83",
            "value": "100%"
          }
        },
        "d19ec4a50b8b40338ea26c3c9322d846": {
          "model_module": "@jupyter-widgets/controls",
          "model_name": "FloatProgressModel",
          "model_module_version": "1.5.0",
          "state": {
            "_dom_classes": [],
            "_model_module": "@jupyter-widgets/controls",
            "_model_module_version": "1.5.0",
            "_model_name": "FloatProgressModel",
            "_view_count": null,
            "_view_module": "@jupyter-widgets/controls",
            "_view_module_version": "1.5.0",
            "_view_name": "ProgressView",
            "bar_style": "success",
            "description": "",
            "description_tooltip": null,
            "layout": "IPY_MODEL_41118ec396b147dfbd5f1824989290d6",
            "max": 2440,
            "min": 0,
            "orientation": "horizontal",
            "style": "IPY_MODEL_8b32c97879924b40a43c072b39dfe8bb",
            "value": 2440
          }
        },
        "89a91533fcd54fd9a266facff903ee39": {
          "model_module": "@jupyter-widgets/controls",
          "model_name": "HTMLModel",
          "model_module_version": "1.5.0",
          "state": {
            "_dom_classes": [],
            "_model_module": "@jupyter-widgets/controls",
            "_model_module_version": "1.5.0",
            "_model_name": "HTMLModel",
            "_view_count": null,
            "_view_module": "@jupyter-widgets/controls",
            "_view_module_version": "1.5.0",
            "_view_name": "HTMLView",
            "description": "",
            "description_tooltip": null,
            "layout": "IPY_MODEL_52605e4a330e49489a6dd16eb1540a45",
            "placeholder": "​",
            "style": "IPY_MODEL_b855cd048f2542f29d4c94364431f8f1",
            "value": " 2440/2440 [22:00&lt;00:00,  1.85it/s]"
          }
        },
        "a4032e18fc7c4f0a83b86743ba0edab7": {
          "model_module": "@jupyter-widgets/base",
          "model_name": "LayoutModel",
          "model_module_version": "1.2.0",
          "state": {
            "_model_module": "@jupyter-widgets/base",
            "_model_module_version": "1.2.0",
            "_model_name": "LayoutModel",
            "_view_count": null,
            "_view_module": "@jupyter-widgets/base",
            "_view_module_version": "1.2.0",
            "_view_name": "LayoutView",
            "align_content": null,
            "align_items": null,
            "align_self": null,
            "border": null,
            "bottom": null,
            "display": null,
            "flex": null,
            "flex_flow": null,
            "grid_area": null,
            "grid_auto_columns": null,
            "grid_auto_flow": null,
            "grid_auto_rows": null,
            "grid_column": null,
            "grid_gap": null,
            "grid_row": null,
            "grid_template_areas": null,
            "grid_template_columns": null,
            "grid_template_rows": null,
            "height": null,
            "justify_content": null,
            "justify_items": null,
            "left": null,
            "margin": null,
            "max_height": null,
            "max_width": null,
            "min_height": null,
            "min_width": null,
            "object_fit": null,
            "object_position": null,
            "order": null,
            "overflow": null,
            "overflow_x": null,
            "overflow_y": null,
            "padding": null,
            "right": null,
            "top": null,
            "visibility": null,
            "width": null
          }
        },
        "f616af689f43460e9315983a3ab6c22b": {
          "model_module": "@jupyter-widgets/base",
          "model_name": "LayoutModel",
          "model_module_version": "1.2.0",
          "state": {
            "_model_module": "@jupyter-widgets/base",
            "_model_module_version": "1.2.0",
            "_model_name": "LayoutModel",
            "_view_count": null,
            "_view_module": "@jupyter-widgets/base",
            "_view_module_version": "1.2.0",
            "_view_name": "LayoutView",
            "align_content": null,
            "align_items": null,
            "align_self": null,
            "border": null,
            "bottom": null,
            "display": null,
            "flex": null,
            "flex_flow": null,
            "grid_area": null,
            "grid_auto_columns": null,
            "grid_auto_flow": null,
            "grid_auto_rows": null,
            "grid_column": null,
            "grid_gap": null,
            "grid_row": null,
            "grid_template_areas": null,
            "grid_template_columns": null,
            "grid_template_rows": null,
            "height": null,
            "justify_content": null,
            "justify_items": null,
            "left": null,
            "margin": null,
            "max_height": null,
            "max_width": null,
            "min_height": null,
            "min_width": null,
            "object_fit": null,
            "object_position": null,
            "order": null,
            "overflow": null,
            "overflow_x": null,
            "overflow_y": null,
            "padding": null,
            "right": null,
            "top": null,
            "visibility": null,
            "width": null
          }
        },
        "afb3359a7e9448099b38a993bf434b83": {
          "model_module": "@jupyter-widgets/controls",
          "model_name": "DescriptionStyleModel",
          "model_module_version": "1.5.0",
          "state": {
            "_model_module": "@jupyter-widgets/controls",
            "_model_module_version": "1.5.0",
            "_model_name": "DescriptionStyleModel",
            "_view_count": null,
            "_view_module": "@jupyter-widgets/base",
            "_view_module_version": "1.2.0",
            "_view_name": "StyleView",
            "description_width": ""
          }
        },
        "41118ec396b147dfbd5f1824989290d6": {
          "model_module": "@jupyter-widgets/base",
          "model_name": "LayoutModel",
          "model_module_version": "1.2.0",
          "state": {
            "_model_module": "@jupyter-widgets/base",
            "_model_module_version": "1.2.0",
            "_model_name": "LayoutModel",
            "_view_count": null,
            "_view_module": "@jupyter-widgets/base",
            "_view_module_version": "1.2.0",
            "_view_name": "LayoutView",
            "align_content": null,
            "align_items": null,
            "align_self": null,
            "border": null,
            "bottom": null,
            "display": null,
            "flex": null,
            "flex_flow": null,
            "grid_area": null,
            "grid_auto_columns": null,
            "grid_auto_flow": null,
            "grid_auto_rows": null,
            "grid_column": null,
            "grid_gap": null,
            "grid_row": null,
            "grid_template_areas": null,
            "grid_template_columns": null,
            "grid_template_rows": null,
            "height": null,
            "justify_content": null,
            "justify_items": null,
            "left": null,
            "margin": null,
            "max_height": null,
            "max_width": null,
            "min_height": null,
            "min_width": null,
            "object_fit": null,
            "object_position": null,
            "order": null,
            "overflow": null,
            "overflow_x": null,
            "overflow_y": null,
            "padding": null,
            "right": null,
            "top": null,
            "visibility": null,
            "width": null
          }
        },
        "8b32c97879924b40a43c072b39dfe8bb": {
          "model_module": "@jupyter-widgets/controls",
          "model_name": "ProgressStyleModel",
          "model_module_version": "1.5.0",
          "state": {
            "_model_module": "@jupyter-widgets/controls",
            "_model_module_version": "1.5.0",
            "_model_name": "ProgressStyleModel",
            "_view_count": null,
            "_view_module": "@jupyter-widgets/base",
            "_view_module_version": "1.2.0",
            "_view_name": "StyleView",
            "bar_color": null,
            "description_width": ""
          }
        },
        "52605e4a330e49489a6dd16eb1540a45": {
          "model_module": "@jupyter-widgets/base",
          "model_name": "LayoutModel",
          "model_module_version": "1.2.0",
          "state": {
            "_model_module": "@jupyter-widgets/base",
            "_model_module_version": "1.2.0",
            "_model_name": "LayoutModel",
            "_view_count": null,
            "_view_module": "@jupyter-widgets/base",
            "_view_module_version": "1.2.0",
            "_view_name": "LayoutView",
            "align_content": null,
            "align_items": null,
            "align_self": null,
            "border": null,
            "bottom": null,
            "display": null,
            "flex": null,
            "flex_flow": null,
            "grid_area": null,
            "grid_auto_columns": null,
            "grid_auto_flow": null,
            "grid_auto_rows": null,
            "grid_column": null,
            "grid_gap": null,
            "grid_row": null,
            "grid_template_areas": null,
            "grid_template_columns": null,
            "grid_template_rows": null,
            "height": null,
            "justify_content": null,
            "justify_items": null,
            "left": null,
            "margin": null,
            "max_height": null,
            "max_width": null,
            "min_height": null,
            "min_width": null,
            "object_fit": null,
            "object_position": null,
            "order": null,
            "overflow": null,
            "overflow_x": null,
            "overflow_y": null,
            "padding": null,
            "right": null,
            "top": null,
            "visibility": null,
            "width": null
          }
        },
        "b855cd048f2542f29d4c94364431f8f1": {
          "model_module": "@jupyter-widgets/controls",
          "model_name": "DescriptionStyleModel",
          "model_module_version": "1.5.0",
          "state": {
            "_model_module": "@jupyter-widgets/controls",
            "_model_module_version": "1.5.0",
            "_model_name": "DescriptionStyleModel",
            "_view_count": null,
            "_view_module": "@jupyter-widgets/base",
            "_view_module_version": "1.2.0",
            "_view_name": "StyleView",
            "description_width": ""
          }
        },
        "28bcf6b118c24ed885074c7ee4f00fff": {
          "model_module": "@jupyter-widgets/controls",
          "model_name": "HBoxModel",
          "model_module_version": "1.5.0",
          "state": {
            "_dom_classes": [],
            "_model_module": "@jupyter-widgets/controls",
            "_model_module_version": "1.5.0",
            "_model_name": "HBoxModel",
            "_view_count": null,
            "_view_module": "@jupyter-widgets/controls",
            "_view_module_version": "1.5.0",
            "_view_name": "HBoxView",
            "box_style": "",
            "children": [
              "IPY_MODEL_bbbbdbf900a1458c9a0a4d675d585d12",
              "IPY_MODEL_ece354f0f323434a8262cc215238e449",
              "IPY_MODEL_81e3f07d7f5741eb93ebbec838d93872"
            ],
            "layout": "IPY_MODEL_5ca181a579234cd184f9d60e42915fbe"
          }
        },
        "bbbbdbf900a1458c9a0a4d675d585d12": {
          "model_module": "@jupyter-widgets/controls",
          "model_name": "HTMLModel",
          "model_module_version": "1.5.0",
          "state": {
            "_dom_classes": [],
            "_model_module": "@jupyter-widgets/controls",
            "_model_module_version": "1.5.0",
            "_model_name": "HTMLModel",
            "_view_count": null,
            "_view_module": "@jupyter-widgets/controls",
            "_view_module_version": "1.5.0",
            "_view_name": "HTMLView",
            "description": "",
            "description_tooltip": null,
            "layout": "IPY_MODEL_63f3aa0c2cf94a9ba8105437f65fa382",
            "placeholder": "​",
            "style": "IPY_MODEL_67518df7c0dc4f88bd235503d213c319",
            "value": "100%"
          }
        },
        "ece354f0f323434a8262cc215238e449": {
          "model_module": "@jupyter-widgets/controls",
          "model_name": "FloatProgressModel",
          "model_module_version": "1.5.0",
          "state": {
            "_dom_classes": [],
            "_model_module": "@jupyter-widgets/controls",
            "_model_module_version": "1.5.0",
            "_model_name": "FloatProgressModel",
            "_view_count": null,
            "_view_module": "@jupyter-widgets/controls",
            "_view_module_version": "1.5.0",
            "_view_name": "ProgressView",
            "bar_style": "success",
            "description": "",
            "description_tooltip": null,
            "layout": "IPY_MODEL_65dcbfac01924385b971b6992d845568",
            "max": 2440,
            "min": 0,
            "orientation": "horizontal",
            "style": "IPY_MODEL_6d8b7297c9b84331a87ad206d2f8d51e",
            "value": 2440
          }
        },
        "81e3f07d7f5741eb93ebbec838d93872": {
          "model_module": "@jupyter-widgets/controls",
          "model_name": "HTMLModel",
          "model_module_version": "1.5.0",
          "state": {
            "_dom_classes": [],
            "_model_module": "@jupyter-widgets/controls",
            "_model_module_version": "1.5.0",
            "_model_name": "HTMLModel",
            "_view_count": null,
            "_view_module": "@jupyter-widgets/controls",
            "_view_module_version": "1.5.0",
            "_view_name": "HTMLView",
            "description": "",
            "description_tooltip": null,
            "layout": "IPY_MODEL_29ea29f813ff46febf0858147570c8b3",
            "placeholder": "​",
            "style": "IPY_MODEL_4649e2756a2840b49c0c1fa9a8f8119b",
            "value": " 2440/2440 [22:02&lt;00:00,  1.85it/s]"
          }
        },
        "5ca181a579234cd184f9d60e42915fbe": {
          "model_module": "@jupyter-widgets/base",
          "model_name": "LayoutModel",
          "model_module_version": "1.2.0",
          "state": {
            "_model_module": "@jupyter-widgets/base",
            "_model_module_version": "1.2.0",
            "_model_name": "LayoutModel",
            "_view_count": null,
            "_view_module": "@jupyter-widgets/base",
            "_view_module_version": "1.2.0",
            "_view_name": "LayoutView",
            "align_content": null,
            "align_items": null,
            "align_self": null,
            "border": null,
            "bottom": null,
            "display": null,
            "flex": null,
            "flex_flow": null,
            "grid_area": null,
            "grid_auto_columns": null,
            "grid_auto_flow": null,
            "grid_auto_rows": null,
            "grid_column": null,
            "grid_gap": null,
            "grid_row": null,
            "grid_template_areas": null,
            "grid_template_columns": null,
            "grid_template_rows": null,
            "height": null,
            "justify_content": null,
            "justify_items": null,
            "left": null,
            "margin": null,
            "max_height": null,
            "max_width": null,
            "min_height": null,
            "min_width": null,
            "object_fit": null,
            "object_position": null,
            "order": null,
            "overflow": null,
            "overflow_x": null,
            "overflow_y": null,
            "padding": null,
            "right": null,
            "top": null,
            "visibility": null,
            "width": null
          }
        },
        "63f3aa0c2cf94a9ba8105437f65fa382": {
          "model_module": "@jupyter-widgets/base",
          "model_name": "LayoutModel",
          "model_module_version": "1.2.0",
          "state": {
            "_model_module": "@jupyter-widgets/base",
            "_model_module_version": "1.2.0",
            "_model_name": "LayoutModel",
            "_view_count": null,
            "_view_module": "@jupyter-widgets/base",
            "_view_module_version": "1.2.0",
            "_view_name": "LayoutView",
            "align_content": null,
            "align_items": null,
            "align_self": null,
            "border": null,
            "bottom": null,
            "display": null,
            "flex": null,
            "flex_flow": null,
            "grid_area": null,
            "grid_auto_columns": null,
            "grid_auto_flow": null,
            "grid_auto_rows": null,
            "grid_column": null,
            "grid_gap": null,
            "grid_row": null,
            "grid_template_areas": null,
            "grid_template_columns": null,
            "grid_template_rows": null,
            "height": null,
            "justify_content": null,
            "justify_items": null,
            "left": null,
            "margin": null,
            "max_height": null,
            "max_width": null,
            "min_height": null,
            "min_width": null,
            "object_fit": null,
            "object_position": null,
            "order": null,
            "overflow": null,
            "overflow_x": null,
            "overflow_y": null,
            "padding": null,
            "right": null,
            "top": null,
            "visibility": null,
            "width": null
          }
        },
        "67518df7c0dc4f88bd235503d213c319": {
          "model_module": "@jupyter-widgets/controls",
          "model_name": "DescriptionStyleModel",
          "model_module_version": "1.5.0",
          "state": {
            "_model_module": "@jupyter-widgets/controls",
            "_model_module_version": "1.5.0",
            "_model_name": "DescriptionStyleModel",
            "_view_count": null,
            "_view_module": "@jupyter-widgets/base",
            "_view_module_version": "1.2.0",
            "_view_name": "StyleView",
            "description_width": ""
          }
        },
        "65dcbfac01924385b971b6992d845568": {
          "model_module": "@jupyter-widgets/base",
          "model_name": "LayoutModel",
          "model_module_version": "1.2.0",
          "state": {
            "_model_module": "@jupyter-widgets/base",
            "_model_module_version": "1.2.0",
            "_model_name": "LayoutModel",
            "_view_count": null,
            "_view_module": "@jupyter-widgets/base",
            "_view_module_version": "1.2.0",
            "_view_name": "LayoutView",
            "align_content": null,
            "align_items": null,
            "align_self": null,
            "border": null,
            "bottom": null,
            "display": null,
            "flex": null,
            "flex_flow": null,
            "grid_area": null,
            "grid_auto_columns": null,
            "grid_auto_flow": null,
            "grid_auto_rows": null,
            "grid_column": null,
            "grid_gap": null,
            "grid_row": null,
            "grid_template_areas": null,
            "grid_template_columns": null,
            "grid_template_rows": null,
            "height": null,
            "justify_content": null,
            "justify_items": null,
            "left": null,
            "margin": null,
            "max_height": null,
            "max_width": null,
            "min_height": null,
            "min_width": null,
            "object_fit": null,
            "object_position": null,
            "order": null,
            "overflow": null,
            "overflow_x": null,
            "overflow_y": null,
            "padding": null,
            "right": null,
            "top": null,
            "visibility": null,
            "width": null
          }
        },
        "6d8b7297c9b84331a87ad206d2f8d51e": {
          "model_module": "@jupyter-widgets/controls",
          "model_name": "ProgressStyleModel",
          "model_module_version": "1.5.0",
          "state": {
            "_model_module": "@jupyter-widgets/controls",
            "_model_module_version": "1.5.0",
            "_model_name": "ProgressStyleModel",
            "_view_count": null,
            "_view_module": "@jupyter-widgets/base",
            "_view_module_version": "1.2.0",
            "_view_name": "StyleView",
            "bar_color": null,
            "description_width": ""
          }
        },
        "29ea29f813ff46febf0858147570c8b3": {
          "model_module": "@jupyter-widgets/base",
          "model_name": "LayoutModel",
          "model_module_version": "1.2.0",
          "state": {
            "_model_module": "@jupyter-widgets/base",
            "_model_module_version": "1.2.0",
            "_model_name": "LayoutModel",
            "_view_count": null,
            "_view_module": "@jupyter-widgets/base",
            "_view_module_version": "1.2.0",
            "_view_name": "LayoutView",
            "align_content": null,
            "align_items": null,
            "align_self": null,
            "border": null,
            "bottom": null,
            "display": null,
            "flex": null,
            "flex_flow": null,
            "grid_area": null,
            "grid_auto_columns": null,
            "grid_auto_flow": null,
            "grid_auto_rows": null,
            "grid_column": null,
            "grid_gap": null,
            "grid_row": null,
            "grid_template_areas": null,
            "grid_template_columns": null,
            "grid_template_rows": null,
            "height": null,
            "justify_content": null,
            "justify_items": null,
            "left": null,
            "margin": null,
            "max_height": null,
            "max_width": null,
            "min_height": null,
            "min_width": null,
            "object_fit": null,
            "object_position": null,
            "order": null,
            "overflow": null,
            "overflow_x": null,
            "overflow_y": null,
            "padding": null,
            "right": null,
            "top": null,
            "visibility": null,
            "width": null
          }
        },
        "4649e2756a2840b49c0c1fa9a8f8119b": {
          "model_module": "@jupyter-widgets/controls",
          "model_name": "DescriptionStyleModel",
          "model_module_version": "1.5.0",
          "state": {
            "_model_module": "@jupyter-widgets/controls",
            "_model_module_version": "1.5.0",
            "_model_name": "DescriptionStyleModel",
            "_view_count": null,
            "_view_module": "@jupyter-widgets/base",
            "_view_module_version": "1.2.0",
            "_view_name": "StyleView",
            "description_width": ""
          }
        },
        "24aa6e03275e4a96a495c43232ebfb48": {
          "model_module": "@jupyter-widgets/controls",
          "model_name": "HBoxModel",
          "model_module_version": "1.5.0",
          "state": {
            "_dom_classes": [],
            "_model_module": "@jupyter-widgets/controls",
            "_model_module_version": "1.5.0",
            "_model_name": "HBoxModel",
            "_view_count": null,
            "_view_module": "@jupyter-widgets/controls",
            "_view_module_version": "1.5.0",
            "_view_name": "HBoxView",
            "box_style": "",
            "children": [
              "IPY_MODEL_01c42c3db9a342f08103e5eb9b913f99",
              "IPY_MODEL_aca3a59318e84399864e4c9d2c5e460b",
              "IPY_MODEL_b2d69a484d00487dbe479ebab81b25f6"
            ],
            "layout": "IPY_MODEL_0b63e77f5f0741d69fa33f93c5f440cb"
          }
        },
        "01c42c3db9a342f08103e5eb9b913f99": {
          "model_module": "@jupyter-widgets/controls",
          "model_name": "HTMLModel",
          "model_module_version": "1.5.0",
          "state": {
            "_dom_classes": [],
            "_model_module": "@jupyter-widgets/controls",
            "_model_module_version": "1.5.0",
            "_model_name": "HTMLModel",
            "_view_count": null,
            "_view_module": "@jupyter-widgets/controls",
            "_view_module_version": "1.5.0",
            "_view_name": "HTMLView",
            "description": "",
            "description_tooltip": null,
            "layout": "IPY_MODEL_5740826780fd487c829761ca0b2391b2",
            "placeholder": "​",
            "style": "IPY_MODEL_1a41bb34003b47899c0255c63b401088",
            "value": "100%"
          }
        },
        "aca3a59318e84399864e4c9d2c5e460b": {
          "model_module": "@jupyter-widgets/controls",
          "model_name": "FloatProgressModel",
          "model_module_version": "1.5.0",
          "state": {
            "_dom_classes": [],
            "_model_module": "@jupyter-widgets/controls",
            "_model_module_version": "1.5.0",
            "_model_name": "FloatProgressModel",
            "_view_count": null,
            "_view_module": "@jupyter-widgets/controls",
            "_view_module_version": "1.5.0",
            "_view_name": "ProgressView",
            "bar_style": "success",
            "description": "",
            "description_tooltip": null,
            "layout": "IPY_MODEL_02c6a26ef96643948560db47e9ade022",
            "max": 2440,
            "min": 0,
            "orientation": "horizontal",
            "style": "IPY_MODEL_ad0dcabf02624edbacf83f3b9fd16775",
            "value": 2440
          }
        },
        "b2d69a484d00487dbe479ebab81b25f6": {
          "model_module": "@jupyter-widgets/controls",
          "model_name": "HTMLModel",
          "model_module_version": "1.5.0",
          "state": {
            "_dom_classes": [],
            "_model_module": "@jupyter-widgets/controls",
            "_model_module_version": "1.5.0",
            "_model_name": "HTMLModel",
            "_view_count": null,
            "_view_module": "@jupyter-widgets/controls",
            "_view_module_version": "1.5.0",
            "_view_name": "HTMLView",
            "description": "",
            "description_tooltip": null,
            "layout": "IPY_MODEL_73951b8cff224c088cc640227429ca38",
            "placeholder": "​",
            "style": "IPY_MODEL_e05a7f59e4f04d16a79fb5559ca9e88a",
            "value": " 2440/2440 [22:01&lt;00:00,  1.85it/s]"
          }
        },
        "0b63e77f5f0741d69fa33f93c5f440cb": {
          "model_module": "@jupyter-widgets/base",
          "model_name": "LayoutModel",
          "model_module_version": "1.2.0",
          "state": {
            "_model_module": "@jupyter-widgets/base",
            "_model_module_version": "1.2.0",
            "_model_name": "LayoutModel",
            "_view_count": null,
            "_view_module": "@jupyter-widgets/base",
            "_view_module_version": "1.2.0",
            "_view_name": "LayoutView",
            "align_content": null,
            "align_items": null,
            "align_self": null,
            "border": null,
            "bottom": null,
            "display": null,
            "flex": null,
            "flex_flow": null,
            "grid_area": null,
            "grid_auto_columns": null,
            "grid_auto_flow": null,
            "grid_auto_rows": null,
            "grid_column": null,
            "grid_gap": null,
            "grid_row": null,
            "grid_template_areas": null,
            "grid_template_columns": null,
            "grid_template_rows": null,
            "height": null,
            "justify_content": null,
            "justify_items": null,
            "left": null,
            "margin": null,
            "max_height": null,
            "max_width": null,
            "min_height": null,
            "min_width": null,
            "object_fit": null,
            "object_position": null,
            "order": null,
            "overflow": null,
            "overflow_x": null,
            "overflow_y": null,
            "padding": null,
            "right": null,
            "top": null,
            "visibility": null,
            "width": null
          }
        },
        "5740826780fd487c829761ca0b2391b2": {
          "model_module": "@jupyter-widgets/base",
          "model_name": "LayoutModel",
          "model_module_version": "1.2.0",
          "state": {
            "_model_module": "@jupyter-widgets/base",
            "_model_module_version": "1.2.0",
            "_model_name": "LayoutModel",
            "_view_count": null,
            "_view_module": "@jupyter-widgets/base",
            "_view_module_version": "1.2.0",
            "_view_name": "LayoutView",
            "align_content": null,
            "align_items": null,
            "align_self": null,
            "border": null,
            "bottom": null,
            "display": null,
            "flex": null,
            "flex_flow": null,
            "grid_area": null,
            "grid_auto_columns": null,
            "grid_auto_flow": null,
            "grid_auto_rows": null,
            "grid_column": null,
            "grid_gap": null,
            "grid_row": null,
            "grid_template_areas": null,
            "grid_template_columns": null,
            "grid_template_rows": null,
            "height": null,
            "justify_content": null,
            "justify_items": null,
            "left": null,
            "margin": null,
            "max_height": null,
            "max_width": null,
            "min_height": null,
            "min_width": null,
            "object_fit": null,
            "object_position": null,
            "order": null,
            "overflow": null,
            "overflow_x": null,
            "overflow_y": null,
            "padding": null,
            "right": null,
            "top": null,
            "visibility": null,
            "width": null
          }
        },
        "1a41bb34003b47899c0255c63b401088": {
          "model_module": "@jupyter-widgets/controls",
          "model_name": "DescriptionStyleModel",
          "model_module_version": "1.5.0",
          "state": {
            "_model_module": "@jupyter-widgets/controls",
            "_model_module_version": "1.5.0",
            "_model_name": "DescriptionStyleModel",
            "_view_count": null,
            "_view_module": "@jupyter-widgets/base",
            "_view_module_version": "1.2.0",
            "_view_name": "StyleView",
            "description_width": ""
          }
        },
        "02c6a26ef96643948560db47e9ade022": {
          "model_module": "@jupyter-widgets/base",
          "model_name": "LayoutModel",
          "model_module_version": "1.2.0",
          "state": {
            "_model_module": "@jupyter-widgets/base",
            "_model_module_version": "1.2.0",
            "_model_name": "LayoutModel",
            "_view_count": null,
            "_view_module": "@jupyter-widgets/base",
            "_view_module_version": "1.2.0",
            "_view_name": "LayoutView",
            "align_content": null,
            "align_items": null,
            "align_self": null,
            "border": null,
            "bottom": null,
            "display": null,
            "flex": null,
            "flex_flow": null,
            "grid_area": null,
            "grid_auto_columns": null,
            "grid_auto_flow": null,
            "grid_auto_rows": null,
            "grid_column": null,
            "grid_gap": null,
            "grid_row": null,
            "grid_template_areas": null,
            "grid_template_columns": null,
            "grid_template_rows": null,
            "height": null,
            "justify_content": null,
            "justify_items": null,
            "left": null,
            "margin": null,
            "max_height": null,
            "max_width": null,
            "min_height": null,
            "min_width": null,
            "object_fit": null,
            "object_position": null,
            "order": null,
            "overflow": null,
            "overflow_x": null,
            "overflow_y": null,
            "padding": null,
            "right": null,
            "top": null,
            "visibility": null,
            "width": null
          }
        },
        "ad0dcabf02624edbacf83f3b9fd16775": {
          "model_module": "@jupyter-widgets/controls",
          "model_name": "ProgressStyleModel",
          "model_module_version": "1.5.0",
          "state": {
            "_model_module": "@jupyter-widgets/controls",
            "_model_module_version": "1.5.0",
            "_model_name": "ProgressStyleModel",
            "_view_count": null,
            "_view_module": "@jupyter-widgets/base",
            "_view_module_version": "1.2.0",
            "_view_name": "StyleView",
            "bar_color": null,
            "description_width": ""
          }
        },
        "73951b8cff224c088cc640227429ca38": {
          "model_module": "@jupyter-widgets/base",
          "model_name": "LayoutModel",
          "model_module_version": "1.2.0",
          "state": {
            "_model_module": "@jupyter-widgets/base",
            "_model_module_version": "1.2.0",
            "_model_name": "LayoutModel",
            "_view_count": null,
            "_view_module": "@jupyter-widgets/base",
            "_view_module_version": "1.2.0",
            "_view_name": "LayoutView",
            "align_content": null,
            "align_items": null,
            "align_self": null,
            "border": null,
            "bottom": null,
            "display": null,
            "flex": null,
            "flex_flow": null,
            "grid_area": null,
            "grid_auto_columns": null,
            "grid_auto_flow": null,
            "grid_auto_rows": null,
            "grid_column": null,
            "grid_gap": null,
            "grid_row": null,
            "grid_template_areas": null,
            "grid_template_columns": null,
            "grid_template_rows": null,
            "height": null,
            "justify_content": null,
            "justify_items": null,
            "left": null,
            "margin": null,
            "max_height": null,
            "max_width": null,
            "min_height": null,
            "min_width": null,
            "object_fit": null,
            "object_position": null,
            "order": null,
            "overflow": null,
            "overflow_x": null,
            "overflow_y": null,
            "padding": null,
            "right": null,
            "top": null,
            "visibility": null,
            "width": null
          }
        },
        "e05a7f59e4f04d16a79fb5559ca9e88a": {
          "model_module": "@jupyter-widgets/controls",
          "model_name": "DescriptionStyleModel",
          "model_module_version": "1.5.0",
          "state": {
            "_model_module": "@jupyter-widgets/controls",
            "_model_module_version": "1.5.0",
            "_model_name": "DescriptionStyleModel",
            "_view_count": null,
            "_view_module": "@jupyter-widgets/base",
            "_view_module_version": "1.2.0",
            "_view_name": "StyleView",
            "description_width": ""
          }
        },
        "aa2d665d188b45d1a51a43d0ca9f1033": {
          "model_module": "@jupyter-widgets/controls",
          "model_name": "HBoxModel",
          "model_module_version": "1.5.0",
          "state": {
            "_dom_classes": [],
            "_model_module": "@jupyter-widgets/controls",
            "_model_module_version": "1.5.0",
            "_model_name": "HBoxModel",
            "_view_count": null,
            "_view_module": "@jupyter-widgets/controls",
            "_view_module_version": "1.5.0",
            "_view_name": "HBoxView",
            "box_style": "",
            "children": [
              "IPY_MODEL_41cd276951a24ea0a6cbd9fc39f8bdaf",
              "IPY_MODEL_7d7952571c15470faa79c1b945a91130",
              "IPY_MODEL_0c5a51f60a0c44eba34a3c785ad2af16"
            ],
            "layout": "IPY_MODEL_5d9d3c27031c4b379bf25caec2a63421"
          }
        },
        "41cd276951a24ea0a6cbd9fc39f8bdaf": {
          "model_module": "@jupyter-widgets/controls",
          "model_name": "HTMLModel",
          "model_module_version": "1.5.0",
          "state": {
            "_dom_classes": [],
            "_model_module": "@jupyter-widgets/controls",
            "_model_module_version": "1.5.0",
            "_model_name": "HTMLModel",
            "_view_count": null,
            "_view_module": "@jupyter-widgets/controls",
            "_view_module_version": "1.5.0",
            "_view_name": "HTMLView",
            "description": "",
            "description_tooltip": null,
            "layout": "IPY_MODEL_f9861912505642a6bc3305ef391b6f5d",
            "placeholder": "​",
            "style": "IPY_MODEL_4ea73ae9237f4f478ea681929533f64b",
            "value": "100%"
          }
        },
        "7d7952571c15470faa79c1b945a91130": {
          "model_module": "@jupyter-widgets/controls",
          "model_name": "FloatProgressModel",
          "model_module_version": "1.5.0",
          "state": {
            "_dom_classes": [],
            "_model_module": "@jupyter-widgets/controls",
            "_model_module_version": "1.5.0",
            "_model_name": "FloatProgressModel",
            "_view_count": null,
            "_view_module": "@jupyter-widgets/controls",
            "_view_module_version": "1.5.0",
            "_view_name": "ProgressView",
            "bar_style": "success",
            "description": "",
            "description_tooltip": null,
            "layout": "IPY_MODEL_7cfc40ba66874a8d9276c90e370424af",
            "max": 2440,
            "min": 0,
            "orientation": "horizontal",
            "style": "IPY_MODEL_bc76495305dd4b74bafd57918949c2f7",
            "value": 2440
          }
        },
        "0c5a51f60a0c44eba34a3c785ad2af16": {
          "model_module": "@jupyter-widgets/controls",
          "model_name": "HTMLModel",
          "model_module_version": "1.5.0",
          "state": {
            "_dom_classes": [],
            "_model_module": "@jupyter-widgets/controls",
            "_model_module_version": "1.5.0",
            "_model_name": "HTMLModel",
            "_view_count": null,
            "_view_module": "@jupyter-widgets/controls",
            "_view_module_version": "1.5.0",
            "_view_name": "HTMLView",
            "description": "",
            "description_tooltip": null,
            "layout": "IPY_MODEL_ff76e57855c842e695f0861ccf4f8675",
            "placeholder": "​",
            "style": "IPY_MODEL_c7d7d40729ba4f048299cb9c351863cf",
            "value": " 2440/2440 [21:58&lt;00:00,  1.84it/s]"
          }
        },
        "5d9d3c27031c4b379bf25caec2a63421": {
          "model_module": "@jupyter-widgets/base",
          "model_name": "LayoutModel",
          "model_module_version": "1.2.0",
          "state": {
            "_model_module": "@jupyter-widgets/base",
            "_model_module_version": "1.2.0",
            "_model_name": "LayoutModel",
            "_view_count": null,
            "_view_module": "@jupyter-widgets/base",
            "_view_module_version": "1.2.0",
            "_view_name": "LayoutView",
            "align_content": null,
            "align_items": null,
            "align_self": null,
            "border": null,
            "bottom": null,
            "display": null,
            "flex": null,
            "flex_flow": null,
            "grid_area": null,
            "grid_auto_columns": null,
            "grid_auto_flow": null,
            "grid_auto_rows": null,
            "grid_column": null,
            "grid_gap": null,
            "grid_row": null,
            "grid_template_areas": null,
            "grid_template_columns": null,
            "grid_template_rows": null,
            "height": null,
            "justify_content": null,
            "justify_items": null,
            "left": null,
            "margin": null,
            "max_height": null,
            "max_width": null,
            "min_height": null,
            "min_width": null,
            "object_fit": null,
            "object_position": null,
            "order": null,
            "overflow": null,
            "overflow_x": null,
            "overflow_y": null,
            "padding": null,
            "right": null,
            "top": null,
            "visibility": null,
            "width": null
          }
        },
        "f9861912505642a6bc3305ef391b6f5d": {
          "model_module": "@jupyter-widgets/base",
          "model_name": "LayoutModel",
          "model_module_version": "1.2.0",
          "state": {
            "_model_module": "@jupyter-widgets/base",
            "_model_module_version": "1.2.0",
            "_model_name": "LayoutModel",
            "_view_count": null,
            "_view_module": "@jupyter-widgets/base",
            "_view_module_version": "1.2.0",
            "_view_name": "LayoutView",
            "align_content": null,
            "align_items": null,
            "align_self": null,
            "border": null,
            "bottom": null,
            "display": null,
            "flex": null,
            "flex_flow": null,
            "grid_area": null,
            "grid_auto_columns": null,
            "grid_auto_flow": null,
            "grid_auto_rows": null,
            "grid_column": null,
            "grid_gap": null,
            "grid_row": null,
            "grid_template_areas": null,
            "grid_template_columns": null,
            "grid_template_rows": null,
            "height": null,
            "justify_content": null,
            "justify_items": null,
            "left": null,
            "margin": null,
            "max_height": null,
            "max_width": null,
            "min_height": null,
            "min_width": null,
            "object_fit": null,
            "object_position": null,
            "order": null,
            "overflow": null,
            "overflow_x": null,
            "overflow_y": null,
            "padding": null,
            "right": null,
            "top": null,
            "visibility": null,
            "width": null
          }
        },
        "4ea73ae9237f4f478ea681929533f64b": {
          "model_module": "@jupyter-widgets/controls",
          "model_name": "DescriptionStyleModel",
          "model_module_version": "1.5.0",
          "state": {
            "_model_module": "@jupyter-widgets/controls",
            "_model_module_version": "1.5.0",
            "_model_name": "DescriptionStyleModel",
            "_view_count": null,
            "_view_module": "@jupyter-widgets/base",
            "_view_module_version": "1.2.0",
            "_view_name": "StyleView",
            "description_width": ""
          }
        },
        "7cfc40ba66874a8d9276c90e370424af": {
          "model_module": "@jupyter-widgets/base",
          "model_name": "LayoutModel",
          "model_module_version": "1.2.0",
          "state": {
            "_model_module": "@jupyter-widgets/base",
            "_model_module_version": "1.2.0",
            "_model_name": "LayoutModel",
            "_view_count": null,
            "_view_module": "@jupyter-widgets/base",
            "_view_module_version": "1.2.0",
            "_view_name": "LayoutView",
            "align_content": null,
            "align_items": null,
            "align_self": null,
            "border": null,
            "bottom": null,
            "display": null,
            "flex": null,
            "flex_flow": null,
            "grid_area": null,
            "grid_auto_columns": null,
            "grid_auto_flow": null,
            "grid_auto_rows": null,
            "grid_column": null,
            "grid_gap": null,
            "grid_row": null,
            "grid_template_areas": null,
            "grid_template_columns": null,
            "grid_template_rows": null,
            "height": null,
            "justify_content": null,
            "justify_items": null,
            "left": null,
            "margin": null,
            "max_height": null,
            "max_width": null,
            "min_height": null,
            "min_width": null,
            "object_fit": null,
            "object_position": null,
            "order": null,
            "overflow": null,
            "overflow_x": null,
            "overflow_y": null,
            "padding": null,
            "right": null,
            "top": null,
            "visibility": null,
            "width": null
          }
        },
        "bc76495305dd4b74bafd57918949c2f7": {
          "model_module": "@jupyter-widgets/controls",
          "model_name": "ProgressStyleModel",
          "model_module_version": "1.5.0",
          "state": {
            "_model_module": "@jupyter-widgets/controls",
            "_model_module_version": "1.5.0",
            "_model_name": "ProgressStyleModel",
            "_view_count": null,
            "_view_module": "@jupyter-widgets/base",
            "_view_module_version": "1.2.0",
            "_view_name": "StyleView",
            "bar_color": null,
            "description_width": ""
          }
        },
        "ff76e57855c842e695f0861ccf4f8675": {
          "model_module": "@jupyter-widgets/base",
          "model_name": "LayoutModel",
          "model_module_version": "1.2.0",
          "state": {
            "_model_module": "@jupyter-widgets/base",
            "_model_module_version": "1.2.0",
            "_model_name": "LayoutModel",
            "_view_count": null,
            "_view_module": "@jupyter-widgets/base",
            "_view_module_version": "1.2.0",
            "_view_name": "LayoutView",
            "align_content": null,
            "align_items": null,
            "align_self": null,
            "border": null,
            "bottom": null,
            "display": null,
            "flex": null,
            "flex_flow": null,
            "grid_area": null,
            "grid_auto_columns": null,
            "grid_auto_flow": null,
            "grid_auto_rows": null,
            "grid_column": null,
            "grid_gap": null,
            "grid_row": null,
            "grid_template_areas": null,
            "grid_template_columns": null,
            "grid_template_rows": null,
            "height": null,
            "justify_content": null,
            "justify_items": null,
            "left": null,
            "margin": null,
            "max_height": null,
            "max_width": null,
            "min_height": null,
            "min_width": null,
            "object_fit": null,
            "object_position": null,
            "order": null,
            "overflow": null,
            "overflow_x": null,
            "overflow_y": null,
            "padding": null,
            "right": null,
            "top": null,
            "visibility": null,
            "width": null
          }
        },
        "c7d7d40729ba4f048299cb9c351863cf": {
          "model_module": "@jupyter-widgets/controls",
          "model_name": "DescriptionStyleModel",
          "model_module_version": "1.5.0",
          "state": {
            "_model_module": "@jupyter-widgets/controls",
            "_model_module_version": "1.5.0",
            "_model_name": "DescriptionStyleModel",
            "_view_count": null,
            "_view_module": "@jupyter-widgets/base",
            "_view_module_version": "1.2.0",
            "_view_name": "StyleView",
            "description_width": ""
          }
        },
        "3f243e871b674d6a93d62e6678fddd7d": {
          "model_module": "@jupyter-widgets/controls",
          "model_name": "HBoxModel",
          "model_module_version": "1.5.0",
          "state": {
            "_dom_classes": [],
            "_model_module": "@jupyter-widgets/controls",
            "_model_module_version": "1.5.0",
            "_model_name": "HBoxModel",
            "_view_count": null,
            "_view_module": "@jupyter-widgets/controls",
            "_view_module_version": "1.5.0",
            "_view_name": "HBoxView",
            "box_style": "",
            "children": [
              "IPY_MODEL_999475933b24457cb38447a3ab8c5318",
              "IPY_MODEL_c88c7ec1dd9f477aa6958d03f52addfd",
              "IPY_MODEL_776aae5703d34c4798b9cf73fc69cc9c"
            ],
            "layout": "IPY_MODEL_5cbcf631f54c4cc2b173636f7be47300"
          }
        },
        "999475933b24457cb38447a3ab8c5318": {
          "model_module": "@jupyter-widgets/controls",
          "model_name": "HTMLModel",
          "model_module_version": "1.5.0",
          "state": {
            "_dom_classes": [],
            "_model_module": "@jupyter-widgets/controls",
            "_model_module_version": "1.5.0",
            "_model_name": "HTMLModel",
            "_view_count": null,
            "_view_module": "@jupyter-widgets/controls",
            "_view_module_version": "1.5.0",
            "_view_name": "HTMLView",
            "description": "",
            "description_tooltip": null,
            "layout": "IPY_MODEL_2bbfcaf95e2d4674953fb7bce2d8a45f",
            "placeholder": "​",
            "style": "IPY_MODEL_9cba9088f16f49a3b39f6cc58163c6a3",
            "value": "100%"
          }
        },
        "c88c7ec1dd9f477aa6958d03f52addfd": {
          "model_module": "@jupyter-widgets/controls",
          "model_name": "FloatProgressModel",
          "model_module_version": "1.5.0",
          "state": {
            "_dom_classes": [],
            "_model_module": "@jupyter-widgets/controls",
            "_model_module_version": "1.5.0",
            "_model_name": "FloatProgressModel",
            "_view_count": null,
            "_view_module": "@jupyter-widgets/controls",
            "_view_module_version": "1.5.0",
            "_view_name": "ProgressView",
            "bar_style": "success",
            "description": "",
            "description_tooltip": null,
            "layout": "IPY_MODEL_fa602e2dc0b34a1d8976f27889770078",
            "max": 2440,
            "min": 0,
            "orientation": "horizontal",
            "style": "IPY_MODEL_f090c12c86f645829b72762a51b578f0",
            "value": 2440
          }
        },
        "776aae5703d34c4798b9cf73fc69cc9c": {
          "model_module": "@jupyter-widgets/controls",
          "model_name": "HTMLModel",
          "model_module_version": "1.5.0",
          "state": {
            "_dom_classes": [],
            "_model_module": "@jupyter-widgets/controls",
            "_model_module_version": "1.5.0",
            "_model_name": "HTMLModel",
            "_view_count": null,
            "_view_module": "@jupyter-widgets/controls",
            "_view_module_version": "1.5.0",
            "_view_name": "HTMLView",
            "description": "",
            "description_tooltip": null,
            "layout": "IPY_MODEL_737029194d8b42efa641230b04e74bbf",
            "placeholder": "​",
            "style": "IPY_MODEL_e59e8e44993647e1a495a86274d336ed",
            "value": " 2440/2440 [22:00&lt;00:00,  1.85it/s]"
          }
        },
        "5cbcf631f54c4cc2b173636f7be47300": {
          "model_module": "@jupyter-widgets/base",
          "model_name": "LayoutModel",
          "model_module_version": "1.2.0",
          "state": {
            "_model_module": "@jupyter-widgets/base",
            "_model_module_version": "1.2.0",
            "_model_name": "LayoutModel",
            "_view_count": null,
            "_view_module": "@jupyter-widgets/base",
            "_view_module_version": "1.2.0",
            "_view_name": "LayoutView",
            "align_content": null,
            "align_items": null,
            "align_self": null,
            "border": null,
            "bottom": null,
            "display": null,
            "flex": null,
            "flex_flow": null,
            "grid_area": null,
            "grid_auto_columns": null,
            "grid_auto_flow": null,
            "grid_auto_rows": null,
            "grid_column": null,
            "grid_gap": null,
            "grid_row": null,
            "grid_template_areas": null,
            "grid_template_columns": null,
            "grid_template_rows": null,
            "height": null,
            "justify_content": null,
            "justify_items": null,
            "left": null,
            "margin": null,
            "max_height": null,
            "max_width": null,
            "min_height": null,
            "min_width": null,
            "object_fit": null,
            "object_position": null,
            "order": null,
            "overflow": null,
            "overflow_x": null,
            "overflow_y": null,
            "padding": null,
            "right": null,
            "top": null,
            "visibility": null,
            "width": null
          }
        },
        "2bbfcaf95e2d4674953fb7bce2d8a45f": {
          "model_module": "@jupyter-widgets/base",
          "model_name": "LayoutModel",
          "model_module_version": "1.2.0",
          "state": {
            "_model_module": "@jupyter-widgets/base",
            "_model_module_version": "1.2.0",
            "_model_name": "LayoutModel",
            "_view_count": null,
            "_view_module": "@jupyter-widgets/base",
            "_view_module_version": "1.2.0",
            "_view_name": "LayoutView",
            "align_content": null,
            "align_items": null,
            "align_self": null,
            "border": null,
            "bottom": null,
            "display": null,
            "flex": null,
            "flex_flow": null,
            "grid_area": null,
            "grid_auto_columns": null,
            "grid_auto_flow": null,
            "grid_auto_rows": null,
            "grid_column": null,
            "grid_gap": null,
            "grid_row": null,
            "grid_template_areas": null,
            "grid_template_columns": null,
            "grid_template_rows": null,
            "height": null,
            "justify_content": null,
            "justify_items": null,
            "left": null,
            "margin": null,
            "max_height": null,
            "max_width": null,
            "min_height": null,
            "min_width": null,
            "object_fit": null,
            "object_position": null,
            "order": null,
            "overflow": null,
            "overflow_x": null,
            "overflow_y": null,
            "padding": null,
            "right": null,
            "top": null,
            "visibility": null,
            "width": null
          }
        },
        "9cba9088f16f49a3b39f6cc58163c6a3": {
          "model_module": "@jupyter-widgets/controls",
          "model_name": "DescriptionStyleModel",
          "model_module_version": "1.5.0",
          "state": {
            "_model_module": "@jupyter-widgets/controls",
            "_model_module_version": "1.5.0",
            "_model_name": "DescriptionStyleModel",
            "_view_count": null,
            "_view_module": "@jupyter-widgets/base",
            "_view_module_version": "1.2.0",
            "_view_name": "StyleView",
            "description_width": ""
          }
        },
        "fa602e2dc0b34a1d8976f27889770078": {
          "model_module": "@jupyter-widgets/base",
          "model_name": "LayoutModel",
          "model_module_version": "1.2.0",
          "state": {
            "_model_module": "@jupyter-widgets/base",
            "_model_module_version": "1.2.0",
            "_model_name": "LayoutModel",
            "_view_count": null,
            "_view_module": "@jupyter-widgets/base",
            "_view_module_version": "1.2.0",
            "_view_name": "LayoutView",
            "align_content": null,
            "align_items": null,
            "align_self": null,
            "border": null,
            "bottom": null,
            "display": null,
            "flex": null,
            "flex_flow": null,
            "grid_area": null,
            "grid_auto_columns": null,
            "grid_auto_flow": null,
            "grid_auto_rows": null,
            "grid_column": null,
            "grid_gap": null,
            "grid_row": null,
            "grid_template_areas": null,
            "grid_template_columns": null,
            "grid_template_rows": null,
            "height": null,
            "justify_content": null,
            "justify_items": null,
            "left": null,
            "margin": null,
            "max_height": null,
            "max_width": null,
            "min_height": null,
            "min_width": null,
            "object_fit": null,
            "object_position": null,
            "order": null,
            "overflow": null,
            "overflow_x": null,
            "overflow_y": null,
            "padding": null,
            "right": null,
            "top": null,
            "visibility": null,
            "width": null
          }
        },
        "f090c12c86f645829b72762a51b578f0": {
          "model_module": "@jupyter-widgets/controls",
          "model_name": "ProgressStyleModel",
          "model_module_version": "1.5.0",
          "state": {
            "_model_module": "@jupyter-widgets/controls",
            "_model_module_version": "1.5.0",
            "_model_name": "ProgressStyleModel",
            "_view_count": null,
            "_view_module": "@jupyter-widgets/base",
            "_view_module_version": "1.2.0",
            "_view_name": "StyleView",
            "bar_color": null,
            "description_width": ""
          }
        },
        "737029194d8b42efa641230b04e74bbf": {
          "model_module": "@jupyter-widgets/base",
          "model_name": "LayoutModel",
          "model_module_version": "1.2.0",
          "state": {
            "_model_module": "@jupyter-widgets/base",
            "_model_module_version": "1.2.0",
            "_model_name": "LayoutModel",
            "_view_count": null,
            "_view_module": "@jupyter-widgets/base",
            "_view_module_version": "1.2.0",
            "_view_name": "LayoutView",
            "align_content": null,
            "align_items": null,
            "align_self": null,
            "border": null,
            "bottom": null,
            "display": null,
            "flex": null,
            "flex_flow": null,
            "grid_area": null,
            "grid_auto_columns": null,
            "grid_auto_flow": null,
            "grid_auto_rows": null,
            "grid_column": null,
            "grid_gap": null,
            "grid_row": null,
            "grid_template_areas": null,
            "grid_template_columns": null,
            "grid_template_rows": null,
            "height": null,
            "justify_content": null,
            "justify_items": null,
            "left": null,
            "margin": null,
            "max_height": null,
            "max_width": null,
            "min_height": null,
            "min_width": null,
            "object_fit": null,
            "object_position": null,
            "order": null,
            "overflow": null,
            "overflow_x": null,
            "overflow_y": null,
            "padding": null,
            "right": null,
            "top": null,
            "visibility": null,
            "width": null
          }
        },
        "e59e8e44993647e1a495a86274d336ed": {
          "model_module": "@jupyter-widgets/controls",
          "model_name": "DescriptionStyleModel",
          "model_module_version": "1.5.0",
          "state": {
            "_model_module": "@jupyter-widgets/controls",
            "_model_module_version": "1.5.0",
            "_model_name": "DescriptionStyleModel",
            "_view_count": null,
            "_view_module": "@jupyter-widgets/base",
            "_view_module_version": "1.2.0",
            "_view_name": "StyleView",
            "description_width": ""
          }
        }
      }
    }
  },
  "cells": [
    {
      "cell_type": "markdown",
      "metadata": {
        "id": "view-in-github",
        "colab_type": "text"
      },
      "source": [
        "<a href=\"https://colab.research.google.com/gist/TBeatrix/9b912e0609f3263e7423fade2ff51ca2/finalmilestone_vgg_race.ipynb\" target=\"_parent\"><img src=\"https://colab.research.google.com/assets/colab-badge.svg\" alt=\"Open In Colab\"/></a>"
      ]
    },
    {
      "cell_type": "markdown",
      "source": [
        "# **Deep Learning Python és LUA alapokon -  Homework -Final**\n",
        "\n",
        "\n",
        "---"
      ],
      "metadata": {
        "id": "g0ZKExEyPYDr"
      }
    },
    {
      "cell_type": "markdown",
      "source": [
        "***This notebook contains the image recognition task with VGG for the Age label.***\n",
        "\n",
        "\n",
        "---\n",
        "\n"
      ],
      "metadata": {
        "id": "ZR7PpEdhee8S"
      }
    },
    {
      "cell_type": "markdown",
      "source": [
        "**Group name : * *Rise of AI* ***\n",
        "\n",
        "Group Members: Tugyi Beatrix (T63K63), El-Ali Maya (BHI5LF), Simkó Máté (O3BMRX)\n",
        "\n",
        "**Chosen task: Face Recognition and Generation**\n",
        "\n",
        "**Dataset: [FairFace Datset](https://github.com/joojs/fairface)**"
      ],
      "metadata": {
        "id": "5ixN9vZSPdBF"
      }
    },
    {
      "cell_type": "markdown",
      "source": [
        "#Imports"
      ],
      "metadata": {
        "id": "uttRY0dhQFrp"
      }
    },
    {
      "cell_type": "code",
      "source": [
        "import torch\n",
        "import torchvision\n",
        "import torch.nn as nn\n",
        "import numpy as np\n",
        "import pandas as pd\n",
        "\n",
        "from sklearn.model_selection import train_test_split\n",
        "from torch.utils.data import Dataset\n",
        "\n",
        "import dlib\n",
        "import matplotlib.pyplot as plt\n",
        "import torchvision.transforms as transforms\n",
        "\n",
        "from torch.utils.data.dataloader import DataLoader\n",
        "from torchvision.utils import make_grid\n",
        "from PIL import Image\n",
        "import torch.nn.functional as F\n",
        "\n",
        "from tqdm.notebook import tqdm #a progress bar for aesthetic training visualisation\n",
        "import torchvision.models as models #for the models used in transfer learning\n",
        "from sklearn.metrics import classification_report\n",
        "from sklearn.metrics import confusion_matrix\n",
        "import seaborn as sns\n",
        "import datetime"
      ],
      "metadata": {
        "id": "eolEqRHhQFMZ"
      },
      "execution_count": null,
      "outputs": []
    },
    {
      "cell_type": "markdown",
      "source": [
        "#Loading the data"
      ],
      "metadata": {
        "id": "EpHBwnfJRbHF"
      }
    },
    {
      "cell_type": "code",
      "source": [
        "# getting the images\n",
        "! wget --load-cookies /tmp/cookies.txt \"https://docs.google.com/uc?export=download&confirm=$(wget --quiet --save-cookies /tmp/cookies.txt --keep-session-cookies --no-check-certificate 'https://docs.google.com/uc?export=download&id=1Z1RqRo0_JiavaZw2yzZG6WETdZQ8qX86' -O- | sed -rn 's/.*confirm=([0-9A-Za-z_]+).*/\\1\\n/p')&id=1Z1RqRo0_JiavaZw2yzZG6WETdZQ8qX86\" -O data.zip && rm -rf /tmp/cookies.txt"
      ],
      "metadata": {
        "id": "xs-tw2PoRaO5"
      },
      "execution_count": null,
      "outputs": []
    },
    {
      "cell_type": "code",
      "execution_count": null,
      "metadata": {
        "id": "fhIQNlY7PQOf"
      },
      "outputs": [],
      "source": [
        "# getting the training labels\n",
        "! wget --no-check-certificate 'https://docs.google.com/uc?export=download&id=1i1L3Yqwaio7YSOCj7ftgk8ZZchPG7dmH' -O \"fairface_label_train.csv\""
      ]
    },
    {
      "cell_type": "code",
      "source": [
        "# getting the validation labels\n",
        "! wget --no-check-certificate 'https://docs.google.com/uc?export=download&id=1wOdja-ezstMEp81tX1a-EYkFebev4h7D' -O \"fairface_label_val.csv\""
      ],
      "metadata": {
        "id": "l9KdruFlRoFY"
      },
      "execution_count": null,
      "outputs": []
    },
    {
      "cell_type": "code",
      "source": [
        "#unzip the images\n",
        "! unzip  *data.zip"
      ],
      "metadata": {
        "id": "rhDHB2jiR0U1"
      },
      "execution_count": null,
      "outputs": []
    },
    {
      "cell_type": "code",
      "source": [
        "#number of training images\n",
        "! ls train | wc -l"
      ],
      "metadata": {
        "colab": {
          "base_uri": "https://localhost:8080/"
        },
        "id": "v_TC5GVASEgC",
        "outputId": "4fc4ac49-3f98-4bbd-9593-2e7bf419392f"
      },
      "execution_count": null,
      "outputs": [
        {
          "output_type": "stream",
          "name": "stdout",
          "text": [
            "86744\n"
          ]
        }
      ]
    },
    {
      "cell_type": "code",
      "source": [
        "#number of validation images\n",
        "! ls val | wc -l"
      ],
      "metadata": {
        "colab": {
          "base_uri": "https://localhost:8080/"
        },
        "id": "XMtoJODWSKSW",
        "outputId": "373ee064-6146-4d63-9f72-40b7e29e5e32"
      },
      "execution_count": null,
      "outputs": [
        {
          "output_type": "stream",
          "name": "stdout",
          "text": [
            "10954\n"
          ]
        }
      ]
    },
    {
      "cell_type": "markdown",
      "source": [
        "#**Data Preprocessing**"
      ],
      "metadata": {
        "id": "10O_JcgwP1Td"
      }
    },
    {
      "cell_type": "code",
      "source": [
        "#for encoding multiclass labels\n",
        "def one_hot_df(df,target):\n",
        "  #for race and age labels\n",
        "  if(target != 'multi'):\n",
        "    label = df[target]\n",
        "    label= pd.get_dummies(label)\n",
        "    return pd.concat([label], axis=1)\n",
        "  #for multiclass labels \n",
        "  age = df['age']\n",
        "  age = pd.get_dummies(age)\n",
        "  race = df['race']\n",
        "  race = pd.get_dummies(race)\n",
        "  gender = df['gender']\n",
        "  gender = pd.get_dummies(gender)\n",
        "   \n",
        "  return pd.concat([age,gender,race], axis=1)\n",
        "\n",
        "#for encoding binary labels\n",
        "def to_categorical(df,target):\n",
        "\n",
        "  df[target] = df[target].astype('category')\n",
        "  df[target] = df[target].cat.codes\n",
        "\n",
        "  return df\n",
        "\n",
        "#for encoding the given target label\n",
        "def encode_target(train,valid,test,target):\n",
        "  if(target == \"gender\"):\n",
        "    Y_train = to_categorical(train,target)\n",
        "    Y_valid = to_categorical(valid,target)\n",
        "    Y_test = to_categorical(test,target)\n",
        "  elif(target == \"multi\"):\n",
        "    Y_train = one_hot_df(train,target)\n",
        "    Y_valid = one_hot_df(valid,target)\n",
        "    Y_test = one_hot_df(test,target)\n",
        "  elif(target == \"race\" or target == \"age\"):\n",
        "    Y_train = one_hot_df(train,target)\n",
        "    Y_valid = one_hot_df(valid,target)\n",
        "    Y_test = one_hot_df(test,target)\n",
        "  return Y_train, Y_valid, Y_test"
      ],
      "metadata": {
        "id": "kyA_v3qbTPjD"
      },
      "execution_count": null,
      "outputs": []
    },
    {
      "cell_type": "code",
      "source": [
        "#function for preprocess the labels and images\n",
        "def preprocess(target=\"multi\"):\n",
        "  #loading the labels\n",
        "  train_df = pd.read_csv(\"fairface_label_train.csv\")\n",
        "  train_df = train_df.drop(['service_test'], axis=1)\n",
        " # train_df = train_df[:10000]\n",
        "  print(\"Number of all training images: \" + str(len(train_df)))\n",
        "  valid_df = pd.read_csv(\"fairface_label_val.csv\")\n",
        "  valid_df = valid_df.drop([\"service_test\"], axis = 1)\n",
        "  #valid_df = valid_df[:2000]\n",
        "  print(\"Number of validation images: \" + str(len(valid_df)))\n",
        "  #splitting the data\n",
        "  print(\"Splitting the data...\")\n",
        "  if(target != \"multi\"):\n",
        "    train_x = train_df.loc[:, train_df.columns == \"file\"]\n",
        "    train_y = train_df.loc[:, train_df.columns == target]\n",
        "    X_train_raw, X_test_raw, y_train_raw, y_test_raw = train_test_split(train_x, train_y, test_size=0.1, random_state=42, stratify = train_y)\n",
        "    print(\"Number of training images: \" + str(len(X_train_raw)))\n",
        "    print(\"Number of test images: \" + str(len(X_test_raw)))\n",
        "    valid_x = valid_df.loc[:, valid_df.columns == \"file\"]\n",
        "    valid_y = valid_df.loc[:, valid_df.columns == target]\n",
        "  else:\n",
        "    train_x = train_df.loc[:, train_df.columns == \"file\"]\n",
        "    train_y = train_df.loc[:, train_df.columns != \"file\"]\n",
        "    X_train_raw, X_test_raw, y_train_raw, y_test_raw = train_test_split(train_x, train_y, test_size=0.1, random_state=42, stratify = train_y)\n",
        "    print(\"Number of training images: \" + str(len(X_train_raw)))\n",
        "    print(\"Number of test images: \" + str(len(X_test_raw)))\n",
        "    valid_x = valid_df.loc[:, valid_df.columns == \"file\"]\n",
        "    valid_y = valid_df.loc[:, valid_df.columns != \"file\"]\n",
        "  #encoding the data\n",
        "  print(\"Encoding target labels...\")\n",
        "  Y_train_, Y_valid_, Y_test_ = encode_target(y_train_raw, valid_y, y_test_raw, target)\n",
        "  #When creating the test dataset using train_test_split, the indeces were also scrambled, so they need to be renumbered\n",
        "  X_train_ = X_train_raw.reset_index(drop=True)\n",
        "  Y_train_ = Y_train_.reset_index(drop=True)\n",
        "  X_test_ = X_test_raw.reset_index(drop=True)\n",
        "  Y_test_ = Y_test_.reset_index(drop=True)\n",
        "  #renaming variable\n",
        "  X_valid_ = valid_x\n",
        "  print(\"Preprocessing finished!\")\n",
        "  return X_train_, Y_train_, X_valid_, Y_valid_, X_test_, Y_test_\n"
      ],
      "metadata": {
        "id": "VwuNejgbPy07"
      },
      "execution_count": null,
      "outputs": []
    },
    {
      "cell_type": "markdown",
      "source": [
        "#**Create a DataLoader for the images**"
      ],
      "metadata": {
        "id": "ibWsc5a0XhLR"
      }
    },
    {
      "cell_type": "code",
      "source": [
        "#Defining our own dataset\n",
        "class FaceRecognitionDataset(Dataset):  \n",
        "    def __init__(self, image_ds, label_ds, transform=None):\n",
        "        self.label_ds = label_ds\n",
        "        self.ds = image_ds\n",
        "        self.transform = transform\n",
        "        \n",
        "    def __len__(self):\n",
        "        return len(self.ds)\n",
        "    \n",
        "    def __getitem__(self, idx):        \n",
        "         #return one image and it's label according to the index\n",
        "        img = dlib.load_rgb_image(self.ds[\"file\"][idx])\n",
        "        img = torchvision.transforms.ToPILImage()(img)\n",
        "        label = self.label_ds.iloc[idx]\n",
        "        label = torch.tensor(label)\n",
        "        if self.transform:\n",
        "            img = self.transform(img)  \n",
        "            return img, label"
      ],
      "metadata": {
        "id": "YOaogZLNXl0Y"
      },
      "execution_count": null,
      "outputs": []
    },
    {
      "cell_type": "code",
      "source": [
        "# Trasformation of the Images\n",
        "# On the train set: We Crop, Flip and Rotate and we transform both the train, test and valid datasets to tensors\n",
        "\n",
        "train_transform = transforms.Compose([\n",
        "    transforms.CenterCrop(224),\n",
        "    transforms.RandomHorizontalFlip(p=0.3),\n",
        "    transforms.RandomRotation(degrees=20),\n",
        "    transforms.ToTensor(),  \n",
        "    # we used the same mean and std thats been used to trained the base ResNet and VGG models \n",
        "    transforms.Normalize(mean=[0.485, 0.456, 0.406],\n",
        "                                 std=[0.229, 0.224, 0.225])\n",
        "])\n",
        "\n",
        "val_and_test_transform = transforms.Compose([\n",
        "    transforms.ToTensor(),\n",
        "    transforms.Normalize(mean=[0.485, 0.456, 0.406],\n",
        "                                 std=[0.229, 0.224, 0.225])\n",
        "])"
      ],
      "metadata": {
        "id": "pP5H361WXq1K"
      },
      "execution_count": null,
      "outputs": []
    },
    {
      "cell_type": "markdown",
      "source": [
        "#Set GPU usage"
      ],
      "metadata": {
        "id": "UYhQjLR_YTDG"
      }
    },
    {
      "cell_type": "code",
      "source": [
        "#set the training device for cuda if it is avaible\n",
        "def get_default_device():\n",
        "  if torch.cuda.is_available():\n",
        "    return torch.device('cuda')\n",
        "  else:\n",
        "    torch.device('cpu')\n",
        "#CUDA check\n",
        "device = get_default_device()\n",
        "print(device)\n",
        "\n",
        "def to_device(data, device):\n",
        "  if isinstance(data, (list, tuple)):\n",
        "    return [to_device(x, device) for x in data]\n",
        "  return data.to(device, non_blocking=True)\n",
        "\n",
        "class DeviceDataLoader():\n",
        "  def __init__(self, dl, device):\n",
        "    self.dl = dl \n",
        "    self.device = device\n",
        "\n",
        "  def __iter__(self):\n",
        "    for b in self.dl:\n",
        "      yield to_device(b, self.device)\n",
        "\n",
        "  def __len__(self):\n",
        "    return len(self.dl)"
      ],
      "metadata": {
        "colab": {
          "base_uri": "https://localhost:8080/"
        },
        "id": "BcUQgtFaYSrs",
        "outputId": "1858a782-567f-4c21-83e6-9b3761b97225"
      },
      "execution_count": null,
      "outputs": [
        {
          "output_type": "stream",
          "name": "stdout",
          "text": [
            "cuda\n"
          ]
        }
      ]
    },
    {
      "cell_type": "markdown",
      "source": [
        "#**Train Functions and Model**"
      ],
      "metadata": {
        "id": "t9vXGpexax0R"
      }
    },
    {
      "cell_type": "code",
      "source": [
        "#custom accuracy\n",
        "def accuracy(preds, labels): \n",
        "    #for binary labels\n",
        "    if(preds.shape[1]!=1): \n",
        "      _, preds = torch.max(preds, dim=1)\n",
        "      _, labels = torch.max(labels, dim=1)\n",
        "    #for multi labels\n",
        "    elif(preds.shape[1] == 18):\n",
        "       #split the predictions\n",
        "      age_preds, gender_preds,race_preds = torch.split(preds, [9,2,7], dim=1)\n",
        "      _, age_preds = torch.max(age_preds, dim=1)\n",
        "      _, race_preds = torch.max(race_preds, dim=1)\n",
        "      _, gender_preds = torch.max(gender_preds, dim=1)\n",
        "       #split the labels\n",
        "      age_labels, gender_labels,race_labels = torch.split(labels, [9,2,7], dim=1)\n",
        "      _, age_labels = torch.max(age_labels, dim=1)\n",
        "      _, race_labels = torch.max(race_labels, dim=1)\n",
        "      _, gender_labels = torch.max(gender_labels, dim=1)\n",
        "      #get accuracy for every label\n",
        "      age_acc = torch.tensor(torch.sum(age_preds == age_labels).item() / len(age_preds))\n",
        "      race_acc = torch.tensor(torch.sum(race_preds == race_labels).item() / len(race_preds))\n",
        "      gender_acc = torch.tensor(torch.sum(gender_preds == gender_labels).item() / len(gender_preds))\n",
        "\n",
        "      accs = [age_acc, race_acc, gender_acc]\n",
        "\n",
        "      print(accs)\n",
        "      return torch.mean(torch.tensor(accs, dtype = torch.float))\n",
        "    #for race or age labels\n",
        "    else:\n",
        "      preds = torch.round(preds)  \n",
        "    return torch.tensor(torch.sum(preds == labels).item() / len(preds))"
      ],
      "metadata": {
        "id": "UmNph-Q0zOTm"
      },
      "execution_count": null,
      "outputs": []
    },
    {
      "cell_type": "code",
      "source": [
        "#custom loss for multi target\n",
        "def multi_target_loss(out, labels):\n",
        "  age_outputs, gender_outputs,race_outputs = torch.split(out, [9,2,7], dim=1)\n",
        "\n",
        "  age_outputs = age_outputs.cpu().detach().numpy()\n",
        "  gender_outputs = gender_outputs.cpu().detach().numpy()\n",
        "  race_outputs = race_outputs.cpu().detach().numpy()\n",
        "\n",
        "  age_pred = torch.tensor( age_outputs,dtype=torch.float32, device=device, requires_grad=True)\n",
        "  gender_pred = torch.tensor(gender_outputs,dtype=torch.float32, device=device, requires_grad=True)\n",
        "  race_pred = torch.tensor(race_outputs,dtype=torch.float32, device=device, requires_grad=True)\n",
        "\n",
        "  labels = labels.type(torch.float32)\n",
        "\n",
        "  age_labels, gender_labels, race_labels = torch.split(labels,[9,2,7],dim=1)\n",
        "\n",
        "  loss = nn.CrossEntropyLoss()\n",
        "\n",
        "  age_loss = loss(age_pred,age_labels)\n",
        "  gender_loss = loss(gender_pred,gender_labels)\n",
        "  race_loss = loss(race_pred,race_labels)\n",
        "\n",
        "  return (age_loss + gender_loss + race_loss)"
      ],
      "metadata": {
        "id": "icLqmawWoDx_"
      },
      "execution_count": null,
      "outputs": []
    },
    {
      "cell_type": "code",
      "source": [
        "class ImageClassificationBase(nn.Module):\n",
        "    # training step\n",
        "    def training_step(self, batch):\n",
        "        img, targets = batch\n",
        "        out = self(img)\n",
        "        targets = targets.type(torch.float32)\n",
        "        # set the loss function\n",
        "        if(out.shape[1] == 1):\n",
        "          #for gender\n",
        "          loss_fn = nn.BCELoss() \n",
        "        elif (out.shape[1] == 18):\n",
        "          #for multilabels\n",
        "          loss_fn = multi_target_loss\n",
        "        else: \n",
        "          #for age and race\n",
        "          loss_fn = nn.CrossEntropyLoss()\n",
        "\n",
        "        loss = loss_fn(out, targets) \n",
        "        return loss\n",
        "    \n",
        "    \n",
        "    # validation step\n",
        "    def validation_step(self, batch):\n",
        "        img, targets = batch\n",
        "        targets = targets.type(torch.float32)\n",
        "        out = self(img)\n",
        "          #set the loss function\n",
        "        if(out.shape[1] == 1):\n",
        "          loss_fn = nn.BCELoss() \n",
        "        elif (out.shape[1] == 18):\n",
        "          loss_fn = multi_target_loss\n",
        "        else: \n",
        "          loss_fn = nn.CrossEntropyLoss()\n",
        "             \n",
        "        loss = loss_fn(out, targets) \n",
        "        targets = targets.type(torch.int32)\n",
        "         #get the accuracy\n",
        "        acc = accuracy(out, targets)\n",
        "        return {'val_acc':acc,  'val_loss':loss}\n",
        "    \n",
        "    # validation step at the end of the epoch\n",
        "    def validation_epoch_end(self, outputs):\n",
        "        batch_losses = [x['val_loss'] for x in outputs]\n",
        "        epoch_loss = torch.stack(batch_losses).mean()\n",
        "        batch_accs = [x['val_acc'] for x in outputs]\n",
        "        epoch_acc = torch.stack(batch_accs).mean()\n",
        "       \n",
        "        return {'val_loss':epoch_loss.item(), 'val_acc':epoch_acc.item()}\n",
        "\n",
        "\n",
        "    # Printing the results at the end of the epoch\n",
        "    def epoch_end(self, epoch, result):\n",
        "        print(\"Epoch [{}] : train_loss: {:.4f}, val_loss: {:.4f}, val_acc: {:.4f}\"\n",
        "        .format(epoch, result[\"train_loss\"], result[\"val_loss\"], result[\"val_acc\"]))"
      ],
      "metadata": {
        "id": "-mJn1_35ny2-"
      },
      "execution_count": null,
      "outputs": []
    },
    {
      "cell_type": "code",
      "source": [
        "# Defining the model\n",
        "class FaceClassificationModel(ImageClassificationBase):\n",
        "    def __init__(self, num_classes, h, base_model):\n",
        "        super().__init__()       \n",
        "        if base_model == \"ResNet\":\n",
        "            self.network = torch.hub.load('pytorch/vision:v0.10.0', 'resnet50', pretrained=True)\n",
        "        else:\n",
        "            self.network = torch.hub.load('pytorch/vision:v0.10.0', 'vgg19', pretrained=True)\n",
        "        if (num_classes == 1):\n",
        "           self.activation = nn.Sigmoid()\n",
        "        else:\n",
        "          self.activation = nn.Softmax(1)\n",
        "\n",
        "        if base_model == \"ResNet\":\n",
        "          num_ftrs = self.network.fc.in_features\n",
        "          self.network.fc = nn.Sequential(\n",
        "              nn.Linear(num_ftrs, h),\n",
        "              nn.ReLU(inplace=True),\n",
        "              nn.Linear(h,num_classes),  # for the n output\n",
        "              self.activation\n",
        "          )\n",
        "        else:\n",
        "           num_ftrs = 25088\n",
        "           self.network.classifier = nn.Sequential(\n",
        "              nn.Linear(num_ftrs, 4096),\n",
        "              nn.ReLU(inplace=True),\n",
        "              nn.Dropout(p=0.5),\n",
        "              nn.Linear(4096, 1024),\n",
        "              nn.ReLU(inplace=True),\n",
        "              nn.Dropout(p=0.5),\n",
        "              nn.Linear(1024, num_classes),\n",
        "              self.activation\n",
        "         )\n",
        "    def forward(self, xb):\n",
        "        return self.network(xb)"
      ],
      "metadata": {
        "id": "c8-NjTmOn80z"
      },
      "execution_count": null,
      "outputs": []
    },
    {
      "cell_type": "code",
      "source": [
        "def get_lr(optimizer):\n",
        "    for param_group in optimizer.param_groups:\n",
        "        return param_group['lr']\n",
        "        \n",
        "def fit_one_cycle(epochs, max_lr, model, target, batch_size, weight_decay, grad_clip, opt_func):\n",
        "\n",
        "    X_train, Y_train, X_valid, Y_valid, X_test, Y_test = preprocess(target)\n",
        "    train_dataset = FaceRecognitionDataset(X_train, Y_train, train_transform)\n",
        "    val_dataset = FaceRecognitionDataset(X_valid, Y_valid, val_and_test_transform)\n",
        "    train_dl = DataLoader(train_dataset, batch_size, shuffle=True, num_workers=2, pin_memory=True)\n",
        "    val_dl = DataLoader(val_dataset, batch_size, num_workers=2, pin_memory=True)\n",
        "    train_dl = DeviceDataLoader(train_dl, device)\n",
        "    val_dl = DeviceDataLoader(val_dl, device)\n",
        "\n",
        "    torch.cuda.empty_cache()\n",
        "    history = []\n",
        "    optimizer = opt_func(model.parameters(), max_lr, weight_decay=weight_decay)\n",
        "    # setting the learning rate scheduler\n",
        "    sched = torch.optim.lr_scheduler.OneCycleLR(optimizer, max_lr, epochs=epochs, steps_per_epoch=len(train_dl))\n",
        "    for epoch in range(epochs):      \n",
        "        # Training\n",
        "        model.train()       \n",
        "        train_losses = []\n",
        "        lrs = []\n",
        "        for batch in tqdm(train_dl):\n",
        "            loss = model.training_step(batch)\n",
        "            train_losses.append(loss)       \n",
        "            # Gradient backpropogation\n",
        "            loss.backward()            \n",
        "            # Gradient clipping if needed\n",
        "            if grad_clip:\n",
        "                nn.utils.clip_grad_value_(model.parameters(), grad_clip)              \n",
        "            # Performing gradient descent -> recalculating weights\n",
        "            optimizer.step()           \n",
        "            # Reset gradients\n",
        "            optimizer.zero_grad()         \n",
        "            # Save, update learning rate\n",
        "            lrs.append(get_lr(optimizer))          \n",
        "            sched.step()\n",
        "            \n",
        "        # Validation phase\n",
        "        result = evaluate(model, val_dl)\n",
        "        result['train_loss'] = torch.stack(train_losses).mean().item()\n",
        "        result['lrs'] = lrs\n",
        "        model.epoch_end(epoch, result)\n",
        "        history.append(result)\n",
        "             \n",
        "    return history\n",
        "\n",
        "# For evaluating the test and the validation datasets -> no gradient calculation\n",
        "@torch.no_grad()\n",
        "def evaluate(model, val_loader):\n",
        "    model.eval()\n",
        "    outputs = [model.validation_step(batch) for batch in val_loader]\n",
        "    return model.validation_epoch_end(outputs)\n",
        "\n",
        "@torch.no_grad()\n",
        "def predict(model, test_loader, target):\n",
        "  preds = [model(img) for img, targets in test_loader]\n",
        "  preds = [pred.cpu().detach().numpy() for pred in preds]\n",
        "  if(target != \"gender\"):\n",
        "    preds = [np.argmax(pred, axis=-1) for pred in preds]\n",
        "  else:\n",
        "    preds = [np.round(pred) for pred in preds]\n",
        "  preds = [item for sublist in preds for item in sublist] \n",
        "  return preds"
      ],
      "metadata": {
        "id": "5LZ1cCZEqdZJ"
      },
      "execution_count": null,
      "outputs": []
    },
    {
      "cell_type": "markdown",
      "source": [
        "# **You can choose the type here!**"
      ],
      "metadata": {
        "id": "D1eMlS_iwdoc"
      }
    },
    {
      "cell_type": "code",
      "source": [
        "target = \"race\" #, \"gender\", \"multi\", \"race\""
      ],
      "metadata": {
        "id": "-09nPG5uwiOw"
      },
      "execution_count": null,
      "outputs": []
    },
    {
      "cell_type": "code",
      "source": [
        "#initialise mode\n",
        "if target == \"multi\":\n",
        "  num_classes = 18\n",
        "elif target == \"gender\":\n",
        "   num_classes = 1\n",
        "elif target == \"age\":\n",
        "   num_classes = 9\n",
        "else:\n",
        "   num_classes = 7\n"
      ],
      "metadata": {
        "id": "CaAw3-lTpetp"
      },
      "execution_count": null,
      "outputs": []
    },
    {
      "cell_type": "markdown",
      "source": [
        "#**Hyperparameter optimalization**"
      ],
      "metadata": {
        "id": "uFJZND7ZcWbF"
      }
    },
    {
      "cell_type": "code",
      "source": [
        "#set hiperparameters\n",
        "\n",
        "opt_func = [torch.optim.SGD, torch.optim.Adam]\n",
        "max_lr = [ 0.001, 0.005]\n",
        "grad_clip = [0.1, 0.2] \n",
        "weight_decay = [1e-4, 1e-5]\n",
        "batch_size = [16, 32]\n",
        "hidden_size = [ 128, 256]"
      ],
      "metadata": {
        "id": "azFD2xFByWek"
      },
      "execution_count": null,
      "outputs": []
    },
    {
      "cell_type": "code",
      "source": [
        "base_model = \"VGG\" #, 'VGG'\n",
        "num_epochs = 3"
      ],
      "metadata": {
        "id": "Xx7YGhmZOJFI"
      },
      "execution_count": null,
      "outputs": []
    },
    {
      "cell_type": "code",
      "source": [
        "def run(opt, lr, gc, wd, batch, h):\n",
        "    Model = FaceClassificationModel(num_classes, h, base_model)\n",
        "    to_device(Model, device)\n",
        "    history_RN = fit_one_cycle(num_epochs, lr, Model, target, batch, wd, gc, opt)"
      ],
      "metadata": {
        "id": "5HvQ2YsYB15c"
      },
      "execution_count": null,
      "outputs": []
    },
    {
      "cell_type": "code",
      "source": [
        "for opt in opt_func:\n",
        "  for lr in max_lr:\n",
        "    for gc in grad_clip:\n",
        "      for wd in weight_decay:\n",
        "        for batch in  batch_size:\n",
        "           for h in  hidden_size:\n",
        "            run(opt, lr, gc, wd, batch, h)         \n",
        "            print( opt, lr, gc, wd, batch, h)"
      ],
      "metadata": {
        "id": "rPygIm6NBV_Q"
      },
      "execution_count": null,
      "outputs": []
    },
    {
      "cell_type": "markdown",
      "source": [
        "#**Training**"
      ],
      "metadata": {
        "id": "p1DepouLYOiY"
      }
    },
    {
      "cell_type": "code",
      "source": [
        "#set hiperparameters\n",
        "\n",
        "num_epochs = 3\n",
        "opt_func = torch.optim.SGD\n",
        "max_lr = 0.005\n",
        "grad_clip = 0.2\n",
        "weight_decay = 1e-5\n",
        "batch_size = 32\n",
        "hidden_size = 128\n",
        "base_model = \"VGG\" #, 'VGG'\n"
      ],
      "metadata": {
        "id": "gVYySDKKcWKD"
      },
      "execution_count": null,
      "outputs": []
    },
    {
      "cell_type": "markdown",
      "source": [
        "define model"
      ],
      "metadata": {
        "id": "sHXfyM-bw_Hf"
      }
    },
    {
      "cell_type": "code",
      "source": [
        "Model = FaceClassificationModel(num_classes, hidden_size , base_model)\n",
        "to_device(Model, device)"
      ],
      "metadata": {
        "id": "q4LUxmMRL6jw",
        "colab": {
          "base_uri": "https://localhost:8080/",
          "height": 1000,
          "referenced_widgets": [
            "de98bb864c01444ca659c5807c160c68",
            "d630f0d885dc4ee09653e700cfad521f",
            "c29f9074382c4b9bafd3736b204e95de",
            "d76bec9355a54ec591a79efbdd1ea577",
            "1d37c23d0dc043dfaedc7d191479fab0",
            "1eff3ec3bf5e4fad9ab800c153483c1a",
            "b27c8bd64e3d42c98c5d6fae12e6e69b",
            "90cc17ce6dd447b3a4f8532dd8303eda",
            "f3fed617e1a14795900a29875339f727",
            "9ff9276b7ce64f14aebd0c1feac1dae8",
            "4d0d3a6dc9e54a2991d96c3a26a473a5"
          ]
        },
        "outputId": "6345c626-d8dc-44c5-f04b-d2e8041be24a"
      },
      "execution_count": null,
      "outputs": [
        {
          "output_type": "stream",
          "name": "stderr",
          "text": [
            "Downloading: \"https://github.com/pytorch/vision/zipball/v0.10.0\" to /root/.cache/torch/hub/v0.10.0.zip\n",
            "/usr/local/lib/python3.8/dist-packages/torchvision/models/_utils.py:208: UserWarning: The parameter 'pretrained' is deprecated since 0.13 and may be removed in the future, please use 'weights' instead.\n",
            "  warnings.warn(\n",
            "/usr/local/lib/python3.8/dist-packages/torchvision/models/_utils.py:223: UserWarning: Arguments other than a weight enum or `None` for 'weights' are deprecated since 0.13 and may be removed in the future. The current behavior is equivalent to passing `weights=VGG19_Weights.IMAGENET1K_V1`. You can also use `weights=VGG19_Weights.DEFAULT` to get the most up-to-date weights.\n",
            "  warnings.warn(msg)\n",
            "Downloading: \"https://download.pytorch.org/models/vgg19-dcbb9e9d.pth\" to /root/.cache/torch/hub/checkpoints/vgg19-dcbb9e9d.pth\n"
          ]
        },
        {
          "output_type": "display_data",
          "data": {
            "text/plain": [
              "  0%|          | 0.00/548M [00:00<?, ?B/s]"
            ],
            "application/vnd.jupyter.widget-view+json": {
              "version_major": 2,
              "version_minor": 0,
              "model_id": "de98bb864c01444ca659c5807c160c68"
            }
          },
          "metadata": {}
        },
        {
          "output_type": "execute_result",
          "data": {
            "text/plain": [
              "FaceClassificationModel(\n",
              "  (network): VGG(\n",
              "    (features): Sequential(\n",
              "      (0): Conv2d(3, 64, kernel_size=(3, 3), stride=(1, 1), padding=(1, 1))\n",
              "      (1): ReLU(inplace=True)\n",
              "      (2): Conv2d(64, 64, kernel_size=(3, 3), stride=(1, 1), padding=(1, 1))\n",
              "      (3): ReLU(inplace=True)\n",
              "      (4): MaxPool2d(kernel_size=2, stride=2, padding=0, dilation=1, ceil_mode=False)\n",
              "      (5): Conv2d(64, 128, kernel_size=(3, 3), stride=(1, 1), padding=(1, 1))\n",
              "      (6): ReLU(inplace=True)\n",
              "      (7): Conv2d(128, 128, kernel_size=(3, 3), stride=(1, 1), padding=(1, 1))\n",
              "      (8): ReLU(inplace=True)\n",
              "      (9): MaxPool2d(kernel_size=2, stride=2, padding=0, dilation=1, ceil_mode=False)\n",
              "      (10): Conv2d(128, 256, kernel_size=(3, 3), stride=(1, 1), padding=(1, 1))\n",
              "      (11): ReLU(inplace=True)\n",
              "      (12): Conv2d(256, 256, kernel_size=(3, 3), stride=(1, 1), padding=(1, 1))\n",
              "      (13): ReLU(inplace=True)\n",
              "      (14): Conv2d(256, 256, kernel_size=(3, 3), stride=(1, 1), padding=(1, 1))\n",
              "      (15): ReLU(inplace=True)\n",
              "      (16): Conv2d(256, 256, kernel_size=(3, 3), stride=(1, 1), padding=(1, 1))\n",
              "      (17): ReLU(inplace=True)\n",
              "      (18): MaxPool2d(kernel_size=2, stride=2, padding=0, dilation=1, ceil_mode=False)\n",
              "      (19): Conv2d(256, 512, kernel_size=(3, 3), stride=(1, 1), padding=(1, 1))\n",
              "      (20): ReLU(inplace=True)\n",
              "      (21): Conv2d(512, 512, kernel_size=(3, 3), stride=(1, 1), padding=(1, 1))\n",
              "      (22): ReLU(inplace=True)\n",
              "      (23): Conv2d(512, 512, kernel_size=(3, 3), stride=(1, 1), padding=(1, 1))\n",
              "      (24): ReLU(inplace=True)\n",
              "      (25): Conv2d(512, 512, kernel_size=(3, 3), stride=(1, 1), padding=(1, 1))\n",
              "      (26): ReLU(inplace=True)\n",
              "      (27): MaxPool2d(kernel_size=2, stride=2, padding=0, dilation=1, ceil_mode=False)\n",
              "      (28): Conv2d(512, 512, kernel_size=(3, 3), stride=(1, 1), padding=(1, 1))\n",
              "      (29): ReLU(inplace=True)\n",
              "      (30): Conv2d(512, 512, kernel_size=(3, 3), stride=(1, 1), padding=(1, 1))\n",
              "      (31): ReLU(inplace=True)\n",
              "      (32): Conv2d(512, 512, kernel_size=(3, 3), stride=(1, 1), padding=(1, 1))\n",
              "      (33): ReLU(inplace=True)\n",
              "      (34): Conv2d(512, 512, kernel_size=(3, 3), stride=(1, 1), padding=(1, 1))\n",
              "      (35): ReLU(inplace=True)\n",
              "      (36): MaxPool2d(kernel_size=2, stride=2, padding=0, dilation=1, ceil_mode=False)\n",
              "    )\n",
              "    (avgpool): AdaptiveAvgPool2d(output_size=(7, 7))\n",
              "    (classifier): Sequential(\n",
              "      (0): Linear(in_features=25088, out_features=4096, bias=True)\n",
              "      (1): ReLU(inplace=True)\n",
              "      (2): Dropout(p=0.5, inplace=False)\n",
              "      (3): Linear(in_features=4096, out_features=1024, bias=True)\n",
              "      (4): ReLU(inplace=True)\n",
              "      (5): Dropout(p=0.5, inplace=False)\n",
              "      (6): Linear(in_features=1024, out_features=7, bias=True)\n",
              "      (7): Softmax(dim=1)\n",
              "    )\n",
              "  )\n",
              "  (activation): Softmax(dim=1)\n",
              ")"
            ]
          },
          "metadata": {},
          "execution_count": 21
        }
      ]
    },
    {
      "cell_type": "code",
      "source": [
        "history_RN = fit_one_cycle(num_epochs, max_lr, Model, target, batch_size, \n",
        "                           weight_decay, grad_clip, opt_func)"
      ],
      "metadata": {
        "colab": {
          "base_uri": "https://localhost:8080/",
          "height": 385,
          "referenced_widgets": [
            "5db56d94b8994fca8a0cbf5fddd27e0f",
            "9d1d851133f24960aaa97ecfdb4136e8",
            "4c5ea9ba07254a299fe855590ad94b80",
            "685adc1c3ec44170b054d84561423bd9",
            "c6554d6acf0347e59151ee6ec9118522",
            "3d333bed59dc4b439c0f66df0754295b",
            "27f9d4635dad40079fc3dfa8557d1bf6",
            "ec0407dd5a6f44c7a13ca5efa3e39015",
            "aa3ca944d969414bbd2b4aae28870939",
            "7d1a468ed42a40ac960aa9085d9b6e65",
            "dd524813808340958c08b7d63796fb29",
            "aa34a5c3506c446ab76f8910e0f8998d",
            "fa39678ff6c444fabae0179f9c79d0d3",
            "461862b7815c42309db79305dbf09686",
            "8949c23a99234440902432932ad173bd",
            "42a0d3e3bcf94bd7a0c2b222426b92eb",
            "83b8bc3429624d36b433a059cd12b059",
            "76f388f7531947eba93358cb34357e2c",
            "177470970bfb45a890523ed94bdfdfff",
            "827c37815a2e468383132a2969cb2382",
            "3db02fdbe3604b268a366f6e64ec16fd",
            "e047fca0a0fa44838a88fc0e33eb4bc5",
            "009ef8099680425d860219c746d666c7",
            "26000fb8a8ac40df907f30e7c38b7408",
            "ce96f9d68e9e4d3ca34d1c025f8e0947",
            "7888818ee0f448cc8963226ae6e387df",
            "abe1ef4dba2c4b628547e41b9425efda",
            "06a2330287fd4ee9999aa86fd6ce7b08",
            "edcc0c37a61449949ab9d9fa6d4500ab",
            "49ed59ec1d61445eac05733f2e318372",
            "4500f94952f546c8b83b71fc94a3a079",
            "5eb94b8ed74d48418a56f8f606bb322b",
            "a589a57bf83645049cb593afae185c91",
            "f7d0248d4ac5486ebe4f2a61ac2917ac",
            "b71f1b45a86c42cdbb8003379ccdc5e6",
            "d19ec4a50b8b40338ea26c3c9322d846",
            "89a91533fcd54fd9a266facff903ee39",
            "a4032e18fc7c4f0a83b86743ba0edab7",
            "f616af689f43460e9315983a3ab6c22b",
            "afb3359a7e9448099b38a993bf434b83",
            "41118ec396b147dfbd5f1824989290d6",
            "8b32c97879924b40a43c072b39dfe8bb",
            "52605e4a330e49489a6dd16eb1540a45",
            "b855cd048f2542f29d4c94364431f8f1",
            "28bcf6b118c24ed885074c7ee4f00fff",
            "bbbbdbf900a1458c9a0a4d675d585d12",
            "ece354f0f323434a8262cc215238e449",
            "81e3f07d7f5741eb93ebbec838d93872",
            "5ca181a579234cd184f9d60e42915fbe",
            "63f3aa0c2cf94a9ba8105437f65fa382",
            "67518df7c0dc4f88bd235503d213c319",
            "65dcbfac01924385b971b6992d845568",
            "6d8b7297c9b84331a87ad206d2f8d51e",
            "29ea29f813ff46febf0858147570c8b3",
            "4649e2756a2840b49c0c1fa9a8f8119b"
          ]
        },
        "id": "kTywzdvHfhpK",
        "outputId": "05f92bf2-3255-44a2-e2ee-26e687910289"
      },
      "execution_count": null,
      "outputs": [
        {
          "output_type": "stream",
          "name": "stdout",
          "text": [
            "Number of all training images: 86744\n",
            "Number of validation images: 10954\n",
            "Splitting the data...\n",
            "Number of training images: 78069\n",
            "Number of test images: 8675\n",
            "Encoding target labels...\n",
            "Preprocessing finished!\n"
          ]
        },
        {
          "output_type": "display_data",
          "data": {
            "text/plain": [
              "  0%|          | 0/2440 [00:00<?, ?it/s]"
            ],
            "application/vnd.jupyter.widget-view+json": {
              "version_major": 2,
              "version_minor": 0,
              "model_id": "5db56d94b8994fca8a0cbf5fddd27e0f"
            }
          },
          "metadata": {}
        },
        {
          "output_type": "stream",
          "name": "stdout",
          "text": [
            "Epoch [0] : train_loss: 1.8190, val_loss: 1.7080, val_acc: 0.4481\n"
          ]
        },
        {
          "output_type": "display_data",
          "data": {
            "text/plain": [
              "  0%|          | 0/2440 [00:00<?, ?it/s]"
            ],
            "application/vnd.jupyter.widget-view+json": {
              "version_major": 2,
              "version_minor": 0,
              "model_id": "aa34a5c3506c446ab76f8910e0f8998d"
            }
          },
          "metadata": {}
        },
        {
          "output_type": "stream",
          "name": "stdout",
          "text": [
            "Epoch [1] : train_loss: 1.7120, val_loss: 1.7049, val_acc: 0.4537\n"
          ]
        },
        {
          "output_type": "display_data",
          "data": {
            "text/plain": [
              "  0%|          | 0/2440 [00:00<?, ?it/s]"
            ],
            "application/vnd.jupyter.widget-view+json": {
              "version_major": 2,
              "version_minor": 0,
              "model_id": "009ef8099680425d860219c746d666c7"
            }
          },
          "metadata": {}
        },
        {
          "output_type": "stream",
          "name": "stdout",
          "text": [
            "Epoch [2] : train_loss: 1.6932, val_loss: 1.7007, val_acc: 0.4550\n"
          ]
        },
        {
          "output_type": "display_data",
          "data": {
            "text/plain": [
              "  0%|          | 0/2440 [00:00<?, ?it/s]"
            ],
            "application/vnd.jupyter.widget-view+json": {
              "version_major": 2,
              "version_minor": 0,
              "model_id": "f7d0248d4ac5486ebe4f2a61ac2917ac"
            }
          },
          "metadata": {}
        },
        {
          "output_type": "stream",
          "name": "stdout",
          "text": [
            "Epoch [3] : train_loss: 1.6413, val_loss: 1.6037, val_acc: 0.5546\n"
          ]
        },
        {
          "output_type": "display_data",
          "data": {
            "text/plain": [
              "  0%|          | 0/2440 [00:00<?, ?it/s]"
            ],
            "application/vnd.jupyter.widget-view+json": {
              "version_major": 2,
              "version_minor": 0,
              "model_id": "28bcf6b118c24ed885074c7ee4f00fff"
            }
          },
          "metadata": {}
        },
        {
          "output_type": "stream",
          "name": "stdout",
          "text": [
            "Epoch [4] : train_loss: 1.5843, val_loss: 1.5697, val_acc: 0.5906\n"
          ]
        }
      ]
    },
    {
      "cell_type": "markdown",
      "source": [
        "**Contunie the same training**"
      ],
      "metadata": {
        "id": "JbQa3WJZFxyn"
      }
    },
    {
      "cell_type": "code",
      "source": [],
      "metadata": {
        "id": "87AT9ra-F3ue"
      },
      "execution_count": null,
      "outputs": []
    },
    {
      "cell_type": "code",
      "source": [
        "history_RN = fit_one_cycle(num_epochs, max_lr, Model, target, batch_size, \n",
        "                           weight_decay, grad_clip, opt_func)"
      ],
      "metadata": {
        "colab": {
          "base_uri": "https://localhost:8080/",
          "height": 286,
          "referenced_widgets": [
            "24aa6e03275e4a96a495c43232ebfb48",
            "01c42c3db9a342f08103e5eb9b913f99",
            "aca3a59318e84399864e4c9d2c5e460b",
            "b2d69a484d00487dbe479ebab81b25f6",
            "0b63e77f5f0741d69fa33f93c5f440cb",
            "5740826780fd487c829761ca0b2391b2",
            "1a41bb34003b47899c0255c63b401088",
            "02c6a26ef96643948560db47e9ade022",
            "ad0dcabf02624edbacf83f3b9fd16775",
            "73951b8cff224c088cc640227429ca38",
            "e05a7f59e4f04d16a79fb5559ca9e88a",
            "aa2d665d188b45d1a51a43d0ca9f1033",
            "41cd276951a24ea0a6cbd9fc39f8bdaf",
            "7d7952571c15470faa79c1b945a91130",
            "0c5a51f60a0c44eba34a3c785ad2af16",
            "5d9d3c27031c4b379bf25caec2a63421",
            "f9861912505642a6bc3305ef391b6f5d",
            "4ea73ae9237f4f478ea681929533f64b",
            "7cfc40ba66874a8d9276c90e370424af",
            "bc76495305dd4b74bafd57918949c2f7",
            "ff76e57855c842e695f0861ccf4f8675",
            "c7d7d40729ba4f048299cb9c351863cf",
            "3f243e871b674d6a93d62e6678fddd7d",
            "999475933b24457cb38447a3ab8c5318",
            "c88c7ec1dd9f477aa6958d03f52addfd",
            "776aae5703d34c4798b9cf73fc69cc9c",
            "5cbcf631f54c4cc2b173636f7be47300",
            "2bbfcaf95e2d4674953fb7bce2d8a45f",
            "9cba9088f16f49a3b39f6cc58163c6a3",
            "fa602e2dc0b34a1d8976f27889770078",
            "f090c12c86f645829b72762a51b578f0",
            "737029194d8b42efa641230b04e74bbf",
            "e59e8e44993647e1a495a86274d336ed"
          ]
        },
        "id": "e1V_3qmuAI7T",
        "outputId": "bb061153-c320-4e1c-d3ae-6884806cf9f6"
      },
      "execution_count": null,
      "outputs": [
        {
          "output_type": "stream",
          "name": "stdout",
          "text": [
            "Number of all training images: 86744\n",
            "Number of validation images: 10954\n",
            "Splitting the data...\n",
            "Number of training images: 78069\n",
            "Number of test images: 8675\n",
            "Encoding target labels...\n",
            "Preprocessing finished!\n"
          ]
        },
        {
          "output_type": "display_data",
          "data": {
            "text/plain": [
              "  0%|          | 0/2440 [00:00<?, ?it/s]"
            ],
            "application/vnd.jupyter.widget-view+json": {
              "version_major": 2,
              "version_minor": 0,
              "model_id": "24aa6e03275e4a96a495c43232ebfb48"
            }
          },
          "metadata": {}
        },
        {
          "output_type": "stream",
          "name": "stdout",
          "text": [
            "Epoch [0] : train_loss: 1.6246, val_loss: 1.6390, val_acc: 0.5204\n"
          ]
        },
        {
          "output_type": "display_data",
          "data": {
            "text/plain": [
              "  0%|          | 0/2440 [00:00<?, ?it/s]"
            ],
            "application/vnd.jupyter.widget-view+json": {
              "version_major": 2,
              "version_minor": 0,
              "model_id": "aa2d665d188b45d1a51a43d0ca9f1033"
            }
          },
          "metadata": {}
        },
        {
          "output_type": "stream",
          "name": "stdout",
          "text": [
            "Epoch [1] : train_loss: 1.6532, val_loss: 1.6108, val_acc: 0.5472\n"
          ]
        },
        {
          "output_type": "display_data",
          "data": {
            "text/plain": [
              "  0%|          | 0/2440 [00:00<?, ?it/s]"
            ],
            "application/vnd.jupyter.widget-view+json": {
              "version_major": 2,
              "version_minor": 0,
              "model_id": "3f243e871b674d6a93d62e6678fddd7d"
            }
          },
          "metadata": {}
        },
        {
          "output_type": "stream",
          "name": "stdout",
          "text": [
            "Epoch [2] : train_loss: 1.5846, val_loss: 1.5539, val_acc: 0.6063\n"
          ]
        }
      ]
    },
    {
      "cell_type": "markdown",
      "source": [
        "#Visualize History"
      ],
      "metadata": {
        "id": "QzfwEkIUqvSJ"
      }
    },
    {
      "cell_type": "code",
      "source": [
        "#get the datas from the training history\n",
        "val_loss = []\n",
        "train_loss = []\n",
        "val_acc = []\n",
        "time = list(range(len(history_RN)))\n",
        "for h in history_RN:\n",
        "    val_loss.append(h['val_loss'])\n",
        "    train_loss.append(h['train_loss'])\n",
        "    val_acc.append(h['val_acc'])"
      ],
      "metadata": {
        "id": "vMTY9W_dquZf"
      },
      "execution_count": null,
      "outputs": []
    },
    {
      "cell_type": "markdown",
      "source": [
        "**this is the first 5 epoch**"
      ],
      "metadata": {
        "id": "8WE9DLqzVslv"
      }
    },
    {
      "cell_type": "code",
      "source": [
        "#plot the changes in the training and validation loss\n",
        "plt.plot(time, val_loss, c='red', label='val_loss', marker='x')\n",
        "plt.plot(time, train_loss, c='blue', label='train_loss', marker='x')\n",
        "plt.xlabel('epochs')\n",
        "plt.ylabel('loss')\n",
        "plt.legend()\n",
        "plt.show()"
      ],
      "metadata": {
        "colab": {
          "base_uri": "https://localhost:8080/",
          "height": 279
        },
        "outputId": "26bcd4b8-1084-4d56-d3e5-01ce048ae408",
        "id": "RqVKRak0ViHp"
      },
      "execution_count": null,
      "outputs": [
        {
          "output_type": "display_data",
          "data": {
            "text/plain": [
              "<Figure size 432x288 with 1 Axes>"
            ],
            "image/png": "[encoded data removed]"
          },
          "metadata": {
            "needs_background": "light"
          }
        }
      ]
    },
    {
      "cell_type": "markdown",
      "source": [
        "**this is the continuation of the previous one, the last 3 epoch**"
      ],
      "metadata": {
        "id": "IyWGNsYzVqYE"
      }
    },
    {
      "cell_type": "code",
      "source": [
        "#plot the changes in the training and validation loss\n",
        "plt.plot(time, val_loss, c='red', label='val_loss', marker='x')\n",
        "plt.plot(time, train_loss, c='blue', label='train_loss', marker='x')\n",
        "plt.xlabel('epochs')\n",
        "plt.ylabel('loss')\n",
        "plt.legend()\n",
        "plt.show()"
      ],
      "metadata": {
        "id": "eQHKPYFDqzwB",
        "colab": {
          "base_uri": "https://localhost:8080/",
          "height": 279
        },
        "outputId": "611755a4-eef0-460f-a215-96cbf7ded0e8"
      },
      "execution_count": null,
      "outputs": [
        {
          "output_type": "display_data",
          "data": {
            "text/plain": [
              "<Figure size 432x288 with 1 Axes>"
            ],
            "image/png": "[encoded data removed]"
          },
          "metadata": {
            "needs_background": "light"
          }
        }
      ]
    },
    {
      "cell_type": "markdown",
      "source": [
        "**this is the first 5 epoch**"
      ],
      "metadata": {
        "id": "UHUol7jVVwi4"
      }
    },
    {
      "cell_type": "code",
      "source": [
        "#plot the changes in the validation accuracy\n",
        "plt.plot(time, val_acc, c='red', label='accuracy', marker='x')\n",
        "plt.xlabel('epochs')\n",
        "plt.ylabel('accuracy')\n",
        "plt.legend()\n",
        "plt.show()"
      ],
      "metadata": {
        "id": "wnbFD0BIq25i",
        "colab": {
          "base_uri": "https://localhost:8080/",
          "height": 279
        },
        "outputId": "3b12d516-9fed-4ef9-af24-e0e821e2dcc7"
      },
      "execution_count": null,
      "outputs": [
        {
          "output_type": "display_data",
          "data": {
            "text/plain": [
              "<Figure size 432x288 with 1 Axes>"
            ],
            "image/png": "[encoded data removed]"
          },
          "metadata": {
            "needs_background": "light"
          }
        }
      ]
    },
    {
      "cell_type": "markdown",
      "source": [
        "**this is the continuation of the previous one, the last 3 epoch**"
      ],
      "metadata": {
        "id": "VcJaoTzoUfZu"
      }
    },
    {
      "cell_type": "code",
      "source": [
        "#plot the changes in the validation accuracy\n",
        "plt.plot(time, val_acc, c='red', label='accuracy', marker='x')\n",
        "plt.xlabel('epochs')\n",
        "plt.ylabel('accuracy')\n",
        "plt.legend()\n",
        "plt.show()"
      ],
      "metadata": {
        "colab": {
          "base_uri": "https://localhost:8080/",
          "height": 279
        },
        "id": "zrUz39sLQewc",
        "outputId": "d2f83b07-2065-49fa-df26-5806170cf12d"
      },
      "execution_count": null,
      "outputs": [
        {
          "output_type": "display_data",
          "data": {
            "text/plain": [
              "<Figure size 432x288 with 1 Axes>"
            ],
            "image/png": "[encoded data removed]"
          },
          "metadata": {
            "needs_background": "light"
          }
        }
      ]
    },
    {
      "cell_type": "markdown",
      "source": [
        "#Save the model"
      ],
      "metadata": {
        "id": "zcMDNlhvq8__"
      }
    },
    {
      "cell_type": "code",
      "source": [
        "torch.save(Model, 'VGG_'+target+'_'+str(datetime.datetime.now())+'.pth')"
      ],
      "metadata": {
        "id": "XKkTi99tq8hA"
      },
      "execution_count": null,
      "outputs": []
    },
    {
      "cell_type": "markdown",
      "source": [
        "#Evaluation"
      ],
      "metadata": {
        "id": "a1Z1RdEPvASA"
      }
    },
    {
      "cell_type": "code",
      "source": [
        "#load the model if needed\n",
        "saved = torch.load('ResnetModel_gender.pth')"
      ],
      "metadata": {
        "id": "yt_jnuTgA5sU"
      },
      "execution_count": null,
      "outputs": []
    },
    {
      "cell_type": "code",
      "source": [
        "#reset target id needed\n",
        "target = \"race\""
      ],
      "metadata": {
        "id": "OZOsCt-Exb4L"
      },
      "execution_count": null,
      "outputs": []
    },
    {
      "cell_type": "markdown",
      "source": [
        "###Get the testing datas"
      ],
      "metadata": {
        "id": "O-H_xx83xclk"
      }
    },
    {
      "cell_type": "code",
      "source": [
        "X_train, Y_train, X_valid, Y_valid, X_test, Y_test = preprocess(target)\n",
        "#Creating the datasets\n",
        "test_dataset = FaceRecognitionDataset(X_test, Y_test, val_and_test_transform)\n",
        "#Create the dataloaders\n",
        "batch_size = 32\n",
        "num_workers = 2\n",
        "test_dl = DataLoader(test_dataset, batch_size, num_workers=num_workers, pin_memory=True)\n",
        "#Creating the dataloaders on the used device\n",
        "test_dl = DeviceDataLoader(test_dl, device)"
      ],
      "metadata": {
        "colab": {
          "base_uri": "https://localhost:8080/"
        },
        "id": "-2GZr_oFMfdo",
        "outputId": "d7fd6239-3a51-40ce-94ee-c7416c3d669b"
      },
      "execution_count": null,
      "outputs": [
        {
          "output_type": "stream",
          "name": "stdout",
          "text": [
            "Number of all training images: 86744\n",
            "Number of validation images: 10954\n",
            "Splitting the data...\n",
            "Number of training images: 78069\n",
            "Number of test images: 8675\n",
            "Encoding target labels...\n",
            "Preprocessing finished!\n"
          ]
        }
      ]
    },
    {
      "cell_type": "markdown",
      "source": [
        "#**Test accuracy**"
      ],
      "metadata": {
        "id": "o1yZ8RJTxmtR"
      }
    },
    {
      "cell_type": "code",
      "source": [
        "result = evaluate(Model, test_dl)\n",
        "print(\"Test loss: \" ,result['val_loss'])\n",
        "print(\"Test accuracy: \",result['val_acc'])"
      ],
      "metadata": {
        "colab": {
          "base_uri": "https://localhost:8080/"
        },
        "id": "vInwwqZ8u_zC",
        "outputId": "000d77d1-14f4-435e-fb5d-b9c1102635be"
      },
      "execution_count": null,
      "outputs": [
        {
          "output_type": "stream",
          "name": "stdout",
          "text": [
            "Test loss:  1.5530972480773926\n",
            "Test accuracy:  0.6076133251190186\n"
          ]
        }
      ]
    },
    {
      "cell_type": "markdown",
      "source": [
        "# **Predictions and confusion matrix**"
      ],
      "metadata": {
        "id": "UKbkjRCQxxH2"
      }
    },
    {
      "cell_type": "code",
      "source": [
        "preds = predict(Model, test_dl, target)"
      ],
      "metadata": {
        "id": "N1JIQ6D59QSG"
      },
      "execution_count": null,
      "outputs": []
    },
    {
      "cell_type": "markdown",
      "source": [
        "**Reshape the labels for checking the predictions**"
      ],
      "metadata": {
        "id": "OyD4uR_wx1dK"
      }
    },
    {
      "cell_type": "code",
      "source": [
        "labels = [targets for img,targets in test_dl]\n",
        "labels = [label.cpu().detach().numpy() for label in labels]\n",
        "if (target != \"gender\"):\n",
        "  labels = [np.argmax(label, axis=-1) for label in labels]\n",
        "labels = [item for sublist in labels for item in sublist] "
      ],
      "metadata": {
        "id": "bMOh9rfiHXG5"
      },
      "execution_count": null,
      "outputs": []
    },
    {
      "cell_type": "markdown",
      "source": [
        "**Classification report**"
      ],
      "metadata": {
        "id": "-19bbJogx_rj"
      }
    },
    {
      "cell_type": "code",
      "source": [
        "print(classification_report(labels, preds))"
      ],
      "metadata": {
        "id": "dDlG8pWjIBX2",
        "colab": {
          "base_uri": "https://localhost:8080/"
        },
        "outputId": "4ffb4289-d1d9-4f9d-a5d6-752b2d9da16a"
      },
      "execution_count": null,
      "outputs": [
        {
          "output_type": "stream",
          "name": "stdout",
          "text": [
            "              precision    recall  f1-score   support\n",
            "\n",
            "           0       0.79      0.80      0.79      1223\n",
            "           1       0.68      0.69      0.68      1229\n",
            "           2       0.67      0.65      0.66      1232\n",
            "           3       0.44      0.45      0.45      1337\n",
            "           4       0.43      0.38      0.40       922\n",
            "           5       0.57      0.51      0.54      1079\n",
            "           6       0.63      0.70      0.67      1653\n",
            "\n",
            "    accuracy                           0.61      8675\n",
            "   macro avg       0.60      0.60      0.60      8675\n",
            "weighted avg       0.61      0.61      0.61      8675\n",
            "\n"
          ]
        }
      ]
    },
    {
      "cell_type": "markdown",
      "source": [
        "**Confusion matrix**"
      ],
      "metadata": {
        "id": "MOdGy4GNyDv3"
      }
    },
    {
      "cell_type": "code",
      "source": [
        "cf_matrix = confusion_matrix(labels, preds)\n",
        "print(cf_matrix)"
      ],
      "metadata": {
        "id": "MfTwha3SIQV-",
        "colab": {
          "base_uri": "https://localhost:8080/"
        },
        "outputId": "d2829bb8-c869-41e9-b36b-23cfed677643"
      },
      "execution_count": null,
      "outputs": [
        {
          "output_type": "stream",
          "name": "stdout",
          "text": [
            "[[ 978    5   86   73   13   48   20]\n",
            " [  17  843   10   58   10  190  101]\n",
            " [ 108    4  795  172   85   37   31]\n",
            " [  63   45  145  607  149  121  207]\n",
            " [  14   20   81  169  349   13  276]\n",
            " [  49  266   49  117   15  551   32]\n",
            " [  16   61   27  188  190   15 1156]]\n"
          ]
        }
      ]
    },
    {
      "cell_type": "code",
      "source": [
        "fig, ax = plt.subplots(figsize=(10,7))      \n",
        "sns.heatmap(cf_matrix, annot=True, linewidths=.5,)"
      ],
      "metadata": {
        "id": "5Tl9mv7BIt-Y",
        "colab": {
          "base_uri": "https://localhost:8080/",
          "height": 445
        },
        "outputId": "af24df89-b44e-41e1-bdf1-d8b0dcb4509e"
      },
      "execution_count": null,
      "outputs": [
        {
          "output_type": "execute_result",
          "data": {
            "text/plain": [
              "<matplotlib.axes._subplots.AxesSubplot at 0x7f68da601b50>"
            ]
          },
          "metadata": {},
          "execution_count": 46
        },
        {
          "output_type": "display_data",
          "data": {
            "text/plain": [
              "<Figure size 720x504 with 2 Axes>"
            ],
            "image/png": "[encoded data removed]"
          },
          "metadata": {
            "needs_background": "light"
          }
        }
      ]
    },
    {
      "cell_type": "markdown",
      "source": [
        "The fact, that we run the model in two (with shuffled datas) helped the model improve, and now it is also recognise the 4th race (befor it was all 0s just like in the resnet model)"
      ],
      "metadata": {
        "id": "HEx4e3D4Vz9l"
      }
    }
  ]
}